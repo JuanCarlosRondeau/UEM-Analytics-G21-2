{
  "nbformat": 4,
  "nbformat_minor": 5,
  "metadata": {
    "kernelspec": {
      "display_name": "Python 3",
      "language": "python",
      "name": "python3"
    },
    "language_info": {
      "codemirror_mode": {
        "name": "ipython",
        "version": 3
      },
      "file_extension": ".py",
      "mimetype": "text/x-python",
      "name": "python",
      "nbconvert_exporter": "python",
      "pygments_lexer": "ipython3",
      "version": "3.8.8"
    },
    "colab": {
      "name": "probando notas reales-sociales.ipynb",
      "provenance": []
    }
  },
  "cells": [
    {
      "cell_type": "markdown",
      "metadata": {
        "id": "686157a8"
      },
      "source": [
        "## Probando simulacion de datos"
      ],
      "id": "686157a8"
    },
    {
      "cell_type": "code",
      "metadata": {
        "id": "0aa456b4",
        "outputId": "bf0265c0-dfec-4071-b13f-3a5b132c191c"
      },
      "source": [
        "import random\n",
        "import matplotlib.pyplot as plt\n",
        "%matplotlib inline\n",
        "\n",
        "horas=[]\n",
        "for _ in range(2000):\n",
        "    \n",
        "    horas.append(round((random.gauss(10.35,1.5))))\n",
        "\n",
        "\n",
        "plt.hist(horas, bins=5)\n",
        "plt.show() "
      ],
      "id": "0aa456b4",
      "execution_count": null,
      "outputs": [
        {
          "data": {
            "image/png": "[encoded data removed]",
            "text/plain": [
              "<Figure size 432x288 with 1 Axes>"
            ]
          },
          "metadata": {
            "needs_background": "light"
          },
          "output_type": "display_data"
        }
      ]
    },
    {
      "cell_type": "code",
      "metadata": {
        "id": "a55eae24",
        "outputId": "6bb504ad-b3d8-4217-c465-a4895b8689e8"
      },
      "source": [
        "mins=[0,15,30,45]\n",
        "min_=[]\n",
        "for _ in range(2000):\n",
        "       min_.append(random.choices(mins,weights=[4,0.5,3,0.5],k=1)[0])\n",
        "plt.hist(min_, bins=4)\n",
        "plt.show()"
      ],
      "id": "a55eae24",
      "execution_count": null,
      "outputs": [
        {
          "data": {
            "image/png": "[encoded data removed]",
            "text/plain": [
              "<Figure size 432x288 with 1 Axes>"
            ]
          },
          "metadata": {
            "needs_background": "light"
          },
          "output_type": "display_data"
        }
      ]
    },
    {
      "cell_type": "code",
      "metadata": {
        "id": "9143da4c",
        "outputId": "913af587-03ef-4833-d2ac-d5cdee53e110"
      },
      "source": [
        "import random\n",
        "import matplotlib.pyplot as plt\n",
        "%matplotlib inline\n",
        "\n",
        "dias=[]\n",
        "for _ in range(2000):\n",
        "    \n",
        "    dias.append(abs(round((random.gauss(6,2.8)))))\n",
        "\n",
        "for i,pos in enumerate(dias):\n",
        "    if pos==0:\n",
        "        dias[i]=1\n",
        "plt.hist(dias, bins=5)\n",
        "plt.show() "
      ],
      "id": "9143da4c",
      "execution_count": null,
      "outputs": [
        {
          "data": {
            "image/png": "[encoded data removed]",
            "text/plain": [
              "<Figure size 432x288 with 1 Axes>"
            ]
          },
          "metadata": {
            "needs_background": "light"
          },
          "output_type": "display_data"
        }
      ]
    },
    {
      "cell_type": "code",
      "metadata": {
        "id": "cbe131d2"
      },
      "source": [
        "mes=[]\n",
        "año=[]\n",
        "for _ in range(2000):\n",
        "    año.append(2021)\n",
        "    mes.append(5)"
      ],
      "id": "cbe131d2",
      "execution_count": null,
      "outputs": []
    },
    {
      "cell_type": "code",
      "metadata": {
        "scrolled": true,
        "id": "d0a5af1e",
        "outputId": "745576ce-a6b4-43f9-8a25-c0428565f532"
      },
      "source": [
        "import pandas as pd\n",
        "import numpy as np\n",
        "df2 = pd.DataFrame(\n",
        "    {'año': año,\n",
        "     'mes': mes,\n",
        "     'dia': dias,\n",
        "     'hora': horas,\n",
        "     'min': min_\n",
        "    })\n",
        "df2['dateInt']=df2['año'].astype(str) + df2['mes'].astype(str).str.zfill(2)+ df2['dia'].astype(str).str.zfill(2)\n",
        "df2['Date_start_horario'] = pd.to_datetime(df2['dateInt'], format='%Y%m%d')\n",
        "df2"
      ],
      "id": "d0a5af1e",
      "execution_count": null,
      "outputs": [
        {
          "data": {
            "text/html": [
              "<div>\n",
              "<style scoped>\n",
              "    .dataframe tbody tr th:only-of-type {\n",
              "        vertical-align: middle;\n",
              "    }\n",
              "\n",
              "    .dataframe tbody tr th {\n",
              "        vertical-align: top;\n",
              "    }\n",
              "\n",
              "    .dataframe thead th {\n",
              "        text-align: right;\n",
              "    }\n",
              "</style>\n",
              "<table border=\"1\" class=\"dataframe\">\n",
              "  <thead>\n",
              "    <tr style=\"text-align: right;\">\n",
              "      <th></th>\n",
              "      <th>año</th>\n",
              "      <th>mes</th>\n",
              "      <th>dia</th>\n",
              "      <th>hora</th>\n",
              "      <th>min</th>\n",
              "      <th>dateInt</th>\n",
              "      <th>Date_start_horario</th>\n",
              "    </tr>\n",
              "  </thead>\n",
              "  <tbody>\n",
              "    <tr>\n",
              "      <th>0</th>\n",
              "      <td>2021</td>\n",
              "      <td>5</td>\n",
              "      <td>14</td>\n",
              "      <td>9</td>\n",
              "      <td>0</td>\n",
              "      <td>20210514</td>\n",
              "      <td>2021-05-14</td>\n",
              "    </tr>\n",
              "    <tr>\n",
              "      <th>1</th>\n",
              "      <td>2021</td>\n",
              "      <td>5</td>\n",
              "      <td>15</td>\n",
              "      <td>11</td>\n",
              "      <td>0</td>\n",
              "      <td>20210515</td>\n",
              "      <td>2021-05-15</td>\n",
              "    </tr>\n",
              "    <tr>\n",
              "      <th>2</th>\n",
              "      <td>2021</td>\n",
              "      <td>5</td>\n",
              "      <td>14</td>\n",
              "      <td>12</td>\n",
              "      <td>0</td>\n",
              "      <td>20210514</td>\n",
              "      <td>2021-05-14</td>\n",
              "    </tr>\n",
              "    <tr>\n",
              "      <th>3</th>\n",
              "      <td>2021</td>\n",
              "      <td>5</td>\n",
              "      <td>15</td>\n",
              "      <td>13</td>\n",
              "      <td>0</td>\n",
              "      <td>20210515</td>\n",
              "      <td>2021-05-15</td>\n",
              "    </tr>\n",
              "    <tr>\n",
              "      <th>4</th>\n",
              "      <td>2021</td>\n",
              "      <td>5</td>\n",
              "      <td>18</td>\n",
              "      <td>8</td>\n",
              "      <td>0</td>\n",
              "      <td>20210518</td>\n",
              "      <td>2021-05-18</td>\n",
              "    </tr>\n",
              "    <tr>\n",
              "      <th>...</th>\n",
              "      <td>...</td>\n",
              "      <td>...</td>\n",
              "      <td>...</td>\n",
              "      <td>...</td>\n",
              "      <td>...</td>\n",
              "      <td>...</td>\n",
              "      <td>...</td>\n",
              "    </tr>\n",
              "    <tr>\n",
              "      <th>1995</th>\n",
              "      <td>2021</td>\n",
              "      <td>5</td>\n",
              "      <td>16</td>\n",
              "      <td>11</td>\n",
              "      <td>30</td>\n",
              "      <td>20210516</td>\n",
              "      <td>2021-05-16</td>\n",
              "    </tr>\n",
              "    <tr>\n",
              "      <th>1996</th>\n",
              "      <td>2021</td>\n",
              "      <td>5</td>\n",
              "      <td>15</td>\n",
              "      <td>11</td>\n",
              "      <td>15</td>\n",
              "      <td>20210515</td>\n",
              "      <td>2021-05-15</td>\n",
              "    </tr>\n",
              "    <tr>\n",
              "      <th>1997</th>\n",
              "      <td>2021</td>\n",
              "      <td>5</td>\n",
              "      <td>11</td>\n",
              "      <td>12</td>\n",
              "      <td>30</td>\n",
              "      <td>20210511</td>\n",
              "      <td>2021-05-11</td>\n",
              "    </tr>\n",
              "    <tr>\n",
              "      <th>1998</th>\n",
              "      <td>2021</td>\n",
              "      <td>5</td>\n",
              "      <td>17</td>\n",
              "      <td>8</td>\n",
              "      <td>30</td>\n",
              "      <td>20210517</td>\n",
              "      <td>2021-05-17</td>\n",
              "    </tr>\n",
              "    <tr>\n",
              "      <th>1999</th>\n",
              "      <td>2021</td>\n",
              "      <td>5</td>\n",
              "      <td>17</td>\n",
              "      <td>8</td>\n",
              "      <td>30</td>\n",
              "      <td>20210517</td>\n",
              "      <td>2021-05-17</td>\n",
              "    </tr>\n",
              "  </tbody>\n",
              "</table>\n",
              "<p>2000 rows × 7 columns</p>\n",
              "</div>"
            ],
            "text/plain": [
              "       año  mes  dia  hora  min   dateInt Date_start_horario\n",
              "0     2021    5   14     9    0  20210514         2021-05-14\n",
              "1     2021    5   15    11    0  20210515         2021-05-15\n",
              "2     2021    5   14    12    0  20210514         2021-05-14\n",
              "3     2021    5   15    13    0  20210515         2021-05-15\n",
              "4     2021    5   18     8    0  20210518         2021-05-18\n",
              "...    ...  ...  ...   ...  ...       ...                ...\n",
              "1995  2021    5   16    11   30  20210516         2021-05-16\n",
              "1996  2021    5   15    11   15  20210515         2021-05-15\n",
              "1997  2021    5   11    12   30  20210511         2021-05-11\n",
              "1998  2021    5   17     8   30  20210517         2021-05-17\n",
              "1999  2021    5   17     8   30  20210517         2021-05-17\n",
              "\n",
              "[2000 rows x 7 columns]"
            ]
          },
          "execution_count": 8,
          "metadata": {},
          "output_type": "execute_result"
        }
      ]
    },
    {
      "cell_type": "code",
      "metadata": {
        "scrolled": true,
        "id": "fdbb8697",
        "outputId": "e25dc608-a386-44e3-f3fc-3959653f7c81"
      },
      "source": [
        "from datetime import datetime, timedelta\n",
        "from datetime import datetime, timedelta\n",
        "df2['Date_start_horario'] +=  pd.to_timedelta(df2.hora, unit='h')\n",
        "df2"
      ],
      "id": "fdbb8697",
      "execution_count": null,
      "outputs": [
        {
          "data": {
            "text/html": [
              "<div>\n",
              "<style scoped>\n",
              "    .dataframe tbody tr th:only-of-type {\n",
              "        vertical-align: middle;\n",
              "    }\n",
              "\n",
              "    .dataframe tbody tr th {\n",
              "        vertical-align: top;\n",
              "    }\n",
              "\n",
              "    .dataframe thead th {\n",
              "        text-align: right;\n",
              "    }\n",
              "</style>\n",
              "<table border=\"1\" class=\"dataframe\">\n",
              "  <thead>\n",
              "    <tr style=\"text-align: right;\">\n",
              "      <th></th>\n",
              "      <th>año</th>\n",
              "      <th>mes</th>\n",
              "      <th>dia</th>\n",
              "      <th>hora</th>\n",
              "      <th>min</th>\n",
              "      <th>dateInt</th>\n",
              "      <th>Date_start_horario</th>\n",
              "    </tr>\n",
              "  </thead>\n",
              "  <tbody>\n",
              "    <tr>\n",
              "      <th>0</th>\n",
              "      <td>2021</td>\n",
              "      <td>5</td>\n",
              "      <td>14</td>\n",
              "      <td>9</td>\n",
              "      <td>0</td>\n",
              "      <td>20210514</td>\n",
              "      <td>2021-05-14 09:00:00</td>\n",
              "    </tr>\n",
              "    <tr>\n",
              "      <th>1</th>\n",
              "      <td>2021</td>\n",
              "      <td>5</td>\n",
              "      <td>15</td>\n",
              "      <td>11</td>\n",
              "      <td>0</td>\n",
              "      <td>20210515</td>\n",
              "      <td>2021-05-15 11:00:00</td>\n",
              "    </tr>\n",
              "    <tr>\n",
              "      <th>2</th>\n",
              "      <td>2021</td>\n",
              "      <td>5</td>\n",
              "      <td>14</td>\n",
              "      <td>12</td>\n",
              "      <td>0</td>\n",
              "      <td>20210514</td>\n",
              "      <td>2021-05-14 12:00:00</td>\n",
              "    </tr>\n",
              "    <tr>\n",
              "      <th>3</th>\n",
              "      <td>2021</td>\n",
              "      <td>5</td>\n",
              "      <td>15</td>\n",
              "      <td>13</td>\n",
              "      <td>0</td>\n",
              "      <td>20210515</td>\n",
              "      <td>2021-05-15 13:00:00</td>\n",
              "    </tr>\n",
              "    <tr>\n",
              "      <th>4</th>\n",
              "      <td>2021</td>\n",
              "      <td>5</td>\n",
              "      <td>18</td>\n",
              "      <td>8</td>\n",
              "      <td>0</td>\n",
              "      <td>20210518</td>\n",
              "      <td>2021-05-18 08:00:00</td>\n",
              "    </tr>\n",
              "    <tr>\n",
              "      <th>...</th>\n",
              "      <td>...</td>\n",
              "      <td>...</td>\n",
              "      <td>...</td>\n",
              "      <td>...</td>\n",
              "      <td>...</td>\n",
              "      <td>...</td>\n",
              "      <td>...</td>\n",
              "    </tr>\n",
              "    <tr>\n",
              "      <th>1995</th>\n",
              "      <td>2021</td>\n",
              "      <td>5</td>\n",
              "      <td>16</td>\n",
              "      <td>11</td>\n",
              "      <td>30</td>\n",
              "      <td>20210516</td>\n",
              "      <td>2021-05-16 11:00:00</td>\n",
              "    </tr>\n",
              "    <tr>\n",
              "      <th>1996</th>\n",
              "      <td>2021</td>\n",
              "      <td>5</td>\n",
              "      <td>15</td>\n",
              "      <td>11</td>\n",
              "      <td>15</td>\n",
              "      <td>20210515</td>\n",
              "      <td>2021-05-15 11:00:00</td>\n",
              "    </tr>\n",
              "    <tr>\n",
              "      <th>1997</th>\n",
              "      <td>2021</td>\n",
              "      <td>5</td>\n",
              "      <td>11</td>\n",
              "      <td>12</td>\n",
              "      <td>30</td>\n",
              "      <td>20210511</td>\n",
              "      <td>2021-05-11 12:00:00</td>\n",
              "    </tr>\n",
              "    <tr>\n",
              "      <th>1998</th>\n",
              "      <td>2021</td>\n",
              "      <td>5</td>\n",
              "      <td>17</td>\n",
              "      <td>8</td>\n",
              "      <td>30</td>\n",
              "      <td>20210517</td>\n",
              "      <td>2021-05-17 08:00:00</td>\n",
              "    </tr>\n",
              "    <tr>\n",
              "      <th>1999</th>\n",
              "      <td>2021</td>\n",
              "      <td>5</td>\n",
              "      <td>17</td>\n",
              "      <td>8</td>\n",
              "      <td>30</td>\n",
              "      <td>20210517</td>\n",
              "      <td>2021-05-17 08:00:00</td>\n",
              "    </tr>\n",
              "  </tbody>\n",
              "</table>\n",
              "<p>2000 rows × 7 columns</p>\n",
              "</div>"
            ],
            "text/plain": [
              "       año  mes  dia  hora  min   dateInt  Date_start_horario\n",
              "0     2021    5   14     9    0  20210514 2021-05-14 09:00:00\n",
              "1     2021    5   15    11    0  20210515 2021-05-15 11:00:00\n",
              "2     2021    5   14    12    0  20210514 2021-05-14 12:00:00\n",
              "3     2021    5   15    13    0  20210515 2021-05-15 13:00:00\n",
              "4     2021    5   18     8    0  20210518 2021-05-18 08:00:00\n",
              "...    ...  ...  ...   ...  ...       ...                 ...\n",
              "1995  2021    5   16    11   30  20210516 2021-05-16 11:00:00\n",
              "1996  2021    5   15    11   15  20210515 2021-05-15 11:00:00\n",
              "1997  2021    5   11    12   30  20210511 2021-05-11 12:00:00\n",
              "1998  2021    5   17     8   30  20210517 2021-05-17 08:00:00\n",
              "1999  2021    5   17     8   30  20210517 2021-05-17 08:00:00\n",
              "\n",
              "[2000 rows x 7 columns]"
            ]
          },
          "execution_count": 9,
          "metadata": {},
          "output_type": "execute_result"
        }
      ]
    },
    {
      "cell_type": "code",
      "metadata": {
        "id": "9c900339"
      },
      "source": [
        "df2['Date_start_horario'] += pd.to_timedelta(df2[\"min\"].values.tolist(), unit='m')\n"
      ],
      "id": "9c900339",
      "execution_count": null,
      "outputs": []
    },
    {
      "cell_type": "code",
      "metadata": {
        "id": "3cf0715a"
      },
      "source": [
        ""
      ],
      "id": "3cf0715a",
      "execution_count": null,
      "outputs": []
    },
    {
      "cell_type": "code",
      "metadata": {
        "id": "b2bb857b",
        "outputId": "89b72e76-857d-4e19-b8d0-5e5cf8ccbe20"
      },
      "source": [
        "df3 = pd.DataFrame(\n",
        "    {'año': año,\n",
        "     'mes': mes,\n",
        "     'dia': dias,\n",
        "     'hora': mes,\n",
        "    })\n",
        "df3[\"mes\"]=df3[\"mes\"]+1\n",
        "df3[\"hora\"]=df3[\"mes\"]-6\n",
        "df3['dateInt']=df2['año'].astype(str) + df3['mes'].astype(str).str.zfill(2)+ df3['dia'].astype(str).str.zfill(2)\n",
        "df3['Date_start_Examenes'] = pd.to_datetime(df3['dateInt'], format='%Y%m%d')\n",
        "df3['Date_start_Examenes'] += pd.to_timedelta(df3[\"hora\"].values.tolist(),unit='h')\n",
        "df3"
      ],
      "id": "b2bb857b",
      "execution_count": null,
      "outputs": [
        {
          "data": {
            "text/html": [
              "<div>\n",
              "<style scoped>\n",
              "    .dataframe tbody tr th:only-of-type {\n",
              "        vertical-align: middle;\n",
              "    }\n",
              "\n",
              "    .dataframe tbody tr th {\n",
              "        vertical-align: top;\n",
              "    }\n",
              "\n",
              "    .dataframe thead th {\n",
              "        text-align: right;\n",
              "    }\n",
              "</style>\n",
              "<table border=\"1\" class=\"dataframe\">\n",
              "  <thead>\n",
              "    <tr style=\"text-align: right;\">\n",
              "      <th></th>\n",
              "      <th>año</th>\n",
              "      <th>mes</th>\n",
              "      <th>dia</th>\n",
              "      <th>hora</th>\n",
              "      <th>dateInt</th>\n",
              "      <th>Date_start_Examenes</th>\n",
              "    </tr>\n",
              "  </thead>\n",
              "  <tbody>\n",
              "    <tr>\n",
              "      <th>0</th>\n",
              "      <td>2021</td>\n",
              "      <td>6</td>\n",
              "      <td>4</td>\n",
              "      <td>0</td>\n",
              "      <td>20210604</td>\n",
              "      <td>2021-06-04</td>\n",
              "    </tr>\n",
              "    <tr>\n",
              "      <th>1</th>\n",
              "      <td>2021</td>\n",
              "      <td>6</td>\n",
              "      <td>8</td>\n",
              "      <td>0</td>\n",
              "      <td>20210608</td>\n",
              "      <td>2021-06-08</td>\n",
              "    </tr>\n",
              "    <tr>\n",
              "      <th>2</th>\n",
              "      <td>2021</td>\n",
              "      <td>6</td>\n",
              "      <td>7</td>\n",
              "      <td>0</td>\n",
              "      <td>20210607</td>\n",
              "      <td>2021-06-07</td>\n",
              "    </tr>\n",
              "    <tr>\n",
              "      <th>3</th>\n",
              "      <td>2021</td>\n",
              "      <td>6</td>\n",
              "      <td>3</td>\n",
              "      <td>0</td>\n",
              "      <td>20210603</td>\n",
              "      <td>2021-06-03</td>\n",
              "    </tr>\n",
              "    <tr>\n",
              "      <th>4</th>\n",
              "      <td>2021</td>\n",
              "      <td>6</td>\n",
              "      <td>5</td>\n",
              "      <td>0</td>\n",
              "      <td>20210605</td>\n",
              "      <td>2021-06-05</td>\n",
              "    </tr>\n",
              "    <tr>\n",
              "      <th>...</th>\n",
              "      <td>...</td>\n",
              "      <td>...</td>\n",
              "      <td>...</td>\n",
              "      <td>...</td>\n",
              "      <td>...</td>\n",
              "      <td>...</td>\n",
              "    </tr>\n",
              "    <tr>\n",
              "      <th>1995</th>\n",
              "      <td>2021</td>\n",
              "      <td>6</td>\n",
              "      <td>8</td>\n",
              "      <td>0</td>\n",
              "      <td>20210608</td>\n",
              "      <td>2021-06-08</td>\n",
              "    </tr>\n",
              "    <tr>\n",
              "      <th>1996</th>\n",
              "      <td>2021</td>\n",
              "      <td>6</td>\n",
              "      <td>6</td>\n",
              "      <td>0</td>\n",
              "      <td>20210606</td>\n",
              "      <td>2021-06-06</td>\n",
              "    </tr>\n",
              "    <tr>\n",
              "      <th>1997</th>\n",
              "      <td>2021</td>\n",
              "      <td>6</td>\n",
              "      <td>5</td>\n",
              "      <td>0</td>\n",
              "      <td>20210605</td>\n",
              "      <td>2021-06-05</td>\n",
              "    </tr>\n",
              "    <tr>\n",
              "      <th>1998</th>\n",
              "      <td>2021</td>\n",
              "      <td>6</td>\n",
              "      <td>5</td>\n",
              "      <td>0</td>\n",
              "      <td>20210605</td>\n",
              "      <td>2021-06-05</td>\n",
              "    </tr>\n",
              "    <tr>\n",
              "      <th>1999</th>\n",
              "      <td>2021</td>\n",
              "      <td>6</td>\n",
              "      <td>6</td>\n",
              "      <td>0</td>\n",
              "      <td>20210606</td>\n",
              "      <td>2021-06-06</td>\n",
              "    </tr>\n",
              "  </tbody>\n",
              "</table>\n",
              "<p>2000 rows × 6 columns</p>\n",
              "</div>"
            ],
            "text/plain": [
              "       año  mes  dia  hora   dateInt Date_start_Examenes\n",
              "0     2021    6    4     0  20210604          2021-06-04\n",
              "1     2021    6    8     0  20210608          2021-06-08\n",
              "2     2021    6    7     0  20210607          2021-06-07\n",
              "3     2021    6    3     0  20210603          2021-06-03\n",
              "4     2021    6    5     0  20210605          2021-06-05\n",
              "...    ...  ...  ...   ...       ...                 ...\n",
              "1995  2021    6    8     0  20210608          2021-06-08\n",
              "1996  2021    6    6     0  20210606          2021-06-06\n",
              "1997  2021    6    5     0  20210605          2021-06-05\n",
              "1998  2021    6    5     0  20210605          2021-06-05\n",
              "1999  2021    6    6     0  20210606          2021-06-06\n",
              "\n",
              "[2000 rows x 6 columns]"
            ]
          },
          "execution_count": 17,
          "metadata": {},
          "output_type": "execute_result"
        }
      ]
    },
    {
      "cell_type": "code",
      "metadata": {
        "id": "e5973035",
        "outputId": "7ea4abed-979f-44ea-c028-8fc07f3d78ce"
      },
      "source": [
        "df2[\"Date_start_Examenes\"]=df3['Date_start_Examenes']\n",
        "df2"
      ],
      "id": "e5973035",
      "execution_count": null,
      "outputs": [
        {
          "data": {
            "text/html": [
              "<div>\n",
              "<style scoped>\n",
              "    .dataframe tbody tr th:only-of-type {\n",
              "        vertical-align: middle;\n",
              "    }\n",
              "\n",
              "    .dataframe tbody tr th {\n",
              "        vertical-align: top;\n",
              "    }\n",
              "\n",
              "    .dataframe thead th {\n",
              "        text-align: right;\n",
              "    }\n",
              "</style>\n",
              "<table border=\"1\" class=\"dataframe\">\n",
              "  <thead>\n",
              "    <tr style=\"text-align: right;\">\n",
              "      <th></th>\n",
              "      <th>año</th>\n",
              "      <th>mes</th>\n",
              "      <th>dia</th>\n",
              "      <th>hora</th>\n",
              "      <th>min</th>\n",
              "      <th>dateInt</th>\n",
              "      <th>Date_start_horario</th>\n",
              "      <th>Date_start_Examenes</th>\n",
              "    </tr>\n",
              "  </thead>\n",
              "  <tbody>\n",
              "    <tr>\n",
              "      <th>0</th>\n",
              "      <td>2021</td>\n",
              "      <td>5</td>\n",
              "      <td>14</td>\n",
              "      <td>9</td>\n",
              "      <td>0</td>\n",
              "      <td>20210514</td>\n",
              "      <td>2021-05-14 09:00:00</td>\n",
              "      <td>2021-06-04</td>\n",
              "    </tr>\n",
              "    <tr>\n",
              "      <th>1</th>\n",
              "      <td>2021</td>\n",
              "      <td>5</td>\n",
              "      <td>15</td>\n",
              "      <td>11</td>\n",
              "      <td>0</td>\n",
              "      <td>20210515</td>\n",
              "      <td>2021-05-15 11:00:00</td>\n",
              "      <td>2021-06-08</td>\n",
              "    </tr>\n",
              "    <tr>\n",
              "      <th>2</th>\n",
              "      <td>2021</td>\n",
              "      <td>5</td>\n",
              "      <td>14</td>\n",
              "      <td>12</td>\n",
              "      <td>0</td>\n",
              "      <td>20210514</td>\n",
              "      <td>2021-05-14 12:00:00</td>\n",
              "      <td>2021-06-07</td>\n",
              "    </tr>\n",
              "    <tr>\n",
              "      <th>3</th>\n",
              "      <td>2021</td>\n",
              "      <td>5</td>\n",
              "      <td>15</td>\n",
              "      <td>13</td>\n",
              "      <td>0</td>\n",
              "      <td>20210515</td>\n",
              "      <td>2021-05-15 13:00:00</td>\n",
              "      <td>2021-06-03</td>\n",
              "    </tr>\n",
              "    <tr>\n",
              "      <th>4</th>\n",
              "      <td>2021</td>\n",
              "      <td>5</td>\n",
              "      <td>18</td>\n",
              "      <td>8</td>\n",
              "      <td>0</td>\n",
              "      <td>20210518</td>\n",
              "      <td>2021-05-18 08:00:00</td>\n",
              "      <td>2021-06-05</td>\n",
              "    </tr>\n",
              "    <tr>\n",
              "      <th>...</th>\n",
              "      <td>...</td>\n",
              "      <td>...</td>\n",
              "      <td>...</td>\n",
              "      <td>...</td>\n",
              "      <td>...</td>\n",
              "      <td>...</td>\n",
              "      <td>...</td>\n",
              "      <td>...</td>\n",
              "    </tr>\n",
              "    <tr>\n",
              "      <th>1995</th>\n",
              "      <td>2021</td>\n",
              "      <td>5</td>\n",
              "      <td>16</td>\n",
              "      <td>11</td>\n",
              "      <td>30</td>\n",
              "      <td>20210516</td>\n",
              "      <td>2021-05-16 11:30:00</td>\n",
              "      <td>2021-06-08</td>\n",
              "    </tr>\n",
              "    <tr>\n",
              "      <th>1996</th>\n",
              "      <td>2021</td>\n",
              "      <td>5</td>\n",
              "      <td>15</td>\n",
              "      <td>11</td>\n",
              "      <td>15</td>\n",
              "      <td>20210515</td>\n",
              "      <td>2021-05-15 11:15:00</td>\n",
              "      <td>2021-06-06</td>\n",
              "    </tr>\n",
              "    <tr>\n",
              "      <th>1997</th>\n",
              "      <td>2021</td>\n",
              "      <td>5</td>\n",
              "      <td>11</td>\n",
              "      <td>12</td>\n",
              "      <td>30</td>\n",
              "      <td>20210511</td>\n",
              "      <td>2021-05-11 12:30:00</td>\n",
              "      <td>2021-06-05</td>\n",
              "    </tr>\n",
              "    <tr>\n",
              "      <th>1998</th>\n",
              "      <td>2021</td>\n",
              "      <td>5</td>\n",
              "      <td>17</td>\n",
              "      <td>8</td>\n",
              "      <td>30</td>\n",
              "      <td>20210517</td>\n",
              "      <td>2021-05-17 08:30:00</td>\n",
              "      <td>2021-06-05</td>\n",
              "    </tr>\n",
              "    <tr>\n",
              "      <th>1999</th>\n",
              "      <td>2021</td>\n",
              "      <td>5</td>\n",
              "      <td>17</td>\n",
              "      <td>8</td>\n",
              "      <td>30</td>\n",
              "      <td>20210517</td>\n",
              "      <td>2021-05-17 08:30:00</td>\n",
              "      <td>2021-06-06</td>\n",
              "    </tr>\n",
              "  </tbody>\n",
              "</table>\n",
              "<p>2000 rows × 8 columns</p>\n",
              "</div>"
            ],
            "text/plain": [
              "       año  mes  dia  hora  min   dateInt  Date_start_horario  \\\n",
              "0     2021    5   14     9    0  20210514 2021-05-14 09:00:00   \n",
              "1     2021    5   15    11    0  20210515 2021-05-15 11:00:00   \n",
              "2     2021    5   14    12    0  20210514 2021-05-14 12:00:00   \n",
              "3     2021    5   15    13    0  20210515 2021-05-15 13:00:00   \n",
              "4     2021    5   18     8    0  20210518 2021-05-18 08:00:00   \n",
              "...    ...  ...  ...   ...  ...       ...                 ...   \n",
              "1995  2021    5   16    11   30  20210516 2021-05-16 11:30:00   \n",
              "1996  2021    5   15    11   15  20210515 2021-05-15 11:15:00   \n",
              "1997  2021    5   11    12   30  20210511 2021-05-11 12:30:00   \n",
              "1998  2021    5   17     8   30  20210517 2021-05-17 08:30:00   \n",
              "1999  2021    5   17     8   30  20210517 2021-05-17 08:30:00   \n",
              "\n",
              "     Date_start_Examenes  \n",
              "0             2021-06-04  \n",
              "1             2021-06-08  \n",
              "2             2021-06-07  \n",
              "3             2021-06-03  \n",
              "4             2021-06-05  \n",
              "...                  ...  \n",
              "1995          2021-06-08  \n",
              "1996          2021-06-06  \n",
              "1997          2021-06-05  \n",
              "1998          2021-06-05  \n",
              "1999          2021-06-06  \n",
              "\n",
              "[2000 rows x 8 columns]"
            ]
          },
          "execution_count": 18,
          "metadata": {},
          "output_type": "execute_result"
        }
      ]
    },
    {
      "cell_type": "code",
      "metadata": {
        "scrolled": true,
        "id": "e52de497",
        "outputId": "6f6f3acf-5110-4dba-dada-30408a95cec2"
      },
      "source": [
        "\n",
        "\n",
        "df2 = df2.rename({'Date': 'Date_start_horario'}, axis=1)  # new method\n",
        "\n",
        "df2\n"
      ],
      "id": "e52de497",
      "execution_count": null,
      "outputs": [
        {
          "data": {
            "text/html": [
              "<div>\n",
              "<style scoped>\n",
              "    .dataframe tbody tr th:only-of-type {\n",
              "        vertical-align: middle;\n",
              "    }\n",
              "\n",
              "    .dataframe tbody tr th {\n",
              "        vertical-align: top;\n",
              "    }\n",
              "\n",
              "    .dataframe thead th {\n",
              "        text-align: right;\n",
              "    }\n",
              "</style>\n",
              "<table border=\"1\" class=\"dataframe\">\n",
              "  <thead>\n",
              "    <tr style=\"text-align: right;\">\n",
              "      <th></th>\n",
              "      <th>año</th>\n",
              "      <th>mes</th>\n",
              "      <th>dia</th>\n",
              "      <th>hora</th>\n",
              "      <th>min</th>\n",
              "      <th>dateInt</th>\n",
              "      <th>Date_start_horario</th>\n",
              "      <th>Date_start_Examenes</th>\n",
              "    </tr>\n",
              "  </thead>\n",
              "  <tbody>\n",
              "    <tr>\n",
              "      <th>0</th>\n",
              "      <td>2021</td>\n",
              "      <td>5</td>\n",
              "      <td>14</td>\n",
              "      <td>9</td>\n",
              "      <td>0</td>\n",
              "      <td>20210514</td>\n",
              "      <td>2021-05-14 09:00:00</td>\n",
              "      <td>2021-06-04</td>\n",
              "    </tr>\n",
              "    <tr>\n",
              "      <th>1</th>\n",
              "      <td>2021</td>\n",
              "      <td>5</td>\n",
              "      <td>15</td>\n",
              "      <td>11</td>\n",
              "      <td>0</td>\n",
              "      <td>20210515</td>\n",
              "      <td>2021-05-15 11:00:00</td>\n",
              "      <td>2021-06-08</td>\n",
              "    </tr>\n",
              "    <tr>\n",
              "      <th>2</th>\n",
              "      <td>2021</td>\n",
              "      <td>5</td>\n",
              "      <td>14</td>\n",
              "      <td>12</td>\n",
              "      <td>0</td>\n",
              "      <td>20210514</td>\n",
              "      <td>2021-05-14 12:00:00</td>\n",
              "      <td>2021-06-07</td>\n",
              "    </tr>\n",
              "    <tr>\n",
              "      <th>3</th>\n",
              "      <td>2021</td>\n",
              "      <td>5</td>\n",
              "      <td>15</td>\n",
              "      <td>13</td>\n",
              "      <td>0</td>\n",
              "      <td>20210515</td>\n",
              "      <td>2021-05-15 13:00:00</td>\n",
              "      <td>2021-06-03</td>\n",
              "    </tr>\n",
              "    <tr>\n",
              "      <th>4</th>\n",
              "      <td>2021</td>\n",
              "      <td>5</td>\n",
              "      <td>18</td>\n",
              "      <td>8</td>\n",
              "      <td>0</td>\n",
              "      <td>20210518</td>\n",
              "      <td>2021-05-18 08:00:00</td>\n",
              "      <td>2021-06-05</td>\n",
              "    </tr>\n",
              "    <tr>\n",
              "      <th>...</th>\n",
              "      <td>...</td>\n",
              "      <td>...</td>\n",
              "      <td>...</td>\n",
              "      <td>...</td>\n",
              "      <td>...</td>\n",
              "      <td>...</td>\n",
              "      <td>...</td>\n",
              "      <td>...</td>\n",
              "    </tr>\n",
              "    <tr>\n",
              "      <th>1995</th>\n",
              "      <td>2021</td>\n",
              "      <td>5</td>\n",
              "      <td>16</td>\n",
              "      <td>11</td>\n",
              "      <td>30</td>\n",
              "      <td>20210516</td>\n",
              "      <td>2021-05-16 11:30:00</td>\n",
              "      <td>2021-06-08</td>\n",
              "    </tr>\n",
              "    <tr>\n",
              "      <th>1996</th>\n",
              "      <td>2021</td>\n",
              "      <td>5</td>\n",
              "      <td>15</td>\n",
              "      <td>11</td>\n",
              "      <td>15</td>\n",
              "      <td>20210515</td>\n",
              "      <td>2021-05-15 11:15:00</td>\n",
              "      <td>2021-06-06</td>\n",
              "    </tr>\n",
              "    <tr>\n",
              "      <th>1997</th>\n",
              "      <td>2021</td>\n",
              "      <td>5</td>\n",
              "      <td>11</td>\n",
              "      <td>12</td>\n",
              "      <td>30</td>\n",
              "      <td>20210511</td>\n",
              "      <td>2021-05-11 12:30:00</td>\n",
              "      <td>2021-06-05</td>\n",
              "    </tr>\n",
              "    <tr>\n",
              "      <th>1998</th>\n",
              "      <td>2021</td>\n",
              "      <td>5</td>\n",
              "      <td>17</td>\n",
              "      <td>8</td>\n",
              "      <td>30</td>\n",
              "      <td>20210517</td>\n",
              "      <td>2021-05-17 08:30:00</td>\n",
              "      <td>2021-06-05</td>\n",
              "    </tr>\n",
              "    <tr>\n",
              "      <th>1999</th>\n",
              "      <td>2021</td>\n",
              "      <td>5</td>\n",
              "      <td>17</td>\n",
              "      <td>8</td>\n",
              "      <td>30</td>\n",
              "      <td>20210517</td>\n",
              "      <td>2021-05-17 08:30:00</td>\n",
              "      <td>2021-06-06</td>\n",
              "    </tr>\n",
              "  </tbody>\n",
              "</table>\n",
              "<p>2000 rows × 8 columns</p>\n",
              "</div>"
            ],
            "text/plain": [
              "       año  mes  dia  hora  min   dateInt  Date_start_horario  \\\n",
              "0     2021    5   14     9    0  20210514 2021-05-14 09:00:00   \n",
              "1     2021    5   15    11    0  20210515 2021-05-15 11:00:00   \n",
              "2     2021    5   14    12    0  20210514 2021-05-14 12:00:00   \n",
              "3     2021    5   15    13    0  20210515 2021-05-15 13:00:00   \n",
              "4     2021    5   18     8    0  20210518 2021-05-18 08:00:00   \n",
              "...    ...  ...  ...   ...  ...       ...                 ...   \n",
              "1995  2021    5   16    11   30  20210516 2021-05-16 11:30:00   \n",
              "1996  2021    5   15    11   15  20210515 2021-05-15 11:15:00   \n",
              "1997  2021    5   11    12   30  20210511 2021-05-11 12:30:00   \n",
              "1998  2021    5   17     8   30  20210517 2021-05-17 08:30:00   \n",
              "1999  2021    5   17     8   30  20210517 2021-05-17 08:30:00   \n",
              "\n",
              "     Date_start_Examenes  \n",
              "0             2021-06-04  \n",
              "1             2021-06-08  \n",
              "2             2021-06-07  \n",
              "3             2021-06-03  \n",
              "4             2021-06-05  \n",
              "...                  ...  \n",
              "1995          2021-06-08  \n",
              "1996          2021-06-06  \n",
              "1997          2021-06-05  \n",
              "1998          2021-06-05  \n",
              "1999          2021-06-06  \n",
              "\n",
              "[2000 rows x 8 columns]"
            ]
          },
          "execution_count": 19,
          "metadata": {},
          "output_type": "execute_result"
        }
      ]
    },
    {
      "cell_type": "code",
      "metadata": {
        "id": "4b5256d7"
      },
      "source": [
        ""
      ],
      "id": "4b5256d7",
      "execution_count": null,
      "outputs": []
    },
    {
      "cell_type": "code",
      "metadata": {
        "id": "cc11c919",
        "outputId": "650c015c-2589-4434-89e4-92831ce900fc"
      },
      "source": [
        "df2['days_left'] = (df2['Date_start_Examenes'] - df2['Date_start_horario']).dt.days\n",
        "df2"
      ],
      "id": "cc11c919",
      "execution_count": null,
      "outputs": [
        {
          "data": {
            "text/html": [
              "<div>\n",
              "<style scoped>\n",
              "    .dataframe tbody tr th:only-of-type {\n",
              "        vertical-align: middle;\n",
              "    }\n",
              "\n",
              "    .dataframe tbody tr th {\n",
              "        vertical-align: top;\n",
              "    }\n",
              "\n",
              "    .dataframe thead th {\n",
              "        text-align: right;\n",
              "    }\n",
              "</style>\n",
              "<table border=\"1\" class=\"dataframe\">\n",
              "  <thead>\n",
              "    <tr style=\"text-align: right;\">\n",
              "      <th></th>\n",
              "      <th>año</th>\n",
              "      <th>mes</th>\n",
              "      <th>dia</th>\n",
              "      <th>hora</th>\n",
              "      <th>min</th>\n",
              "      <th>dateInt</th>\n",
              "      <th>Date_start_horario</th>\n",
              "      <th>Date_start_Examenes</th>\n",
              "      <th>days_left</th>\n",
              "    </tr>\n",
              "  </thead>\n",
              "  <tbody>\n",
              "    <tr>\n",
              "      <th>0</th>\n",
              "      <td>2021</td>\n",
              "      <td>5</td>\n",
              "      <td>14</td>\n",
              "      <td>9</td>\n",
              "      <td>0</td>\n",
              "      <td>20210514</td>\n",
              "      <td>2021-05-14 09:00:00</td>\n",
              "      <td>2021-06-04</td>\n",
              "      <td>20</td>\n",
              "    </tr>\n",
              "    <tr>\n",
              "      <th>1</th>\n",
              "      <td>2021</td>\n",
              "      <td>5</td>\n",
              "      <td>15</td>\n",
              "      <td>11</td>\n",
              "      <td>0</td>\n",
              "      <td>20210515</td>\n",
              "      <td>2021-05-15 11:00:00</td>\n",
              "      <td>2021-06-08</td>\n",
              "      <td>23</td>\n",
              "    </tr>\n",
              "    <tr>\n",
              "      <th>2</th>\n",
              "      <td>2021</td>\n",
              "      <td>5</td>\n",
              "      <td>14</td>\n",
              "      <td>12</td>\n",
              "      <td>0</td>\n",
              "      <td>20210514</td>\n",
              "      <td>2021-05-14 12:00:00</td>\n",
              "      <td>2021-06-07</td>\n",
              "      <td>23</td>\n",
              "    </tr>\n",
              "    <tr>\n",
              "      <th>3</th>\n",
              "      <td>2021</td>\n",
              "      <td>5</td>\n",
              "      <td>15</td>\n",
              "      <td>13</td>\n",
              "      <td>0</td>\n",
              "      <td>20210515</td>\n",
              "      <td>2021-05-15 13:00:00</td>\n",
              "      <td>2021-06-03</td>\n",
              "      <td>18</td>\n",
              "    </tr>\n",
              "    <tr>\n",
              "      <th>4</th>\n",
              "      <td>2021</td>\n",
              "      <td>5</td>\n",
              "      <td>18</td>\n",
              "      <td>8</td>\n",
              "      <td>0</td>\n",
              "      <td>20210518</td>\n",
              "      <td>2021-05-18 08:00:00</td>\n",
              "      <td>2021-06-05</td>\n",
              "      <td>17</td>\n",
              "    </tr>\n",
              "    <tr>\n",
              "      <th>...</th>\n",
              "      <td>...</td>\n",
              "      <td>...</td>\n",
              "      <td>...</td>\n",
              "      <td>...</td>\n",
              "      <td>...</td>\n",
              "      <td>...</td>\n",
              "      <td>...</td>\n",
              "      <td>...</td>\n",
              "      <td>...</td>\n",
              "    </tr>\n",
              "    <tr>\n",
              "      <th>1995</th>\n",
              "      <td>2021</td>\n",
              "      <td>5</td>\n",
              "      <td>16</td>\n",
              "      <td>11</td>\n",
              "      <td>30</td>\n",
              "      <td>20210516</td>\n",
              "      <td>2021-05-16 11:30:00</td>\n",
              "      <td>2021-06-08</td>\n",
              "      <td>22</td>\n",
              "    </tr>\n",
              "    <tr>\n",
              "      <th>1996</th>\n",
              "      <td>2021</td>\n",
              "      <td>5</td>\n",
              "      <td>15</td>\n",
              "      <td>11</td>\n",
              "      <td>15</td>\n",
              "      <td>20210515</td>\n",
              "      <td>2021-05-15 11:15:00</td>\n",
              "      <td>2021-06-06</td>\n",
              "      <td>21</td>\n",
              "    </tr>\n",
              "    <tr>\n",
              "      <th>1997</th>\n",
              "      <td>2021</td>\n",
              "      <td>5</td>\n",
              "      <td>11</td>\n",
              "      <td>12</td>\n",
              "      <td>30</td>\n",
              "      <td>20210511</td>\n",
              "      <td>2021-05-11 12:30:00</td>\n",
              "      <td>2021-06-05</td>\n",
              "      <td>24</td>\n",
              "    </tr>\n",
              "    <tr>\n",
              "      <th>1998</th>\n",
              "      <td>2021</td>\n",
              "      <td>5</td>\n",
              "      <td>17</td>\n",
              "      <td>8</td>\n",
              "      <td>30</td>\n",
              "      <td>20210517</td>\n",
              "      <td>2021-05-17 08:30:00</td>\n",
              "      <td>2021-06-05</td>\n",
              "      <td>18</td>\n",
              "    </tr>\n",
              "    <tr>\n",
              "      <th>1999</th>\n",
              "      <td>2021</td>\n",
              "      <td>5</td>\n",
              "      <td>17</td>\n",
              "      <td>8</td>\n",
              "      <td>30</td>\n",
              "      <td>20210517</td>\n",
              "      <td>2021-05-17 08:30:00</td>\n",
              "      <td>2021-06-06</td>\n",
              "      <td>19</td>\n",
              "    </tr>\n",
              "  </tbody>\n",
              "</table>\n",
              "<p>2000 rows × 9 columns</p>\n",
              "</div>"
            ],
            "text/plain": [
              "       año  mes  dia  hora  min   dateInt  Date_start_horario  \\\n",
              "0     2021    5   14     9    0  20210514 2021-05-14 09:00:00   \n",
              "1     2021    5   15    11    0  20210515 2021-05-15 11:00:00   \n",
              "2     2021    5   14    12    0  20210514 2021-05-14 12:00:00   \n",
              "3     2021    5   15    13    0  20210515 2021-05-15 13:00:00   \n",
              "4     2021    5   18     8    0  20210518 2021-05-18 08:00:00   \n",
              "...    ...  ...  ...   ...  ...       ...                 ...   \n",
              "1995  2021    5   16    11   30  20210516 2021-05-16 11:30:00   \n",
              "1996  2021    5   15    11   15  20210515 2021-05-15 11:15:00   \n",
              "1997  2021    5   11    12   30  20210511 2021-05-11 12:30:00   \n",
              "1998  2021    5   17     8   30  20210517 2021-05-17 08:30:00   \n",
              "1999  2021    5   17     8   30  20210517 2021-05-17 08:30:00   \n",
              "\n",
              "     Date_start_Examenes  days_left  \n",
              "0             2021-06-04         20  \n",
              "1             2021-06-08         23  \n",
              "2             2021-06-07         23  \n",
              "3             2021-06-03         18  \n",
              "4             2021-06-05         17  \n",
              "...                  ...        ...  \n",
              "1995          2021-06-08         22  \n",
              "1996          2021-06-06         21  \n",
              "1997          2021-06-05         24  \n",
              "1998          2021-06-05         18  \n",
              "1999          2021-06-06         19  \n",
              "\n",
              "[2000 rows x 9 columns]"
            ]
          },
          "execution_count": 20,
          "metadata": {},
          "output_type": "execute_result"
        }
      ]
    },
    {
      "cell_type": "code",
      "metadata": {
        "id": "cf7d017e",
        "outputId": "3dd21931-dfe5-492d-d1e4-4815954bdd40"
      },
      "source": [
        "df2['days_left']"
      ],
      "id": "cf7d017e",
      "execution_count": null,
      "outputs": [
        {
          "data": {
            "text/plain": [
              "10"
            ]
          },
          "execution_count": 21,
          "metadata": {},
          "output_type": "execute_result"
        }
      ]
    },
    {
      "cell_type": "code",
      "metadata": {
        "id": "197903f1"
      },
      "source": [
        ""
      ],
      "id": "197903f1",
      "execution_count": null,
      "outputs": []
    },
    {
      "cell_type": "code",
      "metadata": {
        "id": "10fa9998"
      },
      "source": [
        "df2.to_csv(\"Building_data_SOCIALES_v1.csv\",index=False)\n"
      ],
      "id": "10fa9998",
      "execution_count": null,
      "outputs": []
    },
    {
      "cell_type": "markdown",
      "metadata": {
        "id": "398f0e77"
      },
      "source": [
        "## Construyendo Notas Bach SOCIALES"
      ],
      "id": "398f0e77"
    },
    {
      "cell_type": "markdown",
      "metadata": {
        "id": "eeaefd67"
      },
      "source": [
        "### construyendo lengua bach SOCIALES"
      ],
      "id": "eeaefd67"
    },
    {
      "cell_type": "code",
      "metadata": {
        "id": "1f77f798",
        "outputId": "cb89a0c5-25bf-40cc-c4ce-692ee88039f3"
      },
      "source": [
        "import random\n",
        "sobres=[9.25,9,9.15,9.50,9.75,10,9.60,9.10,9.07,9.05]\n",
        "suspensos=[4.70,4.75,4.65,4.50,4.80,4.59,4.55,4.35,5]\n",
        "import matplotlib.pyplot as plt\n",
        "%matplotlib inline\n",
        "\n",
        "lengua=[]\n",
        "for _ in range(2000):\n",
        "    nota=abs(round((random.gauss(6.42,1.78)),2))\n",
        "    if nota > 10.00:   \n",
        "        lengua.append(random.choices(sobres,weights=[1,1,1,1,1,1,1,1,1,1],k=1)[0])\n",
        "    elif nota < 3.75:   \n",
        "        lengua.append(random.choices(suspensos,weights=[1,1,1,1,1,1,1,1,1],k=1)[0])\n",
        "    else:\n",
        "        lengua.append(nota)\n",
        "\n",
        "print(min(lengua))\n",
        "max(lengua)"
      ],
      "id": "1f77f798",
      "execution_count": null,
      "outputs": [
        {
          "name": "stdout",
          "output_type": "stream",
          "text": [
            "3.75\n"
          ]
        },
        {
          "data": {
            "text/plain": [
              "10"
            ]
          },
          "execution_count": 73,
          "metadata": {},
          "output_type": "execute_result"
        }
      ]
    },
    {
      "cell_type": "code",
      "metadata": {
        "id": "9640b899",
        "outputId": "33cf65b4-578c-49cf-9d25-5e0c6e467405"
      },
      "source": [
        "def Average(lst):\n",
        "    return sum(lst) / len(lst)\n",
        "Average(lengua)\n"
      ],
      "id": "9640b899",
      "execution_count": null,
      "outputs": [
        {
          "data": {
            "text/plain": [
              "6.472514999999993"
            ]
          },
          "execution_count": 74,
          "metadata": {},
          "output_type": "execute_result"
        }
      ]
    },
    {
      "cell_type": "code",
      "metadata": {
        "id": "25631b81",
        "outputId": "73531903-2c93-4adf-f251-165cf69910c2"
      },
      "source": [
        "plt.hist(lengua, bins=5)\n",
        "plt.show() "
      ],
      "id": "25631b81",
      "execution_count": null,
      "outputs": [
        {
          "data": {
            "image/png": "[encoded data removed]",
            "text/plain": [
              "<Figure size 432x288 with 1 Axes>"
            ]
          },
          "metadata": {
            "needs_background": "light"
          },
          "output_type": "display_data"
        }
      ]
    },
    {
      "cell_type": "code",
      "metadata": {
        "id": "733a9147",
        "outputId": "dd7a4a17-56a6-4d86-a02a-677ea42692b6"
      },
      "source": [
        "suspensos=[]\n",
        "suspensos2=[]\n",
        "sobresalientes=[]\n",
        "for i,pos in enumerate(lengua):\n",
        "    if pos <5:\n",
        "        if pos >= 4:\n",
        "            suspensos.append(pos)\n",
        "        else:\n",
        "            suspensos2.append(pos)\n",
        "    elif pos >8:\n",
        "        sobresalientes.append(pos)\n",
        "    \n",
        "        \n",
        "print(len(suspensos2))\n",
        "print(len(sobresalientes))\n",
        "print(len(suspensos2)/20+(len(suspensos)/20),\"% de alumnos con notas menores a 5\")\n",
        "print(len(suspensos2)/20,\"% de alumnos con notas menores a 4\")\n",
        "print(len(sobresalientes)/20,\"% de alumnos con notas mayores a 8\")\n",
        "\n"
      ],
      "id": "733a9147",
      "execution_count": null,
      "outputs": [
        {
          "name": "stdout",
          "output_type": "stream",
          "text": [
            "38\n",
            "341\n",
            "20.45 % de alumnos con notas menores a 5\n",
            "1.9 % de alumnos con notas menores a 4\n",
            "17.05 % de alumnos con notas mayores a 8\n"
          ]
        }
      ]
    },
    {
      "cell_type": "code",
      "metadata": {
        "id": "5a368ecd"
      },
      "source": [
        ""
      ],
      "id": "5a368ecd",
      "execution_count": null,
      "outputs": []
    },
    {
      "cell_type": "markdown",
      "metadata": {
        "id": "1b82982e"
      },
      "source": [
        "### construyendo mates bach sociales"
      ],
      "id": "1b82982e"
    },
    {
      "cell_type": "code",
      "metadata": {
        "id": "678a2628",
        "outputId": "e84080cd-b66e-4c54-afd3-72dc343f9bc5"
      },
      "source": [
        "import random\n",
        "sobres=[9.25,9,9.15,9.50,9.75,10,9.60,9.10,9.07,9.05]\n",
        "suspensos=[4.30,4.75,4.65,4.50,4.80,4.59,4.55,4.35,5]\n",
        "import matplotlib.pyplot as plt\n",
        "%matplotlib inline\n",
        "\n",
        "mates_sociales=[]\n",
        "for _ in range(2000):\n",
        "    nota=abs(round((random.gauss(6.41,1.77)),2))\n",
        "    if nota > 10.00:   \n",
        "        mates_sociales.append(random.choices(sobres,weights=[1,1,1,1,1,1,1,1,1,1],k=1)[0])\n",
        "    elif nota < 3.75:   \n",
        "        mates_sociales.append(random.choices(suspensos,weights=[1,1,1,1,1,1,1,1,1],k=1)[0])\n",
        "    else:\n",
        "        mates_sociales.append(nota)\n",
        "\n",
        "print(min(mates_sociales))\n",
        "max(mates_sociales)"
      ],
      "id": "678a2628",
      "execution_count": null,
      "outputs": [
        {
          "name": "stdout",
          "output_type": "stream",
          "text": [
            "3.77\n"
          ]
        },
        {
          "data": {
            "text/plain": [
              "10"
            ]
          },
          "execution_count": 100,
          "metadata": {},
          "output_type": "execute_result"
        }
      ]
    },
    {
      "cell_type": "code",
      "metadata": {
        "id": "1d429690",
        "outputId": "84279a91-ffa2-48a6-c868-01ccbb3d24c0"
      },
      "source": [
        "def Average(lst):\n",
        "    return sum(lst) / len(lst)\n",
        "Average(mates_sociales)\n"
      ],
      "id": "1d429690",
      "execution_count": null,
      "outputs": [
        {
          "data": {
            "text/plain": [
              "6.462385000000013"
            ]
          },
          "execution_count": 101,
          "metadata": {},
          "output_type": "execute_result"
        }
      ]
    },
    {
      "cell_type": "code",
      "metadata": {
        "id": "cd333e1b",
        "outputId": "50d4e3e8-e9e4-4f3a-bb77-19932ebe052c"
      },
      "source": [
        "plt.hist(mates_sociales, bins=5)\n",
        "plt.show() "
      ],
      "id": "cd333e1b",
      "execution_count": null,
      "outputs": [
        {
          "data": {
            "image/png": "[encoded data removed]",
            "text/plain": [
              "<Figure size 432x288 with 1 Axes>"
            ]
          },
          "metadata": {
            "needs_background": "light"
          },
          "output_type": "display_data"
        }
      ]
    },
    {
      "cell_type": "code",
      "metadata": {
        "id": "3789a919",
        "outputId": "ce3593a6-458c-4da0-a649-8d9c386dad96"
      },
      "source": [
        "suspensos=[]\n",
        "suspensos2=[]\n",
        "sobresalientes=[]\n",
        "for i,pos in enumerate(mates_sociales):\n",
        "    if pos <5:\n",
        "        if pos >= 4:\n",
        "            suspensos.append(pos)\n",
        "        else:\n",
        "            suspensos2.append(pos)\n",
        "    elif pos >8:\n",
        "        sobresalientes.append(pos)\n",
        "    \n",
        "        \n",
        "print(len(suspensos2))\n",
        "print(len(sobresalientes))\n",
        "print(len(suspensos2)/20+(len(suspensos)/20),\"% de alumnos con notas menores a 5\")\n",
        "print(len(suspensos2)/20,\"% de alumnos con notas menores a 4\")\n",
        "print(len(sobresalientes)/20,\"% de alumnos con notas mayores a 8\")\n",
        "\n"
      ],
      "id": "3789a919",
      "execution_count": null,
      "outputs": [
        {
          "name": "stdout",
          "output_type": "stream",
          "text": [
            "35\n",
            "348\n",
            "20.05 % de alumnos con notas menores a 5\n",
            "1.75 % de alumnos con notas menores a 4\n",
            "17.4 % de alumnos con notas mayores a 8\n"
          ]
        }
      ]
    },
    {
      "cell_type": "markdown",
      "metadata": {
        "id": "ea4045b1"
      },
      "source": [
        "### construyendo ingles bach SOCIALES"
      ],
      "id": "ea4045b1"
    },
    {
      "cell_type": "code",
      "metadata": {
        "id": "39eae073",
        "outputId": "a0cc31c7-a286-4e1e-d5ec-f982c46e71a6"
      },
      "source": [
        "import random\n",
        "sobres=[9.25,9,9.15,9.50,9.75,10,9.60,9.10,9.07,9.05]\n",
        "suspensos=[4.30,4.75,4.65,4.50,4.80,4.59,4.55,4.35,5]\n",
        "import matplotlib.pyplot as plt\n",
        "%matplotlib inline\n",
        "\n",
        "ingles=[]\n",
        "for _ in range(2000):\n",
        "    nota=abs(round((random.gauss(6.84,1.60)),2))\n",
        "    if nota > 10.00:   \n",
        "        ingles.append(random.choices(sobres,weights=[1,1,1,1,1,1,1,1,1,1],k=1)[0])\n",
        "    elif nota < 3.75:   \n",
        "        ingles.append(random.choices(suspensos,weights=[1,1,1,1,1,1,1,1,1],k=1)[0])\n",
        "    else:\n",
        "        ingles.append(nota)\n",
        "\n",
        "print(min(ingles))\n",
        "max(ingles)"
      ],
      "id": "39eae073",
      "execution_count": null,
      "outputs": [
        {
          "name": "stdout",
          "output_type": "stream",
          "text": [
            "3.75\n"
          ]
        },
        {
          "data": {
            "text/plain": [
              "10"
            ]
          },
          "execution_count": 104,
          "metadata": {},
          "output_type": "execute_result"
        }
      ]
    },
    {
      "cell_type": "code",
      "metadata": {
        "id": "1c35b00c",
        "outputId": "ffdfa44a-94b3-4ce7-a8b3-00aadd35525c"
      },
      "source": [
        "def Average(lst):\n",
        "    return sum(lst) / len(lst)\n",
        "Average(ingles)\n"
      ],
      "id": "1c35b00c",
      "execution_count": null,
      "outputs": [
        {
          "data": {
            "text/plain": [
              "6.8703299999999805"
            ]
          },
          "execution_count": 105,
          "metadata": {},
          "output_type": "execute_result"
        }
      ]
    },
    {
      "cell_type": "code",
      "metadata": {
        "id": "d0e3670a",
        "outputId": "da0fddb9-8b23-4498-ee04-80093f1aaea9"
      },
      "source": [
        "plt.hist(ingles, bins=5)\n",
        "plt.show() "
      ],
      "id": "d0e3670a",
      "execution_count": null,
      "outputs": [
        {
          "data": {
            "image/png": "[encoded data removed]",
            "text/plain": [
              "<Figure size 432x288 with 1 Axes>"
            ]
          },
          "metadata": {
            "needs_background": "light"
          },
          "output_type": "display_data"
        }
      ]
    },
    {
      "cell_type": "code",
      "metadata": {
        "id": "1054fffd",
        "outputId": "b57200bf-78d2-40c9-8c98-0e3be65fea66"
      },
      "source": [
        "suspensos=[]\n",
        "suspensos2=[]\n",
        "sobresalientes=[]\n",
        "for i,pos in enumerate(ingles):\n",
        "    if pos <5:\n",
        "        if pos >= 4:\n",
        "            suspensos.append(pos)\n",
        "        else:\n",
        "            suspensos2.append(pos)\n",
        "    elif pos >8:\n",
        "        sobresalientes.append(pos)\n",
        "    \n",
        "        \n",
        "print(len(suspensos2))\n",
        "print(len(sobresalientes))\n",
        "print(len(suspensos2)/20+(len(suspensos)/20),\"% de alumnos con notas menores a 5\")\n",
        "print(len(suspensos2)/20,\"% de alumnos con notas menores a 4\")\n",
        "print(len(sobresalientes)/20,\"% de alumnos con notas mayores a 8\")\n",
        "\n"
      ],
      "id": "1054fffd",
      "execution_count": null,
      "outputs": [
        {
          "name": "stdout",
          "output_type": "stream",
          "text": [
            "23\n",
            "467\n",
            "11.75 % de alumnos con notas menores a 5\n",
            "1.15 % de alumnos con notas menores a 4\n",
            "23.35 % de alumnos con notas mayores a 8\n"
          ]
        }
      ]
    },
    {
      "cell_type": "markdown",
      "metadata": {
        "id": "379005d8"
      },
      "source": [
        "### construyendo Economia bach sociales"
      ],
      "id": "379005d8"
    },
    {
      "cell_type": "code",
      "metadata": {
        "id": "4469c195",
        "outputId": "cef2b78a-4978-4311-8e74-555abcea112f"
      },
      "source": [
        "import random\n",
        "sobres=[9.25,9,9.15,9.50,9.75,10,9.60,9.10,9.07,9.05]\n",
        "suspensos=[4.30,4.75,4.65,4.50,4.80,4.59,4.55,4.35,5]\n",
        "import matplotlib.pyplot as plt\n",
        "%matplotlib inline\n",
        "\n",
        "economia=[]\n",
        "for _ in range(2000):\n",
        "    nota=abs(round((random.gauss(6.55,1.67)),2))\n",
        "    if nota > 10.00:   \n",
        "        economia.append(random.choices(sobres,weights=[1,1,1,1,1,1,1,1,1,1],k=1)[0])\n",
        "    elif nota < 3.75:   \n",
        "        economia.append(random.choices(suspensos,weights=[1,1,1,1,1,1,1,1,1],k=1)[0])\n",
        "    else:\n",
        "        economia.append(nota)\n",
        "\n",
        "print(min(economia))\n",
        "max(economia)"
      ],
      "id": "4469c195",
      "execution_count": null,
      "outputs": [
        {
          "name": "stdout",
          "output_type": "stream",
          "text": [
            "3.75\n"
          ]
        },
        {
          "data": {
            "text/plain": [
              "10"
            ]
          },
          "execution_count": 121,
          "metadata": {},
          "output_type": "execute_result"
        }
      ]
    },
    {
      "cell_type": "code",
      "metadata": {
        "id": "b4e38602",
        "outputId": "d1e0bb09-9930-4c07-8190-91b7f3db9cca"
      },
      "source": [
        "def Average(lst):\n",
        "    return sum(lst) / len(lst)\n",
        "Average(economia)\n"
      ],
      "id": "b4e38602",
      "execution_count": null,
      "outputs": [
        {
          "data": {
            "text/plain": [
              "6.607559999999991"
            ]
          },
          "execution_count": 122,
          "metadata": {},
          "output_type": "execute_result"
        }
      ]
    },
    {
      "cell_type": "code",
      "metadata": {
        "id": "f8f4ee06",
        "outputId": "5613a618-7b92-4e10-b443-437ecb076942"
      },
      "source": [
        "plt.hist(economia, bins=5)\n",
        "plt.show() "
      ],
      "id": "f8f4ee06",
      "execution_count": null,
      "outputs": [
        {
          "data": {
            "image/png": "[encoded data removed]",
            "text/plain": [
              "<Figure size 432x288 with 1 Axes>"
            ]
          },
          "metadata": {
            "needs_background": "light"
          },
          "output_type": "display_data"
        }
      ]
    },
    {
      "cell_type": "code",
      "metadata": {
        "id": "4d6158f3",
        "outputId": "42dcde4b-1f57-4536-e10d-44a385ddd694"
      },
      "source": [
        "suspensos=[]\n",
        "suspensos2=[]\n",
        "sobresalientes=[]\n",
        "for i,pos in enumerate(economia):\n",
        "    if pos <5:\n",
        "        if pos >= 4:\n",
        "            suspensos.append(pos)\n",
        "        else:\n",
        "            suspensos2.append(pos)\n",
        "    elif pos >=8:\n",
        "        sobresalientes.append(pos)\n",
        "    \n",
        "        \n",
        "print(len(suspensos2))\n",
        "print(len(sobresalientes))\n",
        "print(len(suspensos2)/20+(len(suspensos)/20),\"% de alumnos con notas menores a 5\")\n",
        "print(len(suspensos2)/20,\"% de alumnos con notas menores a 4\")\n",
        "print(len(sobresalientes)/20,\"% de alumnos con notas mayores a 8\")\n",
        "\n"
      ],
      "id": "4d6158f3",
      "execution_count": null,
      "outputs": [
        {
          "name": "stdout",
          "output_type": "stream",
          "text": [
            "42\n",
            "404\n",
            "17.3 % de alumnos con notas menores a 5\n",
            "2.1 % de alumnos con notas menores a 4\n",
            "20.2 % de alumnos con notas mayores a 8\n"
          ]
        }
      ]
    },
    {
      "cell_type": "code",
      "metadata": {
        "id": "2f5cab77"
      },
      "source": [
        ""
      ],
      "id": "2f5cab77",
      "execution_count": null,
      "outputs": []
    },
    {
      "cell_type": "markdown",
      "metadata": {
        "id": "037109f7"
      },
      "source": [
        "### construyendo Geografía bach ciencias"
      ],
      "id": "037109f7"
    },
    {
      "cell_type": "code",
      "metadata": {
        "id": "f8064f7f",
        "outputId": "4b5865cf-3896-4c69-db53-63090d9bd3dc"
      },
      "source": [
        "import random\n",
        "sobres=[9.25,9,9.15,9.50,9.75,10,9.60,9.10,9.07,9.05]\n",
        "suspensos=[4.30,4.75,4.65,4.50,4.80,4.59,4.55,5.35,5.05]\n",
        "import matplotlib.pyplot as plt\n",
        "%matplotlib inline\n",
        "\n",
        "geografia=[]\n",
        "for _ in range(2000):\n",
        "    nota=abs(round((random.gauss(6.56,1.75)),2))\n",
        "    if nota > 10.00:   \n",
        "        geografia.append(random.choices(sobres,weights=[1,1,1,1,1,1,1,1,1,1],k=1)[0])\n",
        "    elif nota < 3.75:   \n",
        "        geografia.append(random.choices(suspensos,weights=[1,1,1,1,1,1,1,1,1],k=1)[0])\n",
        "    else:\n",
        "        geografia.append(nota)\n",
        "\n",
        "print(min(geografia))\n",
        "max(geografia)"
      ],
      "id": "f8064f7f",
      "execution_count": null,
      "outputs": [
        {
          "name": "stdout",
          "output_type": "stream",
          "text": [
            "3.77\n"
          ]
        },
        {
          "data": {
            "text/plain": [
              "10"
            ]
          },
          "execution_count": 127,
          "metadata": {},
          "output_type": "execute_result"
        }
      ]
    },
    {
      "cell_type": "code",
      "metadata": {
        "id": "8b15d3d1",
        "outputId": "0f05c83d-1adc-44cb-8b48-80baf8305d70"
      },
      "source": [
        "def Average(lst):\n",
        "    return sum(lst) / len(lst)\n",
        "Average(geografia)\n"
      ],
      "id": "8b15d3d1",
      "execution_count": null,
      "outputs": [
        {
          "data": {
            "text/plain": [
              "6.5907850000000066"
            ]
          },
          "execution_count": 128,
          "metadata": {},
          "output_type": "execute_result"
        }
      ]
    },
    {
      "cell_type": "code",
      "metadata": {
        "id": "9c549a4c",
        "outputId": "236079ff-513e-4432-c853-3c6a21a618b8"
      },
      "source": [
        "plt.hist(geografia, bins=5)\n",
        "plt.show() "
      ],
      "id": "9c549a4c",
      "execution_count": null,
      "outputs": [
        {
          "data": {
            "image/png": "[encoded data removed]",
            "text/plain": [
              "<Figure size 432x288 with 1 Axes>"
            ]
          },
          "metadata": {
            "needs_background": "light"
          },
          "output_type": "display_data"
        }
      ]
    },
    {
      "cell_type": "code",
      "metadata": {
        "id": "f408df5d",
        "outputId": "e8e30cfa-c449-4323-a8fa-fb6e290ffc13"
      },
      "source": [
        "suspensos=[]\n",
        "suspensos2=[]\n",
        "sobresalientes=[]\n",
        "for i,pos in enumerate(geografia):\n",
        "    if pos <5:\n",
        "        if pos >= 4:\n",
        "            suspensos.append(pos)\n",
        "        else:\n",
        "            suspensos2.append(pos)\n",
        "    elif pos >8:\n",
        "        sobresalientes.append(pos)\n",
        "    \n",
        "        \n",
        "print(len(suspensos2))\n",
        "print(len(sobresalientes))\n",
        "print(len(suspensos2)/20+(len(suspensos)/20),\"% de alumnos con notas menores a 5\")\n",
        "print(len(suspensos2)/20,\"% de alumnos con notas menores a 4\")\n",
        "print(len(sobresalientes)/20,\"% de alumnos con notas mayores a 8\")\n",
        "\n"
      ],
      "id": "f408df5d",
      "execution_count": null,
      "outputs": [
        {
          "name": "stdout",
          "output_type": "stream",
          "text": [
            "27\n",
            "408\n",
            "17.25 % de alumnos con notas menores a 5\n",
            "1.35 % de alumnos con notas menores a 4\n",
            "20.4 % de alumnos con notas mayores a 8\n"
          ]
        }
      ]
    },
    {
      "cell_type": "code",
      "metadata": {
        "id": "a34a5c41"
      },
      "source": [
        ""
      ],
      "id": "a34a5c41",
      "execution_count": null,
      "outputs": []
    },
    {
      "cell_type": "markdown",
      "metadata": {
        "id": "f26b69a4"
      },
      "source": [
        "### construyendo Historia bach sociales\n"
      ],
      "id": "f26b69a4"
    },
    {
      "cell_type": "code",
      "metadata": {
        "id": "oY8_nE8WQmhf",
        "outputId": "125edd02-ac77-431d-dae4-d81c4e7cc06f"
      },
      "source": [
        "import random\n",
        "sobres=[9.25,9,9.15,9.50,9.75,10,9.60,9.10,9.07,9.05]\n",
        "suspensos=[5.10,4.75,4.65,4.50,4.80,4.59,4.55,5.35,5]\n",
        "import matplotlib.pyplot as plt\n",
        "%matplotlib inline\n",
        "\n",
        "historia=[]\n",
        "for _ in range(2000):\n",
        "    nota=abs(round((random.gauss(6.54,1.65)),2))\n",
        "    if nota > 10.00:   \n",
        "        historia.append(random.choices(sobres,weights=[1,1,1,1,1,1,1,1,1,1],k=1)[0])\n",
        "    elif nota < 3.75:   \n",
        "        historia.append(random.choices(suspensos,weights=[1,1,1,1,1,1,1,1,1],k=1)[0])\n",
        "    else:\n",
        "        historia.append(nota)\n",
        "\n",
        "print(min(historia))\n",
        "max(historia)"
      ],
      "id": "oY8_nE8WQmhf",
      "execution_count": null,
      "outputs": [
        {
          "name": "stdout",
          "output_type": "stream",
          "text": [
            "3.78\n"
          ]
        },
        {
          "data": {
            "text/plain": [
              "10"
            ]
          },
          "execution_count": 133,
          "metadata": {},
          "output_type": "execute_result"
        }
      ]
    },
    {
      "cell_type": "code",
      "metadata": {
        "id": "whlSiaATQmhf",
        "outputId": "2d98665d-adb0-4fc0-f531-577542ed1981"
      },
      "source": [
        "def Average(lst):\n",
        "    return sum(lst) / len(lst)\n",
        "Average(historia)\n"
      ],
      "id": "whlSiaATQmhf",
      "execution_count": null,
      "outputs": [
        {
          "data": {
            "text/plain": [
              "6.558145000000015"
            ]
          },
          "execution_count": 134,
          "metadata": {},
          "output_type": "execute_result"
        }
      ]
    },
    {
      "cell_type": "code",
      "metadata": {
        "id": "q_HO-kssQmhf",
        "outputId": "747fe899-1492-45ff-f117-2851df0da32e"
      },
      "source": [
        "plt.hist(historia, bins=5)\n",
        "plt.show() "
      ],
      "id": "q_HO-kssQmhf",
      "execution_count": null,
      "outputs": [
        {
          "data": {
            "image/png": "[encoded data removed]",
            "text/plain": [
              "<Figure size 432x288 with 1 Axes>"
            ]
          },
          "metadata": {
            "needs_background": "light"
          },
          "output_type": "display_data"
        }
      ]
    },
    {
      "cell_type": "code",
      "metadata": {
        "id": "shiSrM2iQmhg",
        "outputId": "db976386-2fba-48b0-abf9-b06e9806c3c7"
      },
      "source": [
        "suspensos=[]\n",
        "suspensos2=[]\n",
        "sobresalientes=[]\n",
        "for i,pos in enumerate(historia):\n",
        "    if pos <5:\n",
        "        if pos >= 4:\n",
        "            suspensos.append(pos)\n",
        "        else:\n",
        "            suspensos2.append(pos)\n",
        "    elif pos >8:\n",
        "        sobresalientes.append(pos)\n",
        "    \n",
        "        \n",
        "print(len(suspensos2))\n",
        "print(len(sobresalientes))\n",
        "print(len(suspensos2)/20+(len(suspensos)/20),\"% de alumnos con notas menores a 5\")\n",
        "print(len(suspensos2)/20,\"% de alumnos con notas menores a 4\")\n",
        "print(len(sobresalientes)/20,\"% de alumnos con notas mayores a 8\")\n",
        "\n"
      ],
      "id": "shiSrM2iQmhg",
      "execution_count": null,
      "outputs": [
        {
          "name": "stdout",
          "output_type": "stream",
          "text": [
            "26\n",
            "382\n",
            "17.55 % de alumnos con notas menores a 5\n",
            "1.3 % de alumnos con notas menores a 4\n",
            "19.1 % de alumnos con notas mayores a 8\n"
          ]
        }
      ]
    },
    {
      "cell_type": "code",
      "metadata": {
        "scrolled": true,
        "id": "f8887f36",
        "outputId": "47104f04-0767-437b-f471-ea657b1fb787"
      },
      "source": [
        "\n",
        "df2[\"Lengua\"]=lengua\n",
        "df2[\"Mates_sociales\"]=mates_sociales\n",
        "df2[\"Ingles\"]=ingles\n",
        "df2[\"Economia\"]=economia\n",
        "df2[\"Geografia\"]=geografia\n",
        "df2[\"Historia\"]=historia\n",
        "df2"
      ],
      "id": "f8887f36",
      "execution_count": null,
      "outputs": [
        {
          "data": {
            "text/html": [
              "<div>\n",
              "<style scoped>\n",
              "    .dataframe tbody tr th:only-of-type {\n",
              "        vertical-align: middle;\n",
              "    }\n",
              "\n",
              "    .dataframe tbody tr th {\n",
              "        vertical-align: top;\n",
              "    }\n",
              "\n",
              "    .dataframe thead th {\n",
              "        text-align: right;\n",
              "    }\n",
              "</style>\n",
              "<table border=\"1\" class=\"dataframe\">\n",
              "  <thead>\n",
              "    <tr style=\"text-align: right;\">\n",
              "      <th></th>\n",
              "      <th>año</th>\n",
              "      <th>mes</th>\n",
              "      <th>dia</th>\n",
              "      <th>hora</th>\n",
              "      <th>min</th>\n",
              "      <th>dateInt</th>\n",
              "      <th>Date_start_horario</th>\n",
              "      <th>Date_start_Examenes</th>\n",
              "      <th>days_left</th>\n",
              "      <th>Lengua</th>\n",
              "      <th>Mates_sociales</th>\n",
              "      <th>Ingles</th>\n",
              "      <th>Economia</th>\n",
              "      <th>Geografia</th>\n",
              "      <th>Historia</th>\n",
              "    </tr>\n",
              "  </thead>\n",
              "  <tbody>\n",
              "    <tr>\n",
              "      <th>0</th>\n",
              "      <td>2021</td>\n",
              "      <td>5</td>\n",
              "      <td>14</td>\n",
              "      <td>9</td>\n",
              "      <td>0</td>\n",
              "      <td>20210514</td>\n",
              "      <td>2021-05-14 09:00:00</td>\n",
              "      <td>2021-06-04</td>\n",
              "      <td>20</td>\n",
              "      <td>6.71</td>\n",
              "      <td>4.48</td>\n",
              "      <td>6.48</td>\n",
              "      <td>5.20</td>\n",
              "      <td>6.00</td>\n",
              "      <td>5.72</td>\n",
              "    </tr>\n",
              "    <tr>\n",
              "      <th>1</th>\n",
              "      <td>2021</td>\n",
              "      <td>5</td>\n",
              "      <td>15</td>\n",
              "      <td>11</td>\n",
              "      <td>0</td>\n",
              "      <td>20210515</td>\n",
              "      <td>2021-05-15 11:00:00</td>\n",
              "      <td>2021-06-08</td>\n",
              "      <td>23</td>\n",
              "      <td>6.37</td>\n",
              "      <td>8.91</td>\n",
              "      <td>6.54</td>\n",
              "      <td>4.75</td>\n",
              "      <td>5.35</td>\n",
              "      <td>7.59</td>\n",
              "    </tr>\n",
              "    <tr>\n",
              "      <th>2</th>\n",
              "      <td>2021</td>\n",
              "      <td>5</td>\n",
              "      <td>14</td>\n",
              "      <td>12</td>\n",
              "      <td>0</td>\n",
              "      <td>20210514</td>\n",
              "      <td>2021-05-14 12:00:00</td>\n",
              "      <td>2021-06-07</td>\n",
              "      <td>23</td>\n",
              "      <td>5.87</td>\n",
              "      <td>7.60</td>\n",
              "      <td>4.80</td>\n",
              "      <td>5.79</td>\n",
              "      <td>5.39</td>\n",
              "      <td>6.57</td>\n",
              "    </tr>\n",
              "    <tr>\n",
              "      <th>3</th>\n",
              "      <td>2021</td>\n",
              "      <td>5</td>\n",
              "      <td>15</td>\n",
              "      <td>13</td>\n",
              "      <td>0</td>\n",
              "      <td>20210515</td>\n",
              "      <td>2021-05-15 13:00:00</td>\n",
              "      <td>2021-06-03</td>\n",
              "      <td>18</td>\n",
              "      <td>4.45</td>\n",
              "      <td>4.63</td>\n",
              "      <td>9.96</td>\n",
              "      <td>7.85</td>\n",
              "      <td>4.39</td>\n",
              "      <td>9.54</td>\n",
              "    </tr>\n",
              "    <tr>\n",
              "      <th>4</th>\n",
              "      <td>2021</td>\n",
              "      <td>5</td>\n",
              "      <td>18</td>\n",
              "      <td>8</td>\n",
              "      <td>0</td>\n",
              "      <td>20210518</td>\n",
              "      <td>2021-05-18 08:00:00</td>\n",
              "      <td>2021-06-05</td>\n",
              "      <td>17</td>\n",
              "      <td>8.48</td>\n",
              "      <td>6.25</td>\n",
              "      <td>6.31</td>\n",
              "      <td>6.07</td>\n",
              "      <td>5.56</td>\n",
              "      <td>6.27</td>\n",
              "    </tr>\n",
              "    <tr>\n",
              "      <th>...</th>\n",
              "      <td>...</td>\n",
              "      <td>...</td>\n",
              "      <td>...</td>\n",
              "      <td>...</td>\n",
              "      <td>...</td>\n",
              "      <td>...</td>\n",
              "      <td>...</td>\n",
              "      <td>...</td>\n",
              "      <td>...</td>\n",
              "      <td>...</td>\n",
              "      <td>...</td>\n",
              "      <td>...</td>\n",
              "      <td>...</td>\n",
              "      <td>...</td>\n",
              "      <td>...</td>\n",
              "    </tr>\n",
              "    <tr>\n",
              "      <th>1995</th>\n",
              "      <td>2021</td>\n",
              "      <td>5</td>\n",
              "      <td>16</td>\n",
              "      <td>11</td>\n",
              "      <td>30</td>\n",
              "      <td>20210516</td>\n",
              "      <td>2021-05-16 11:30:00</td>\n",
              "      <td>2021-06-08</td>\n",
              "      <td>22</td>\n",
              "      <td>8.71</td>\n",
              "      <td>5.97</td>\n",
              "      <td>8.15</td>\n",
              "      <td>3.97</td>\n",
              "      <td>4.98</td>\n",
              "      <td>8.09</td>\n",
              "    </tr>\n",
              "    <tr>\n",
              "      <th>1996</th>\n",
              "      <td>2021</td>\n",
              "      <td>5</td>\n",
              "      <td>15</td>\n",
              "      <td>11</td>\n",
              "      <td>15</td>\n",
              "      <td>20210515</td>\n",
              "      <td>2021-05-15 11:15:00</td>\n",
              "      <td>2021-06-06</td>\n",
              "      <td>21</td>\n",
              "      <td>4.59</td>\n",
              "      <td>7.97</td>\n",
              "      <td>6.47</td>\n",
              "      <td>6.94</td>\n",
              "      <td>9.06</td>\n",
              "      <td>6.50</td>\n",
              "    </tr>\n",
              "    <tr>\n",
              "      <th>1997</th>\n",
              "      <td>2021</td>\n",
              "      <td>5</td>\n",
              "      <td>11</td>\n",
              "      <td>12</td>\n",
              "      <td>30</td>\n",
              "      <td>20210511</td>\n",
              "      <td>2021-05-11 12:30:00</td>\n",
              "      <td>2021-06-05</td>\n",
              "      <td>24</td>\n",
              "      <td>7.81</td>\n",
              "      <td>4.24</td>\n",
              "      <td>7.00</td>\n",
              "      <td>4.35</td>\n",
              "      <td>5.64</td>\n",
              "      <td>6.18</td>\n",
              "    </tr>\n",
              "    <tr>\n",
              "      <th>1998</th>\n",
              "      <td>2021</td>\n",
              "      <td>5</td>\n",
              "      <td>17</td>\n",
              "      <td>8</td>\n",
              "      <td>30</td>\n",
              "      <td>20210517</td>\n",
              "      <td>2021-05-17 08:30:00</td>\n",
              "      <td>2021-06-05</td>\n",
              "      <td>18</td>\n",
              "      <td>5.32</td>\n",
              "      <td>9.90</td>\n",
              "      <td>6.80</td>\n",
              "      <td>9.10</td>\n",
              "      <td>9.48</td>\n",
              "      <td>5.44</td>\n",
              "    </tr>\n",
              "    <tr>\n",
              "      <th>1999</th>\n",
              "      <td>2021</td>\n",
              "      <td>5</td>\n",
              "      <td>17</td>\n",
              "      <td>8</td>\n",
              "      <td>30</td>\n",
              "      <td>20210517</td>\n",
              "      <td>2021-05-17 08:30:00</td>\n",
              "      <td>2021-06-06</td>\n",
              "      <td>19</td>\n",
              "      <td>7.75</td>\n",
              "      <td>4.67</td>\n",
              "      <td>6.52</td>\n",
              "      <td>5.95</td>\n",
              "      <td>7.15</td>\n",
              "      <td>7.58</td>\n",
              "    </tr>\n",
              "  </tbody>\n",
              "</table>\n",
              "<p>2000 rows × 15 columns</p>\n",
              "</div>"
            ],
            "text/plain": [
              "       año  mes  dia  hora  min   dateInt  Date_start_horario  \\\n",
              "0     2021    5   14     9    0  20210514 2021-05-14 09:00:00   \n",
              "1     2021    5   15    11    0  20210515 2021-05-15 11:00:00   \n",
              "2     2021    5   14    12    0  20210514 2021-05-14 12:00:00   \n",
              "3     2021    5   15    13    0  20210515 2021-05-15 13:00:00   \n",
              "4     2021    5   18     8    0  20210518 2021-05-18 08:00:00   \n",
              "...    ...  ...  ...   ...  ...       ...                 ...   \n",
              "1995  2021    5   16    11   30  20210516 2021-05-16 11:30:00   \n",
              "1996  2021    5   15    11   15  20210515 2021-05-15 11:15:00   \n",
              "1997  2021    5   11    12   30  20210511 2021-05-11 12:30:00   \n",
              "1998  2021    5   17     8   30  20210517 2021-05-17 08:30:00   \n",
              "1999  2021    5   17     8   30  20210517 2021-05-17 08:30:00   \n",
              "\n",
              "     Date_start_Examenes  days_left  Lengua  Mates_sociales  Ingles  Economia  \\\n",
              "0             2021-06-04         20    6.71            4.48    6.48      5.20   \n",
              "1             2021-06-08         23    6.37            8.91    6.54      4.75   \n",
              "2             2021-06-07         23    5.87            7.60    4.80      5.79   \n",
              "3             2021-06-03         18    4.45            4.63    9.96      7.85   \n",
              "4             2021-06-05         17    8.48            6.25    6.31      6.07   \n",
              "...                  ...        ...     ...             ...     ...       ...   \n",
              "1995          2021-06-08         22    8.71            5.97    8.15      3.97   \n",
              "1996          2021-06-06         21    4.59            7.97    6.47      6.94   \n",
              "1997          2021-06-05         24    7.81            4.24    7.00      4.35   \n",
              "1998          2021-06-05         18    5.32            9.90    6.80      9.10   \n",
              "1999          2021-06-06         19    7.75            4.67    6.52      5.95   \n",
              "\n",
              "      Geografia  Historia  \n",
              "0          6.00      5.72  \n",
              "1          5.35      7.59  \n",
              "2          5.39      6.57  \n",
              "3          4.39      9.54  \n",
              "4          5.56      6.27  \n",
              "...         ...       ...  \n",
              "1995       4.98      8.09  \n",
              "1996       9.06      6.50  \n",
              "1997       5.64      6.18  \n",
              "1998       9.48      5.44  \n",
              "1999       7.15      7.58  \n",
              "\n",
              "[2000 rows x 15 columns]"
            ]
          },
          "execution_count": 138,
          "metadata": {},
          "output_type": "execute_result"
        }
      ]
    },
    {
      "cell_type": "code",
      "metadata": {
        "id": "f7504cff",
        "outputId": "022e7779-ae5a-4550-df9b-f2e46d3adccb"
      },
      "source": [
        "df2[\"days_left\"].min()"
      ],
      "id": "f7504cff",
      "execution_count": null,
      "outputs": [
        {
          "data": {
            "text/plain": [
              "10"
            ]
          },
          "execution_count": 139,
          "metadata": {},
          "output_type": "execute_result"
        }
      ]
    },
    {
      "cell_type": "code",
      "metadata": {
        "id": "dad62e05"
      },
      "source": [
        "medias=[]\n",
        "for i,pos in enumerate(df2.values.tolist()):\n",
        "    media=round((pos[14]+pos[13]+pos[12]+pos[11]+pos[10]+pos[9])/6,2)\n",
        "    medias.append(media)\n",
        "df2[\"media_troncales\"]=medias\n"
      ],
      "id": "dad62e05",
      "execution_count": null,
      "outputs": []
    },
    {
      "cell_type": "code",
      "metadata": {
        "scrolled": true,
        "id": "9efd846c",
        "outputId": "5585eef0-17a3-4a6a-95d6-9207f537575f"
      },
      "source": [
        "df2.sort_values(by=[\"media_troncales\"],ascending=False)"
      ],
      "id": "9efd846c",
      "execution_count": null,
      "outputs": [
        {
          "data": {
            "text/html": [
              "<div>\n",
              "<style scoped>\n",
              "    .dataframe tbody tr th:only-of-type {\n",
              "        vertical-align: middle;\n",
              "    }\n",
              "\n",
              "    .dataframe tbody tr th {\n",
              "        vertical-align: top;\n",
              "    }\n",
              "\n",
              "    .dataframe thead th {\n",
              "        text-align: right;\n",
              "    }\n",
              "</style>\n",
              "<table border=\"1\" class=\"dataframe\">\n",
              "  <thead>\n",
              "    <tr style=\"text-align: right;\">\n",
              "      <th></th>\n",
              "      <th>año</th>\n",
              "      <th>mes</th>\n",
              "      <th>dia</th>\n",
              "      <th>hora</th>\n",
              "      <th>min</th>\n",
              "      <th>dateInt</th>\n",
              "      <th>Date_start_horario</th>\n",
              "      <th>Date_start_Examenes</th>\n",
              "      <th>days_left</th>\n",
              "      <th>Lengua</th>\n",
              "      <th>Mates_sociales</th>\n",
              "      <th>Ingles</th>\n",
              "      <th>Economia</th>\n",
              "      <th>Geografia</th>\n",
              "      <th>Historia</th>\n",
              "      <th>media_troncales</th>\n",
              "    </tr>\n",
              "  </thead>\n",
              "  <tbody>\n",
              "    <tr>\n",
              "      <th>830</th>\n",
              "      <td>2021</td>\n",
              "      <td>5</td>\n",
              "      <td>12</td>\n",
              "      <td>13</td>\n",
              "      <td>0</td>\n",
              "      <td>20210512</td>\n",
              "      <td>2021-05-12 13:00:00</td>\n",
              "      <td>2021-06-02</td>\n",
              "      <td>20</td>\n",
              "      <td>9.60</td>\n",
              "      <td>7.65</td>\n",
              "      <td>8.99</td>\n",
              "      <td>9.42</td>\n",
              "      <td>8.53</td>\n",
              "      <td>7.99</td>\n",
              "      <td>8.70</td>\n",
              "    </tr>\n",
              "    <tr>\n",
              "      <th>1217</th>\n",
              "      <td>2021</td>\n",
              "      <td>5</td>\n",
              "      <td>13</td>\n",
              "      <td>9</td>\n",
              "      <td>30</td>\n",
              "      <td>20210513</td>\n",
              "      <td>2021-05-13 09:30:00</td>\n",
              "      <td>2021-06-08</td>\n",
              "      <td>25</td>\n",
              "      <td>6.35</td>\n",
              "      <td>7.99</td>\n",
              "      <td>9.90</td>\n",
              "      <td>9.40</td>\n",
              "      <td>9.46</td>\n",
              "      <td>8.77</td>\n",
              "      <td>8.65</td>\n",
              "    </tr>\n",
              "    <tr>\n",
              "      <th>1538</th>\n",
              "      <td>2021</td>\n",
              "      <td>5</td>\n",
              "      <td>15</td>\n",
              "      <td>8</td>\n",
              "      <td>0</td>\n",
              "      <td>20210515</td>\n",
              "      <td>2021-05-15 08:00:00</td>\n",
              "      <td>2021-06-04</td>\n",
              "      <td>19</td>\n",
              "      <td>6.86</td>\n",
              "      <td>8.58</td>\n",
              "      <td>9.22</td>\n",
              "      <td>7.66</td>\n",
              "      <td>9.52</td>\n",
              "      <td>8.66</td>\n",
              "      <td>8.42</td>\n",
              "    </tr>\n",
              "    <tr>\n",
              "      <th>1197</th>\n",
              "      <td>2021</td>\n",
              "      <td>5</td>\n",
              "      <td>17</td>\n",
              "      <td>10</td>\n",
              "      <td>45</td>\n",
              "      <td>20210517</td>\n",
              "      <td>2021-05-17 10:45:00</td>\n",
              "      <td>2021-06-04</td>\n",
              "      <td>17</td>\n",
              "      <td>7.60</td>\n",
              "      <td>7.20</td>\n",
              "      <td>9.08</td>\n",
              "      <td>8.71</td>\n",
              "      <td>8.25</td>\n",
              "      <td>9.30</td>\n",
              "      <td>8.36</td>\n",
              "    </tr>\n",
              "    <tr>\n",
              "      <th>1005</th>\n",
              "      <td>2021</td>\n",
              "      <td>5</td>\n",
              "      <td>18</td>\n",
              "      <td>10</td>\n",
              "      <td>0</td>\n",
              "      <td>20210518</td>\n",
              "      <td>2021-05-18 10:00:00</td>\n",
              "      <td>2021-06-10</td>\n",
              "      <td>22</td>\n",
              "      <td>6.41</td>\n",
              "      <td>8.97</td>\n",
              "      <td>6.32</td>\n",
              "      <td>9.92</td>\n",
              "      <td>9.46</td>\n",
              "      <td>9.07</td>\n",
              "      <td>8.36</td>\n",
              "    </tr>\n",
              "    <tr>\n",
              "      <th>...</th>\n",
              "      <td>...</td>\n",
              "      <td>...</td>\n",
              "      <td>...</td>\n",
              "      <td>...</td>\n",
              "      <td>...</td>\n",
              "      <td>...</td>\n",
              "      <td>...</td>\n",
              "      <td>...</td>\n",
              "      <td>...</td>\n",
              "      <td>...</td>\n",
              "      <td>...</td>\n",
              "      <td>...</td>\n",
              "      <td>...</td>\n",
              "      <td>...</td>\n",
              "      <td>...</td>\n",
              "      <td>...</td>\n",
              "    </tr>\n",
              "    <tr>\n",
              "      <th>250</th>\n",
              "      <td>2021</td>\n",
              "      <td>5</td>\n",
              "      <td>12</td>\n",
              "      <td>8</td>\n",
              "      <td>30</td>\n",
              "      <td>20210512</td>\n",
              "      <td>2021-05-12 08:30:00</td>\n",
              "      <td>2021-06-08</td>\n",
              "      <td>26</td>\n",
              "      <td>5.65</td>\n",
              "      <td>5.01</td>\n",
              "      <td>4.36</td>\n",
              "      <td>4.80</td>\n",
              "      <td>6.11</td>\n",
              "      <td>4.97</td>\n",
              "      <td>5.15</td>\n",
              "    </tr>\n",
              "    <tr>\n",
              "      <th>1826</th>\n",
              "      <td>2021</td>\n",
              "      <td>5</td>\n",
              "      <td>14</td>\n",
              "      <td>12</td>\n",
              "      <td>30</td>\n",
              "      <td>20210514</td>\n",
              "      <td>2021-05-14 12:30:00</td>\n",
              "      <td>2021-06-07</td>\n",
              "      <td>23</td>\n",
              "      <td>4.33</td>\n",
              "      <td>4.79</td>\n",
              "      <td>4.90</td>\n",
              "      <td>7.15</td>\n",
              "      <td>4.77</td>\n",
              "      <td>4.90</td>\n",
              "      <td>5.14</td>\n",
              "    </tr>\n",
              "    <tr>\n",
              "      <th>618</th>\n",
              "      <td>2021</td>\n",
              "      <td>5</td>\n",
              "      <td>16</td>\n",
              "      <td>8</td>\n",
              "      <td>30</td>\n",
              "      <td>20210516</td>\n",
              "      <td>2021-05-16 08:30:00</td>\n",
              "      <td>2021-06-06</td>\n",
              "      <td>20</td>\n",
              "      <td>6.02</td>\n",
              "      <td>4.80</td>\n",
              "      <td>5.48</td>\n",
              "      <td>3.85</td>\n",
              "      <td>4.80</td>\n",
              "      <td>5.62</td>\n",
              "      <td>5.09</td>\n",
              "    </tr>\n",
              "    <tr>\n",
              "      <th>279</th>\n",
              "      <td>2021</td>\n",
              "      <td>5</td>\n",
              "      <td>18</td>\n",
              "      <td>13</td>\n",
              "      <td>30</td>\n",
              "      <td>20210518</td>\n",
              "      <td>2021-05-18 13:30:00</td>\n",
              "      <td>2021-06-02</td>\n",
              "      <td>14</td>\n",
              "      <td>4.90</td>\n",
              "      <td>5.05</td>\n",
              "      <td>5.09</td>\n",
              "      <td>5.19</td>\n",
              "      <td>4.32</td>\n",
              "      <td>5.42</td>\n",
              "      <td>5.00</td>\n",
              "    </tr>\n",
              "    <tr>\n",
              "      <th>706</th>\n",
              "      <td>2021</td>\n",
              "      <td>5</td>\n",
              "      <td>18</td>\n",
              "      <td>11</td>\n",
              "      <td>30</td>\n",
              "      <td>20210518</td>\n",
              "      <td>2021-05-18 11:30:00</td>\n",
              "      <td>2021-06-07</td>\n",
              "      <td>19</td>\n",
              "      <td>4.70</td>\n",
              "      <td>4.70</td>\n",
              "      <td>6.24</td>\n",
              "      <td>4.18</td>\n",
              "      <td>4.74</td>\n",
              "      <td>4.95</td>\n",
              "      <td>4.92</td>\n",
              "    </tr>\n",
              "  </tbody>\n",
              "</table>\n",
              "<p>2000 rows × 16 columns</p>\n",
              "</div>"
            ],
            "text/plain": [
              "       año  mes  dia  hora  min   dateInt  Date_start_horario  \\\n",
              "830   2021    5   12    13    0  20210512 2021-05-12 13:00:00   \n",
              "1217  2021    5   13     9   30  20210513 2021-05-13 09:30:00   \n",
              "1538  2021    5   15     8    0  20210515 2021-05-15 08:00:00   \n",
              "1197  2021    5   17    10   45  20210517 2021-05-17 10:45:00   \n",
              "1005  2021    5   18    10    0  20210518 2021-05-18 10:00:00   \n",
              "...    ...  ...  ...   ...  ...       ...                 ...   \n",
              "250   2021    5   12     8   30  20210512 2021-05-12 08:30:00   \n",
              "1826  2021    5   14    12   30  20210514 2021-05-14 12:30:00   \n",
              "618   2021    5   16     8   30  20210516 2021-05-16 08:30:00   \n",
              "279   2021    5   18    13   30  20210518 2021-05-18 13:30:00   \n",
              "706   2021    5   18    11   30  20210518 2021-05-18 11:30:00   \n",
              "\n",
              "     Date_start_Examenes  days_left  Lengua  Mates_sociales  Ingles  Economia  \\\n",
              "830           2021-06-02         20    9.60            7.65    8.99      9.42   \n",
              "1217          2021-06-08         25    6.35            7.99    9.90      9.40   \n",
              "1538          2021-06-04         19    6.86            8.58    9.22      7.66   \n",
              "1197          2021-06-04         17    7.60            7.20    9.08      8.71   \n",
              "1005          2021-06-10         22    6.41            8.97    6.32      9.92   \n",
              "...                  ...        ...     ...             ...     ...       ...   \n",
              "250           2021-06-08         26    5.65            5.01    4.36      4.80   \n",
              "1826          2021-06-07         23    4.33            4.79    4.90      7.15   \n",
              "618           2021-06-06         20    6.02            4.80    5.48      3.85   \n",
              "279           2021-06-02         14    4.90            5.05    5.09      5.19   \n",
              "706           2021-06-07         19    4.70            4.70    6.24      4.18   \n",
              "\n",
              "      Geografia  Historia  media_troncales  \n",
              "830        8.53      7.99             8.70  \n",
              "1217       9.46      8.77             8.65  \n",
              "1538       9.52      8.66             8.42  \n",
              "1197       8.25      9.30             8.36  \n",
              "1005       9.46      9.07             8.36  \n",
              "...         ...       ...              ...  \n",
              "250        6.11      4.97             5.15  \n",
              "1826       4.77      4.90             5.14  \n",
              "618        4.80      5.62             5.09  \n",
              "279        4.32      5.42             5.00  \n",
              "706        4.74      4.95             4.92  \n",
              "\n",
              "[2000 rows x 16 columns]"
            ]
          },
          "execution_count": 169,
          "metadata": {},
          "output_type": "execute_result"
        }
      ]
    },
    {
      "cell_type": "code",
      "metadata": {
        "scrolled": true,
        "id": "9f5a5391",
        "outputId": "5a896d45-6970-4c3b-9c8c-6a3477779fef"
      },
      "source": [
        "for i,pos2 in enumerate(df2[[\"Lengua\",\"Mates_sociales\",\"Ingles\",\"Economia\",\"Geografia\",\"Historia\"]]):\n",
        "    suspensos=[]\n",
        "    suspensos2=[]\n",
        "    sobresalientes=[]\n",
        "    for i,pos in enumerate(df2[pos2].values.tolist()):\n",
        "        if pos <5:\n",
        "            if pos >= 4:\n",
        "                suspensos.append(pos)\n",
        "            else:\n",
        "                suspensos2.append(pos)\n",
        "        elif pos >8:\n",
        "            sobresalientes.append(pos)\n",
        "\n",
        "    print(round(Average(df2[pos2].values.tolist()),2),\"media de \"+pos2)\n",
        "    print(len(suspensos2),\"alumnos con menos de un 4\")\n",
        "    print(len(suspensos2)/20+(len(suspensos)/20),\"% de alumnos con notas menores a 5\")\n",
        "    print(len(suspensos2)/20,\"% de alumnos con notas menores a 4\")\n",
        "    print(len(sobresalientes)/20,\"% de alumnos con notas mayores a 8\")\n",
        "    print()"
      ],
      "id": "9f5a5391",
      "execution_count": null,
      "outputs": [
        {
          "name": "stdout",
          "output_type": "stream",
          "text": [
            "6.5 media de Lengua\n",
            "28 alumnos con menos de un 4\n",
            "18.25 % de alumnos con notas menores a 5\n",
            "1.4 % de alumnos con notas menores a 4\n",
            "17.05 % de alumnos con notas mayores a 8\n",
            "\n",
            "6.49 media de Mates_sociales\n",
            "20 alumnos con menos de un 4\n",
            "17.4 % de alumnos con notas menores a 5\n",
            "1.0 % de alumnos con notas menores a 4\n",
            "17.4 % de alumnos con notas mayores a 8\n",
            "\n",
            "6.88 media de Ingles\n",
            "19 alumnos con menos de un 4\n",
            "10.299999999999999 % de alumnos con notas menores a 5\n",
            "0.95 % de alumnos con notas menores a 4\n",
            "23.35 % de alumnos con notas mayores a 8\n",
            "\n",
            "6.63 media de Economia\n",
            "29 alumnos con menos de un 4\n",
            "15.799999999999999 % de alumnos con notas menores a 5\n",
            "1.45 % de alumnos con notas menores a 4\n",
            "20.0 % de alumnos con notas mayores a 8\n",
            "\n",
            "6.61 media de Geografia\n",
            "21 alumnos con menos de un 4\n",
            "15.55 % de alumnos con notas menores a 5\n",
            "1.05 % de alumnos con notas menores a 4\n",
            "20.4 % de alumnos con notas mayores a 8\n",
            "\n",
            "6.57 media de Historia\n",
            "20 alumnos con menos de un 4\n",
            "16.15 % de alumnos con notas menores a 5\n",
            "1.0 % de alumnos con notas menores a 4\n",
            "19.1 % de alumnos con notas mayores a 8\n",
            "\n"
          ]
        }
      ]
    },
    {
      "cell_type": "code",
      "metadata": {
        "id": "205d98d2",
        "outputId": "607e3004-0922-4c16-be8d-4f987685649f"
      },
      "source": [
        "suspensos=[5.10,4.75,4.15,4.50,4.80,4.59,4.55,5.35,5]\n",
        "\n",
        "def checksus(lista):\n",
        "    asignaturasHOYO=[]\n",
        "    ises=[]\n",
        "    for i in range(len(lista)):\n",
        "        if lista[i]<4.71:#antes 4.7\n",
        "            asignaturasHOYO.append(1)\n",
        "            ises.append(i)\n",
        "    return sum(asignaturasHOYO),ises\n",
        "(checksus(suspensos)[1])\n"
      ],
      "id": "205d98d2",
      "execution_count": null,
      "outputs": [
        {
          "data": {
            "text/plain": [
              "[2, 3, 5, 6]"
            ]
          },
          "execution_count": 170,
          "metadata": {},
          "output_type": "execute_result"
        }
      ]
    },
    {
      "cell_type": "code",
      "metadata": {
        "id": "b872019e",
        "outputId": "657a8793-ff98-422c-c5dd-69adbbcb2265"
      },
      "source": [
        "random.sample([2,3,6,8], 1)"
      ],
      "id": "b872019e",
      "execution_count": null,
      "outputs": [
        {
          "data": {
            "text/plain": [
              "[3]"
            ]
          },
          "execution_count": 171,
          "metadata": {},
          "output_type": "execute_result"
        }
      ]
    },
    {
      "cell_type": "code",
      "metadata": {
        "scrolled": true,
        "id": "162a4400",
        "outputId": "70c285f0-841f-42ad-a0d3-b9c477324914"
      },
      "source": [
        "menosde5=[]\n",
        "for i,pos in enumerate(df2[[\"Lengua\",\"Mates_sociales\",\"Ingles\",\"Economia\",\"Geografia\",\"Historia\"]].values.tolist()):\n",
        "    new_pos=pos\n",
        "    if checksus(pos)[0]>=2:\n",
        "        print(pos)\n",
        "        menosde5.append(pos)\n",
        "#alumnos con 2 o mas que tienen menos de 5\n",
        "        \n",
        "        \n",
        "\n"
      ],
      "id": "162a4400",
      "execution_count": null,
      "outputs": [
        {
          "name": "stdout",
          "output_type": "stream",
          "text": [
            "[4.7, 4.7, 6.24, 4.18, 4.74, 4.95]\n",
            "[4.85, 4.7, 8.74, 5.56, 5.1, 3.92]\n",
            "[4.95, 5.1, 7.23, 4.59, 4.7, 6.21]\n"
          ]
        }
      ]
    },
    {
      "cell_type": "code",
      "metadata": {
        "id": "900782d4",
        "outputId": "8f21ba86-3519-414c-9b94-32b8a6d03e7e"
      },
      "source": [
        "print(len(menosde5)/20,\"% de los alumnos tienen 2 o mas asignaturas con menos de un 4.72\")"
      ],
      "id": "900782d4",
      "execution_count": null,
      "outputs": [
        {
          "name": "stdout",
          "output_type": "stream",
          "text": [
            "0.15 % de los alumnos tienen 2 o mas asignaturas con menos de un 4.72\n"
          ]
        }
      ]
    },
    {
      "cell_type": "markdown",
      "metadata": {
        "id": "326545bf"
      },
      "source": [
        "### arreglo no permitir mas de 2 notas seguidas menores a 4.7"
      ],
      "id": "326545bf"
    },
    {
      "cell_type": "code",
      "metadata": {
        "id": "1903041b"
      },
      "source": [
        "#suspensos=[5.05,4.95,5.10,5.00,4.90]\n",
        "suspensos=[5.00,5.05,4.95,4.85,4.70,5.10]\n",
        "new_values=[]\n",
        "for i,pos in enumerate(df2[[\"Lengua\",\"Mates_sociales\",\"Ingles\",\"Economia\",\"Geografia\",\"Historia\"]].values.tolist()):\n",
        "    newpos=pos\n",
        "    if checksus(pos)[0]==4:\n",
        "        numbers=random.sample(checksus(pos)[1], 3)\n",
        "        for i3 in numbers:\n",
        "            newpos[i3]=random.choices(suspensos,weights=[1,1,1,1,1,1],k=1)[0]\n",
        "        new_values.append(newpos)\n",
        "    else:\n",
        "        new_values.append(pos)\n",
        "    \n",
        "df2[[\"Lengua\",\"Mates_sociales\",\"Ingles\",\"Economia\",\"Geografia\",\"Historia\"]]=new_values\n",
        "\n"
      ],
      "id": "1903041b",
      "execution_count": null,
      "outputs": []
    },
    {
      "cell_type": "code",
      "metadata": {
        "id": "3b7df1cb"
      },
      "source": [
        ""
      ],
      "id": "3b7df1cb",
      "execution_count": null,
      "outputs": []
    },
    {
      "cell_type": "code",
      "metadata": {
        "id": "627af0c5"
      },
      "source": [
        "i1"
      ],
      "id": "627af0c5",
      "execution_count": null,
      "outputs": []
    },
    {
      "cell_type": "code",
      "metadata": {
        "id": "a776a949"
      },
      "source": [
        "df2.to_csv(\"Bach_Sociales.csv\",index=False)"
      ],
      "id": "a776a949",
      "execution_count": null,
      "outputs": []
    },
    {
      "cell_type": "code",
      "metadata": {
        "id": "e4424541",
        "outputId": "cd32b633-7ac7-4056-f424-d50b8422fb36"
      },
      "source": [
        "df1[\"media_troncales\"].mean()"
      ],
      "id": "e4424541",
      "execution_count": null,
      "outputs": [
        {
          "data": {
            "text/plain": [
              "6.591584999999991"
            ]
          },
          "execution_count": 445,
          "metadata": {},
          "output_type": "execute_result"
        }
      ]
    },
    {
      "cell_type": "code",
      "metadata": {
        "id": "af4844e6"
      },
      "source": [
        ""
      ],
      "id": "af4844e6",
      "execution_count": null,
      "outputs": []
    }
  ]
}