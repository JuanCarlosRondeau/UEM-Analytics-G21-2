{
  "nbformat": 4,
  "nbformat_minor": 5,
  "metadata": {
    "kernelspec": {
      "display_name": "Python 3",
      "language": "python",
      "name": "python3"
    },
    "language_info": {
      "codemirror_mode": {
        "name": "ipython",
        "version": 3
      },
      "file_extension": ".py",
      "mimetype": "text/x-python",
      "name": "python",
      "nbconvert_exporter": "python",
      "pygments_lexer": "ipython3",
      "version": "3.8.8"
    },
    "colab": {
      "name": "probando notas reales ciencias.ipynb",
      "provenance": []
    }
  },
  "cells": [
    {
      "cell_type": "code",
      "metadata": {
        "id": "c61fec15"
      },
      "source": [
        "from lxml import html \n",
        "import requests\n",
        "from bs4 import BeautifulSoup\n",
        "import csv\n",
        "from datetime import datetime\n",
        "import requests \n",
        "import itertools\n",
        "import pandas as pd\n",
        "import numpy as np"
      ],
      "id": "c61fec15",
      "execution_count": null,
      "outputs": []
    },
    {
      "cell_type": "code",
      "metadata": {
        "id": "88845139",
        "outputId": "1f7cfb42-10f0-4870-ab93-5cdeeaf81d34"
      },
      "source": [
        "\n",
        "\n",
        "url = 'https://rstudio-pubs-static.s3.amazonaws.com/288508_31e28163c3934a75a8fafb930765377c.html#'\n",
        "    # Request the page \n",
        "# get the contents of the webpage in text format and store in a variable called data\n",
        "data  = requests.get(url).text\n",
        "soup = BeautifulSoup(data,\"html5lib\")\n",
        "#find all html tables in script  web page\n",
        "tables = soup.find_all('script') # in html table is represented by the tag <table> da igual el script\n",
        "len(tables)"
      ],
      "id": "88845139",
      "execution_count": null,
      "outputs": [
        {
          "data": {
            "text/plain": [
              "17"
            ]
          },
          "execution_count": 3,
          "metadata": {},
          "output_type": "execute_result"
        }
      ]
    },
    {
      "cell_type": "code",
      "metadata": {
        "id": "02a9ab7a",
        "outputId": "c60a3517-b5bf-4d5d-a172-a4cc24841e1f"
      },
      "source": [
        "for index,table in enumerate(tables):\n",
        "    #print(table)\n",
        "    if ('data-pagedtable-source=\"\" type=\"application/json\">' in str(table)):\n",
        "        table_index = index\n",
        "        tabel=table\n",
        "print(table_index)"
      ],
      "id": "02a9ab7a",
      "execution_count": null,
      "outputs": [
        {
          "name": "stdout",
          "output_type": "stream",
          "text": [
            "14\n"
          ]
        }
      ]
    },
    {
      "cell_type": "code",
      "metadata": {
        "id": "bca02629"
      },
      "source": [
        "from pathlib import Path\n",
        "txt = Path('notasmates.txt').read_text()"
      ],
      "id": "bca02629",
      "execution_count": null,
      "outputs": []
    },
    {
      "cell_type": "code",
      "metadata": {
        "id": "872c6d0e",
        "outputId": "899b997e-ee9e-4968-8e7f-35534267cb49"
      },
      "source": [
        "print(type(txt))\n",
        "# re\n",
        "# converting json dataset from dictionary to dataframe\n",
        "data = json.loads(txt)\n",
        "df = pd.json_normalize(data['columns'])\n",
        "columns=[]\n",
        "for i,pos in enumerate(df[\"label\"].values.tolist()):\n",
        "    if pos[0]!=\"\":\n",
        "        columns.append(pos[0])\n",
        "        \n",
        "columns"
      ],
      "id": "872c6d0e",
      "execution_count": null,
      "outputs": [
        {
          "name": "stdout",
          "output_type": "stream",
          "text": [
            "<class 'str'>\n"
          ]
        },
        {
          "data": {
            "text/plain": [
              "['Curso02',\n",
              " 'Seccion03',\n",
              " 'Carrera04',\n",
              " 'Facultad05',\n",
              " 'Fecha06',\n",
              " 'Ciclo07',\n",
              " 'Genero10',\n",
              " 'PrimerParcial11',\n",
              " 'SegundoParcial13',\n",
              " 'ExamenFinal15',\n",
              " 'NotaFinal17']"
            ]
          },
          "execution_count": 64,
          "metadata": {},
          "output_type": "execute_result"
        }
      ]
    },
    {
      "cell_type": "code",
      "metadata": {
        "id": "450959e4",
        "outputId": "03bd0e4f-f46c-4efc-ca9e-b5b83d46f679"
      },
      "source": [
        "# re\n",
        "# converting json dataset from dictionary to dataframe\n",
        "columns.append(\"id\")\n",
        "data = json.loads(txt)\n",
        "df = pd.json_normalize(data['data'])\n",
        "df.columns=columns\n",
        "df"
      ],
      "id": "450959e4",
      "execution_count": null,
      "outputs": [
        {
          "data": {
            "text/html": [
              "<div>\n",
              "<style scoped>\n",
              "    .dataframe tbody tr th:only-of-type {\n",
              "        vertical-align: middle;\n",
              "    }\n",
              "\n",
              "    .dataframe tbody tr th {\n",
              "        vertical-align: top;\n",
              "    }\n",
              "\n",
              "    .dataframe thead th {\n",
              "        text-align: right;\n",
              "    }\n",
              "</style>\n",
              "<table border=\"1\" class=\"dataframe\">\n",
              "  <thead>\n",
              "    <tr style=\"text-align: right;\">\n",
              "      <th></th>\n",
              "      <th>Curso02</th>\n",
              "      <th>Seccion03</th>\n",
              "      <th>Carrera04</th>\n",
              "      <th>Facultad05</th>\n",
              "      <th>Fecha06</th>\n",
              "      <th>Ciclo07</th>\n",
              "      <th>Genero10</th>\n",
              "      <th>PrimerParcial11</th>\n",
              "      <th>SegundoParcial13</th>\n",
              "      <th>ExamenFinal15</th>\n",
              "      <th>NotaFinal17</th>\n",
              "      <th>id</th>\n",
              "    </tr>\n",
              "  </thead>\n",
              "  <tbody>\n",
              "    <tr>\n",
              "      <th>0</th>\n",
              "      <td>Matematica I</td>\n",
              "      <td>A</td>\n",
              "      <td>IME</td>\n",
              "      <td>FISICC</td>\n",
              "      <td>06/01/2011</td>\n",
              "      <td>2011</td>\n",
              "      <td>1</td>\n",
              "      <td>50</td>\n",
              "      <td>90</td>\n",
              "      <td>88</td>\n",
              "      <td>90</td>\n",
              "      <td>1</td>\n",
              "    </tr>\n",
              "    <tr>\n",
              "      <th>1</th>\n",
              "      <td>Matematica I</td>\n",
              "      <td>A</td>\n",
              "      <td>II</td>\n",
              "      <td>FISICC</td>\n",
              "      <td>06/01/2011</td>\n",
              "      <td>2011</td>\n",
              "      <td>2</td>\n",
              "      <td>25</td>\n",
              "      <td>50</td>\n",
              "      <td>0</td>\n",
              "      <td>22</td>\n",
              "      <td>2</td>\n",
              "    </tr>\n",
              "    <tr>\n",
              "      <th>2</th>\n",
              "      <td>Matematica I</td>\n",
              "      <td>A</td>\n",
              "      <td>II</td>\n",
              "      <td>FISICC</td>\n",
              "      <td>06/01/2011</td>\n",
              "      <td>2011</td>\n",
              "      <td>1</td>\n",
              "      <td>75</td>\n",
              "      <td>100</td>\n",
              "      <td>0</td>\n",
              "      <td>53</td>\n",
              "      <td>3</td>\n",
              "    </tr>\n",
              "    <tr>\n",
              "      <th>3</th>\n",
              "      <td>Matematica I</td>\n",
              "      <td>A</td>\n",
              "      <td>II</td>\n",
              "      <td>FISICC</td>\n",
              "      <td>06/01/2011</td>\n",
              "      <td>2011</td>\n",
              "      <td>1</td>\n",
              "      <td>0</td>\n",
              "      <td>60</td>\n",
              "      <td>0</td>\n",
              "      <td>13</td>\n",
              "      <td>4</td>\n",
              "    </tr>\n",
              "    <tr>\n",
              "      <th>4</th>\n",
              "      <td>Matematica I</td>\n",
              "      <td>A</td>\n",
              "      <td>ITR</td>\n",
              "      <td>FISICC</td>\n",
              "      <td>06/01/2011</td>\n",
              "      <td>2011</td>\n",
              "      <td>1</td>\n",
              "      <td>100</td>\n",
              "      <td>100</td>\n",
              "      <td>93</td>\n",
              "      <td>100</td>\n",
              "      <td>5</td>\n",
              "    </tr>\n",
              "    <tr>\n",
              "      <th>...</th>\n",
              "      <td>...</td>\n",
              "      <td>...</td>\n",
              "      <td>...</td>\n",
              "      <td>...</td>\n",
              "      <td>...</td>\n",
              "      <td>...</td>\n",
              "      <td>...</td>\n",
              "      <td>...</td>\n",
              "      <td>...</td>\n",
              "      <td>...</td>\n",
              "      <td>...</td>\n",
              "      <td>...</td>\n",
              "    </tr>\n",
              "    <tr>\n",
              "      <th>995</th>\n",
              "      <td>Nivelacion Matematica</td>\n",
              "      <td>A</td>\n",
              "      <td>IU</td>\n",
              "      <td>FACTI</td>\n",
              "      <td>06/01/2014</td>\n",
              "      <td>2014</td>\n",
              "      <td>1</td>\n",
              "      <td>72</td>\n",
              "      <td>6</td>\n",
              "      <td>0</td>\n",
              "      <td>37</td>\n",
              "      <td>996</td>\n",
              "    </tr>\n",
              "    <tr>\n",
              "      <th>996</th>\n",
              "      <td>Nivelacion Matematica</td>\n",
              "      <td>A</td>\n",
              "      <td>IU</td>\n",
              "      <td>FACTI</td>\n",
              "      <td>06/01/2014</td>\n",
              "      <td>2014</td>\n",
              "      <td>2</td>\n",
              "      <td>48</td>\n",
              "      <td>44</td>\n",
              "      <td>61</td>\n",
              "      <td>65</td>\n",
              "      <td>997</td>\n",
              "    </tr>\n",
              "    <tr>\n",
              "      <th>997</th>\n",
              "      <td>Nivelacion Matematica</td>\n",
              "      <td>A</td>\n",
              "      <td>IU</td>\n",
              "      <td>FACTI</td>\n",
              "      <td>06/01/2014</td>\n",
              "      <td>2014</td>\n",
              "      <td>1</td>\n",
              "      <td>80</td>\n",
              "      <td>55</td>\n",
              "      <td>40</td>\n",
              "      <td>68</td>\n",
              "      <td>998</td>\n",
              "    </tr>\n",
              "    <tr>\n",
              "      <th>998</th>\n",
              "      <td>Nivelacion Matematica</td>\n",
              "      <td>A</td>\n",
              "      <td>IU</td>\n",
              "      <td>FACTI</td>\n",
              "      <td>06/01/2014</td>\n",
              "      <td>2014</td>\n",
              "      <td>1</td>\n",
              "      <td>78</td>\n",
              "      <td>75</td>\n",
              "      <td>41</td>\n",
              "      <td>64</td>\n",
              "      <td>999</td>\n",
              "    </tr>\n",
              "    <tr>\n",
              "      <th>999</th>\n",
              "      <td>Nivelacion Matematica</td>\n",
              "      <td>A</td>\n",
              "      <td>IU</td>\n",
              "      <td>FACTI</td>\n",
              "      <td>06/01/2014</td>\n",
              "      <td>2014</td>\n",
              "      <td>1</td>\n",
              "      <td>59</td>\n",
              "      <td>85</td>\n",
              "      <td>30</td>\n",
              "      <td>67</td>\n",
              "      <td>1000</td>\n",
              "    </tr>\n",
              "  </tbody>\n",
              "</table>\n",
              "<p>1000 rows × 12 columns</p>\n",
              "</div>"
            ],
            "text/plain": [
              "                   Curso02 Seccion03 Carrera04 Facultad05     Fecha06 Ciclo07  \\\n",
              "0             Matematica I         A       IME     FISICC  06/01/2011    2011   \n",
              "1             Matematica I         A        II     FISICC  06/01/2011    2011   \n",
              "2             Matematica I         A        II     FISICC  06/01/2011    2011   \n",
              "3             Matematica I         A        II     FISICC  06/01/2011    2011   \n",
              "4             Matematica I         A       ITR     FISICC  06/01/2011    2011   \n",
              "..                     ...       ...       ...        ...         ...     ...   \n",
              "995  Nivelacion Matematica         A        IU      FACTI  06/01/2014    2014   \n",
              "996  Nivelacion Matematica         A        IU      FACTI  06/01/2014    2014   \n",
              "997  Nivelacion Matematica         A        IU      FACTI  06/01/2014    2014   \n",
              "998  Nivelacion Matematica         A        IU      FACTI  06/01/2014    2014   \n",
              "999  Nivelacion Matematica         A        IU      FACTI  06/01/2014    2014   \n",
              "\n",
              "    Genero10 PrimerParcial11 SegundoParcial13 ExamenFinal15 NotaFinal17    id  \n",
              "0          1              50               90            88          90     1  \n",
              "1          2              25               50             0          22     2  \n",
              "2          1              75              100             0          53     3  \n",
              "3          1               0               60             0          13     4  \n",
              "4          1             100              100            93         100     5  \n",
              "..       ...             ...              ...           ...         ...   ...  \n",
              "995        1              72                6             0          37   996  \n",
              "996        2              48               44            61          65   997  \n",
              "997        1              80               55            40          68   998  \n",
              "998        1              78               75            41          64   999  \n",
              "999        1              59               85            30          67  1000  \n",
              "\n",
              "[1000 rows x 12 columns]"
            ]
          },
          "execution_count": 65,
          "metadata": {},
          "output_type": "execute_result"
        }
      ]
    },
    {
      "cell_type": "code",
      "metadata": {
        "id": "02d4a601"
      },
      "source": [
        "df.to_csv(\"notasmates.csv\",index=False)"
      ],
      "id": "02d4a601",
      "execution_count": null,
      "outputs": []
    },
    {
      "cell_type": "code",
      "metadata": {
        "id": "ec1eb2f5",
        "outputId": "216bbe25-6436-4fdb-de76-d8a575137212"
      },
      "source": [
        "df = pd.read_csv(\"notasmates.csv\")\n",
        "print(df[\"NotaFinal17\"].mean())\n",
        "print(df[\"ExamenFinal15\"].mean())\n",
        "print(df[\"PrimerParcial11\"].mean(),df[\"SegundoParcial13\"].mean())"
      ],
      "id": "ec1eb2f5",
      "execution_count": null,
      "outputs": [
        {
          "name": "stdout",
          "output_type": "stream",
          "text": [
            "51.735\n",
            "39.231\n",
            "56.095 51.298\n"
          ]
        }
      ]
    },
    {
      "cell_type": "code",
      "metadata": {
        "id": "54e00a07",
        "outputId": "2cdb7c4b-16d8-4571-d3e6-f812805556bf"
      },
      "source": [
        "df = pd.read_csv(\"notasmates.csv\")\n",
        "df = df.groupby('Curso02').size().reset_index(name='Count').rename(columns={'Curso02':'Curso02'})\n",
        "df=df.sort_values(by=[\"Count\"],ascending=False)\n",
        "df.index=range(1,len(df)+1)\n",
        "df"
      ],
      "id": "54e00a07",
      "execution_count": null,
      "outputs": [
        {
          "data": {
            "text/html": [
              "<div>\n",
              "<style scoped>\n",
              "    .dataframe tbody tr th:only-of-type {\n",
              "        vertical-align: middle;\n",
              "    }\n",
              "\n",
              "    .dataframe tbody tr th {\n",
              "        vertical-align: top;\n",
              "    }\n",
              "\n",
              "    .dataframe thead th {\n",
              "        text-align: right;\n",
              "    }\n",
              "</style>\n",
              "<table border=\"1\" class=\"dataframe\">\n",
              "  <thead>\n",
              "    <tr style=\"text-align: right;\">\n",
              "      <th></th>\n",
              "      <th>Curso02</th>\n",
              "      <th>Count</th>\n",
              "    </tr>\n",
              "  </thead>\n",
              "  <tbody>\n",
              "    <tr>\n",
              "      <th>1</th>\n",
              "      <td>Matematica I</td>\n",
              "      <td>556</td>\n",
              "    </tr>\n",
              "    <tr>\n",
              "      <th>2</th>\n",
              "      <td>Nivelacion Matematica</td>\n",
              "      <td>235</td>\n",
              "    </tr>\n",
              "    <tr>\n",
              "      <th>3</th>\n",
              "      <td>Matematica 108</td>\n",
              "      <td>200</td>\n",
              "    </tr>\n",
              "    <tr>\n",
              "      <th>4</th>\n",
              "      <td>Matematica II</td>\n",
              "      <td>9</td>\n",
              "    </tr>\n",
              "  </tbody>\n",
              "</table>\n",
              "</div>"
            ],
            "text/plain": [
              "                 Curso02  Count\n",
              "1           Matematica I    556\n",
              "2  Nivelacion Matematica    235\n",
              "3         Matematica 108    200\n",
              "4          Matematica II      9"
            ]
          },
          "execution_count": 67,
          "metadata": {},
          "output_type": "execute_result"
        }
      ]
    },
    {
      "cell_type": "code",
      "metadata": {
        "id": "d68f5bf7",
        "outputId": "1e82bd5f-09e1-4a0e-b4c1-3faf2c1f2824"
      },
      "source": [
        "\n",
        "df =df[[\"Curso02\",\"PrimerParcial11\",\"SegundoParcial13\",\"ExamenFinal15\",\"NotaFinal17\"]].groupby(['Curso02'],as_index=False).mean()\n",
        "\n",
        "df.index=range(1,len(df)+1)\n",
        "df"
      ],
      "id": "d68f5bf7",
      "execution_count": null,
      "outputs": [
        {
          "data": {
            "text/html": [
              "<div>\n",
              "<style scoped>\n",
              "    .dataframe tbody tr th:only-of-type {\n",
              "        vertical-align: middle;\n",
              "    }\n",
              "\n",
              "    .dataframe tbody tr th {\n",
              "        vertical-align: top;\n",
              "    }\n",
              "\n",
              "    .dataframe thead th {\n",
              "        text-align: right;\n",
              "    }\n",
              "</style>\n",
              "<table border=\"1\" class=\"dataframe\">\n",
              "  <thead>\n",
              "    <tr style=\"text-align: right;\">\n",
              "      <th></th>\n",
              "      <th>Curso02</th>\n",
              "      <th>PrimerParcial11</th>\n",
              "      <th>SegundoParcial13</th>\n",
              "      <th>ExamenFinal15</th>\n",
              "      <th>NotaFinal17</th>\n",
              "    </tr>\n",
              "  </thead>\n",
              "  <tbody>\n",
              "    <tr>\n",
              "      <th>1</th>\n",
              "      <td>Matematica 108</td>\n",
              "      <td>52.750000</td>\n",
              "      <td>47.855000</td>\n",
              "      <td>35.395000</td>\n",
              "      <td>49.240000</td>\n",
              "    </tr>\n",
              "    <tr>\n",
              "      <th>2</th>\n",
              "      <td>Matematica I</td>\n",
              "      <td>54.460432</td>\n",
              "      <td>51.419065</td>\n",
              "      <td>40.919065</td>\n",
              "      <td>52.041367</td>\n",
              "    </tr>\n",
              "    <tr>\n",
              "      <th>3</th>\n",
              "      <td>Matematica II</td>\n",
              "      <td>61.555556</td>\n",
              "      <td>55.777778</td>\n",
              "      <td>54.555556</td>\n",
              "      <td>59.555556</td>\n",
              "    </tr>\n",
              "    <tr>\n",
              "      <th>4</th>\n",
              "      <td>Nivelacion Matematica</td>\n",
              "      <td>62.600000</td>\n",
              "      <td>53.770213</td>\n",
              "      <td>37.914894</td>\n",
              "      <td>52.834043</td>\n",
              "    </tr>\n",
              "  </tbody>\n",
              "</table>\n",
              "</div>"
            ],
            "text/plain": [
              "                 Curso02  PrimerParcial11  SegundoParcial13  ExamenFinal15  \\\n",
              "1         Matematica 108        52.750000         47.855000      35.395000   \n",
              "2           Matematica I        54.460432         51.419065      40.919065   \n",
              "3          Matematica II        61.555556         55.777778      54.555556   \n",
              "4  Nivelacion Matematica        62.600000         53.770213      37.914894   \n",
              "\n",
              "   NotaFinal17  \n",
              "1    49.240000  \n",
              "2    52.041367  \n",
              "3    59.555556  \n",
              "4    52.834043  "
            ]
          },
          "execution_count": 59,
          "metadata": {},
          "output_type": "execute_result"
        }
      ]
    },
    {
      "cell_type": "code",
      "metadata": {
        "id": "f33d7e63",
        "outputId": "4e26c8e0-0426-4985-9603-44d2c4053f6f"
      },
      "source": [
        "df = pd.read_csv(\"notasmates.csv\")\n",
        "df = df.groupby('Facultad05').size().reset_index(name='Count').rename(columns={'Facultad05':'Facultad05'})\n",
        "df=df.sort_values(by=[\"Count\"],ascending=False)\n",
        "df.index=range(1,len(df)+1)\n",
        "df"
      ],
      "id": "f33d7e63",
      "execution_count": null,
      "outputs": [
        {
          "data": {
            "text/html": [
              "<div>\n",
              "<style scoped>\n",
              "    .dataframe tbody tr th:only-of-type {\n",
              "        vertical-align: middle;\n",
              "    }\n",
              "\n",
              "    .dataframe tbody tr th {\n",
              "        vertical-align: top;\n",
              "    }\n",
              "\n",
              "    .dataframe thead th {\n",
              "        text-align: right;\n",
              "    }\n",
              "</style>\n",
              "<table border=\"1\" class=\"dataframe\">\n",
              "  <thead>\n",
              "    <tr style=\"text-align: right;\">\n",
              "      <th></th>\n",
              "      <th>Facultad05</th>\n",
              "      <th>Count</th>\n",
              "    </tr>\n",
              "  </thead>\n",
              "  <tbody>\n",
              "    <tr>\n",
              "      <th>1</th>\n",
              "      <td>FISICC</td>\n",
              "      <td>565</td>\n",
              "    </tr>\n",
              "    <tr>\n",
              "      <th>2</th>\n",
              "      <td>FACTI</td>\n",
              "      <td>435</td>\n",
              "    </tr>\n",
              "  </tbody>\n",
              "</table>\n",
              "</div>"
            ],
            "text/plain": [
              "  Facultad05  Count\n",
              "1     FISICC    565\n",
              "2      FACTI    435"
            ]
          },
          "execution_count": 42,
          "metadata": {},
          "output_type": "execute_result"
        }
      ]
    },
    {
      "cell_type": "code",
      "metadata": {
        "id": "3f94106f",
        "outputId": "24f107ef-6b93-4c69-ebfd-aa06d3f605e0"
      },
      "source": [
        "df = pd.read_csv(\"notasmates.csv\")\n",
        "df =df[[\"Facultad05\",\"PrimerParcial11\",\"SegundoParcial13\",\"ExamenFinal15\",\"NotaFinal17\"]].groupby(['Facultad05'],as_index=False).mean()\n",
        "\n",
        "df.index=range(1,len(df)+1)\n",
        "df"
      ],
      "id": "3f94106f",
      "execution_count": null,
      "outputs": [
        {
          "data": {
            "text/html": [
              "<div>\n",
              "<style scoped>\n",
              "    .dataframe tbody tr th:only-of-type {\n",
              "        vertical-align: middle;\n",
              "    }\n",
              "\n",
              "    .dataframe tbody tr th {\n",
              "        vertical-align: top;\n",
              "    }\n",
              "\n",
              "    .dataframe thead th {\n",
              "        text-align: right;\n",
              "    }\n",
              "</style>\n",
              "<table border=\"1\" class=\"dataframe\">\n",
              "  <thead>\n",
              "    <tr style=\"text-align: right;\">\n",
              "      <th></th>\n",
              "      <th>Facultad05</th>\n",
              "      <th>PrimerParcial11</th>\n",
              "      <th>SegundoParcial13</th>\n",
              "      <th>ExamenFinal15</th>\n",
              "      <th>NotaFinal17</th>\n",
              "    </tr>\n",
              "  </thead>\n",
              "  <tbody>\n",
              "    <tr>\n",
              "      <th>1</th>\n",
              "      <td>FACTI</td>\n",
              "      <td>58.071264</td>\n",
              "      <td>51.050575</td>\n",
              "      <td>36.756322</td>\n",
              "      <td>51.181609</td>\n",
              "    </tr>\n",
              "    <tr>\n",
              "      <th>2</th>\n",
              "      <td>FISICC</td>\n",
              "      <td>54.573451</td>\n",
              "      <td>51.488496</td>\n",
              "      <td>41.136283</td>\n",
              "      <td>52.161062</td>\n",
              "    </tr>\n",
              "  </tbody>\n",
              "</table>\n",
              "</div>"
            ],
            "text/plain": [
              "  Facultad05  PrimerParcial11  SegundoParcial13  ExamenFinal15  NotaFinal17\n",
              "1      FACTI        58.071264         51.050575      36.756322    51.181609\n",
              "2     FISICC        54.573451         51.488496      41.136283    52.161062"
            ]
          },
          "execution_count": 60,
          "metadata": {},
          "output_type": "execute_result"
        }
      ]
    },
    {
      "cell_type": "code",
      "metadata": {
        "id": "3e5ce790",
        "outputId": "2240b7e2-7716-4e8d-9412-6ae2ff0b43a3"
      },
      "source": [
        "df = pd.read_csv(\"notasmates.csv\")\n",
        "df = df.groupby('Carrera04').size().reset_index(name='Count').rename(columns={'Carrera04':'Carrera04'})\n",
        "df=df.sort_values(by=[\"Count\"],ascending=False)\n",
        "df.index=range(1,len(df)+1)\n",
        "df"
      ],
      "id": "3e5ce790",
      "execution_count": null,
      "outputs": [
        {
          "data": {
            "text/html": [
              "<div>\n",
              "<style scoped>\n",
              "    .dataframe tbody tr th:only-of-type {\n",
              "        vertical-align: middle;\n",
              "    }\n",
              "\n",
              "    .dataframe tbody tr th {\n",
              "        vertical-align: top;\n",
              "    }\n",
              "\n",
              "    .dataframe thead th {\n",
              "        text-align: right;\n",
              "    }\n",
              "</style>\n",
              "<table border=\"1\" class=\"dataframe\">\n",
              "  <thead>\n",
              "    <tr style=\"text-align: right;\">\n",
              "      <th></th>\n",
              "      <th>Carrera04</th>\n",
              "      <th>Count</th>\n",
              "    </tr>\n",
              "  </thead>\n",
              "  <tbody>\n",
              "    <tr>\n",
              "      <th>1</th>\n",
              "      <td>IU</td>\n",
              "      <td>309</td>\n",
              "    </tr>\n",
              "    <tr>\n",
              "      <th>2</th>\n",
              "      <td>II</td>\n",
              "      <td>234</td>\n",
              "    </tr>\n",
              "    <tr>\n",
              "      <th>3</th>\n",
              "      <td>IME</td>\n",
              "      <td>131</td>\n",
              "    </tr>\n",
              "    <tr>\n",
              "      <th>4</th>\n",
              "      <td>IAD</td>\n",
              "      <td>126</td>\n",
              "    </tr>\n",
              "    <tr>\n",
              "      <th>5</th>\n",
              "      <td>ITR</td>\n",
              "      <td>103</td>\n",
              "    </tr>\n",
              "    <tr>\n",
              "      <th>6</th>\n",
              "      <td>IE</td>\n",
              "      <td>50</td>\n",
              "    </tr>\n",
              "    <tr>\n",
              "      <th>7</th>\n",
              "      <td>ISE</td>\n",
              "      <td>47</td>\n",
              "    </tr>\n",
              "  </tbody>\n",
              "</table>\n",
              "</div>"
            ],
            "text/plain": [
              "  Carrera04  Count\n",
              "1        IU    309\n",
              "2        II    234\n",
              "3       IME    131\n",
              "4       IAD    126\n",
              "5       ITR    103\n",
              "6        IE     50\n",
              "7       ISE     47"
            ]
          },
          "execution_count": 43,
          "metadata": {},
          "output_type": "execute_result"
        }
      ]
    },
    {
      "cell_type": "code",
      "metadata": {
        "id": "1db93a16",
        "outputId": "e06021fb-20bd-4219-f7ba-2c4f1652ba5c"
      },
      "source": [
        "df = pd.read_csv(\"notasmates.csv\")\n",
        "df =df[[\"Carrera04\",\"PrimerParcial11\",\"SegundoParcial13\",\"ExamenFinal15\",\"NotaFinal17\"]].groupby(['Carrera04'],as_index=False).mean()\n",
        "\n",
        "df.index=range(1,len(df)+1)\n",
        "df"
      ],
      "id": "1db93a16",
      "execution_count": null,
      "outputs": [
        {
          "data": {
            "text/html": [
              "<div>\n",
              "<style scoped>\n",
              "    .dataframe tbody tr th:only-of-type {\n",
              "        vertical-align: middle;\n",
              "    }\n",
              "\n",
              "    .dataframe tbody tr th {\n",
              "        vertical-align: top;\n",
              "    }\n",
              "\n",
              "    .dataframe thead th {\n",
              "        text-align: right;\n",
              "    }\n",
              "</style>\n",
              "<table border=\"1\" class=\"dataframe\">\n",
              "  <thead>\n",
              "    <tr style=\"text-align: right;\">\n",
              "      <th></th>\n",
              "      <th>Carrera04</th>\n",
              "      <th>PrimerParcial11</th>\n",
              "      <th>SegundoParcial13</th>\n",
              "      <th>ExamenFinal15</th>\n",
              "      <th>NotaFinal17</th>\n",
              "    </tr>\n",
              "  </thead>\n",
              "  <tbody>\n",
              "    <tr>\n",
              "      <th>1</th>\n",
              "      <td>IAD</td>\n",
              "      <td>55.547619</td>\n",
              "      <td>50.698413</td>\n",
              "      <td>42.388889</td>\n",
              "      <td>54.484127</td>\n",
              "    </tr>\n",
              "    <tr>\n",
              "      <th>2</th>\n",
              "      <td>IE</td>\n",
              "      <td>63.440000</td>\n",
              "      <td>62.380000</td>\n",
              "      <td>56.580000</td>\n",
              "      <td>63.440000</td>\n",
              "    </tr>\n",
              "    <tr>\n",
              "      <th>3</th>\n",
              "      <td>II</td>\n",
              "      <td>56.320513</td>\n",
              "      <td>52.106838</td>\n",
              "      <td>38.867521</td>\n",
              "      <td>52.055556</td>\n",
              "    </tr>\n",
              "    <tr>\n",
              "      <th>4</th>\n",
              "      <td>IME</td>\n",
              "      <td>52.190840</td>\n",
              "      <td>50.106870</td>\n",
              "      <td>41.770992</td>\n",
              "      <td>50.656489</td>\n",
              "    </tr>\n",
              "    <tr>\n",
              "      <th>5</th>\n",
              "      <td>ISE</td>\n",
              "      <td>56.531915</td>\n",
              "      <td>52.276596</td>\n",
              "      <td>44.936170</td>\n",
              "      <td>53.553191</td>\n",
              "    </tr>\n",
              "    <tr>\n",
              "      <th>6</th>\n",
              "      <td>ITR</td>\n",
              "      <td>48.436893</td>\n",
              "      <td>46.194175</td>\n",
              "      <td>36.252427</td>\n",
              "      <td>48.203883</td>\n",
              "    </tr>\n",
              "    <tr>\n",
              "      <th>7</th>\n",
              "      <td>IU</td>\n",
              "      <td>59.100324</td>\n",
              "      <td>51.194175</td>\n",
              "      <td>34.459547</td>\n",
              "      <td>49.834951</td>\n",
              "    </tr>\n",
              "  </tbody>\n",
              "</table>\n",
              "</div>"
            ],
            "text/plain": [
              "  Carrera04  PrimerParcial11  SegundoParcial13  ExamenFinal15  NotaFinal17\n",
              "1       IAD        55.547619         50.698413      42.388889    54.484127\n",
              "2        IE        63.440000         62.380000      56.580000    63.440000\n",
              "3        II        56.320513         52.106838      38.867521    52.055556\n",
              "4       IME        52.190840         50.106870      41.770992    50.656489\n",
              "5       ISE        56.531915         52.276596      44.936170    53.553191\n",
              "6       ITR        48.436893         46.194175      36.252427    48.203883\n",
              "7        IU        59.100324         51.194175      34.459547    49.834951"
            ]
          },
          "execution_count": 61,
          "metadata": {},
          "output_type": "execute_result"
        }
      ]
    },
    {
      "cell_type": "code",
      "metadata": {
        "id": "60f2b61d",
        "outputId": "5d33d221-634b-44f6-c4d8-82d9e547d927"
      },
      "source": [
        "# grouping results\n",
        "df = pd.read_csv(\"notasmates.csv\")\n",
        "df_group_one=df[['Curso02',\"Carrera04\",\"Facultad05\",\"PrimerParcial11\",\"SegundoParcial13\",\"ExamenFinal15\",\"NotaFinal17\"]]\n",
        "df_group_one = df_group_one.groupby(['Curso02',\"Facultad05\",\"Carrera04\"],as_index=False).mean()#hace la media de las categoricas respecto de las numericas\n",
        "df_group_one#r es solo una prueba"
      ],
      "id": "60f2b61d",
      "execution_count": null,
      "outputs": [
        {
          "data": {
            "text/html": [
              "<div>\n",
              "<style scoped>\n",
              "    .dataframe tbody tr th:only-of-type {\n",
              "        vertical-align: middle;\n",
              "    }\n",
              "\n",
              "    .dataframe tbody tr th {\n",
              "        vertical-align: top;\n",
              "    }\n",
              "\n",
              "    .dataframe thead th {\n",
              "        text-align: right;\n",
              "    }\n",
              "</style>\n",
              "<table border=\"1\" class=\"dataframe\">\n",
              "  <thead>\n",
              "    <tr style=\"text-align: right;\">\n",
              "      <th></th>\n",
              "      <th>Curso02</th>\n",
              "      <th>Facultad05</th>\n",
              "      <th>Carrera04</th>\n",
              "      <th>PrimerParcial11</th>\n",
              "      <th>SegundoParcial13</th>\n",
              "      <th>ExamenFinal15</th>\n",
              "      <th>NotaFinal17</th>\n",
              "    </tr>\n",
              "  </thead>\n",
              "  <tbody>\n",
              "    <tr>\n",
              "      <th>0</th>\n",
              "      <td>Matematica 108</td>\n",
              "      <td>FACTI</td>\n",
              "      <td>IAD</td>\n",
              "      <td>49.636364</td>\n",
              "      <td>48.890909</td>\n",
              "      <td>41.600000</td>\n",
              "      <td>53.127273</td>\n",
              "    </tr>\n",
              "    <tr>\n",
              "      <th>1</th>\n",
              "      <td>Matematica 108</td>\n",
              "      <td>FACTI</td>\n",
              "      <td>IU</td>\n",
              "      <td>53.931034</td>\n",
              "      <td>47.462069</td>\n",
              "      <td>33.041379</td>\n",
              "      <td>47.765517</td>\n",
              "    </tr>\n",
              "    <tr>\n",
              "      <th>2</th>\n",
              "      <td>Matematica I</td>\n",
              "      <td>FISICC</td>\n",
              "      <td>IE</td>\n",
              "      <td>63.440000</td>\n",
              "      <td>62.380000</td>\n",
              "      <td>56.580000</td>\n",
              "      <td>63.440000</td>\n",
              "    </tr>\n",
              "    <tr>\n",
              "      <th>3</th>\n",
              "      <td>Matematica I</td>\n",
              "      <td>FISICC</td>\n",
              "      <td>II</td>\n",
              "      <td>56.320513</td>\n",
              "      <td>52.106838</td>\n",
              "      <td>38.867521</td>\n",
              "      <td>52.055556</td>\n",
              "    </tr>\n",
              "    <tr>\n",
              "      <th>4</th>\n",
              "      <td>Matematica I</td>\n",
              "      <td>FISICC</td>\n",
              "      <td>IME</td>\n",
              "      <td>52.190840</td>\n",
              "      <td>50.106870</td>\n",
              "      <td>41.770992</td>\n",
              "      <td>50.656489</td>\n",
              "    </tr>\n",
              "    <tr>\n",
              "      <th>5</th>\n",
              "      <td>Matematica I</td>\n",
              "      <td>FISICC</td>\n",
              "      <td>ISE</td>\n",
              "      <td>55.342105</td>\n",
              "      <td>51.447368</td>\n",
              "      <td>42.657895</td>\n",
              "      <td>52.131579</td>\n",
              "    </tr>\n",
              "    <tr>\n",
              "      <th>6</th>\n",
              "      <td>Matematica I</td>\n",
              "      <td>FISICC</td>\n",
              "      <td>ITR</td>\n",
              "      <td>48.436893</td>\n",
              "      <td>46.194175</td>\n",
              "      <td>36.252427</td>\n",
              "      <td>48.203883</td>\n",
              "    </tr>\n",
              "    <tr>\n",
              "      <th>7</th>\n",
              "      <td>Matematica II</td>\n",
              "      <td>FISICC</td>\n",
              "      <td>ISE</td>\n",
              "      <td>61.555556</td>\n",
              "      <td>55.777778</td>\n",
              "      <td>54.555556</td>\n",
              "      <td>59.555556</td>\n",
              "    </tr>\n",
              "    <tr>\n",
              "      <th>8</th>\n",
              "      <td>Nivelacion Matematica</td>\n",
              "      <td>FACTI</td>\n",
              "      <td>IAD</td>\n",
              "      <td>60.126761</td>\n",
              "      <td>52.098592</td>\n",
              "      <td>43.000000</td>\n",
              "      <td>55.535211</td>\n",
              "    </tr>\n",
              "    <tr>\n",
              "      <th>9</th>\n",
              "      <td>Nivelacion Matematica</td>\n",
              "      <td>FACTI</td>\n",
              "      <td>IU</td>\n",
              "      <td>63.670732</td>\n",
              "      <td>54.493902</td>\n",
              "      <td>35.713415</td>\n",
              "      <td>51.664634</td>\n",
              "    </tr>\n",
              "  </tbody>\n",
              "</table>\n",
              "</div>"
            ],
            "text/plain": [
              "                 Curso02 Facultad05 Carrera04  PrimerParcial11  \\\n",
              "0         Matematica 108      FACTI       IAD        49.636364   \n",
              "1         Matematica 108      FACTI        IU        53.931034   \n",
              "2           Matematica I     FISICC        IE        63.440000   \n",
              "3           Matematica I     FISICC        II        56.320513   \n",
              "4           Matematica I     FISICC       IME        52.190840   \n",
              "5           Matematica I     FISICC       ISE        55.342105   \n",
              "6           Matematica I     FISICC       ITR        48.436893   \n",
              "7          Matematica II     FISICC       ISE        61.555556   \n",
              "8  Nivelacion Matematica      FACTI       IAD        60.126761   \n",
              "9  Nivelacion Matematica      FACTI        IU        63.670732   \n",
              "\n",
              "   SegundoParcial13  ExamenFinal15  NotaFinal17  \n",
              "0         48.890909      41.600000    53.127273  \n",
              "1         47.462069      33.041379    47.765517  \n",
              "2         62.380000      56.580000    63.440000  \n",
              "3         52.106838      38.867521    52.055556  \n",
              "4         50.106870      41.770992    50.656489  \n",
              "5         51.447368      42.657895    52.131579  \n",
              "6         46.194175      36.252427    48.203883  \n",
              "7         55.777778      54.555556    59.555556  \n",
              "8         52.098592      43.000000    55.535211  \n",
              "9         54.493902      35.713415    51.664634  "
            ]
          },
          "execution_count": 52,
          "metadata": {},
          "output_type": "execute_result"
        }
      ]
    },
    {
      "cell_type": "code",
      "metadata": {
        "id": "36d996eb"
      },
      "source": [
        ""
      ],
      "id": "36d996eb",
      "execution_count": null,
      "outputs": []
    },
    {
      "cell_type": "markdown",
      "metadata": {
        "id": "686157a8"
      },
      "source": [
        "## Probando simulacion de datos"
      ],
      "id": "686157a8"
    },
    {
      "cell_type": "code",
      "metadata": {
        "id": "0aa456b4",
        "outputId": "a0b73a37-ae6e-476a-f461-970d73564ff4"
      },
      "source": [
        "import random\n",
        "import matplotlib.pyplot as plt\n",
        "%matplotlib inline\n",
        "\n",
        "horas=[]\n",
        "for _ in range(2000):\n",
        "    \n",
        "    horas.append(round((random.gauss(10.35,1.5))))#para los de junio parametros son 7 y 2.8\n",
        "\n",
        "\n",
        "plt.hist(horas, bins=5)\n",
        "plt.show() "
      ],
      "id": "0aa456b4",
      "execution_count": null,
      "outputs": [
        {
          "data": {
            "image/png": "[encoded data removed]",
            "text/plain": [
              "<Figure size 432x288 with 1 Axes>"
            ]
          },
          "metadata": {
            "needs_background": "light"
          },
          "output_type": "display_data"
        }
      ]
    },
    {
      "cell_type": "code",
      "metadata": {
        "id": "a55eae24",
        "outputId": "aa92bc75-8ef4-45fe-fbea-f07f71b1869f"
      },
      "source": [
        "mins=[0,15,30,45]\n",
        "min_=[]\n",
        "for _ in range(2000):\n",
        "       min_.append(random.choices(mins,weights=[4,0.5,3,0.5],k=1)[0])\n",
        "plt.hist(min_, bins=4)\n",
        "plt.show()"
      ],
      "id": "a55eae24",
      "execution_count": null,
      "outputs": [
        {
          "data": {
            "image/png": "[encoded data removed]",
            "text/plain": [
              "<Figure size 432x288 with 1 Axes>"
            ]
          },
          "metadata": {
            "needs_background": "light"
          },
          "output_type": "display_data"
        }
      ]
    },
    {
      "cell_type": "code",
      "metadata": {
        "id": "9143da4c",
        "outputId": "b8a53c5a-43d6-485a-a415-eb9350a12ee6"
      },
      "source": [
        "import random\n",
        "import matplotlib.pyplot as plt\n",
        "%matplotlib inline\n",
        "\n",
        "dias=[]\n",
        "for _ in range(2000):\n",
        "    \n",
        "    dias.append(abs(round((random.gauss(16,2)))))\n",
        "\n",
        "for i,pos in enumerate(dias):\n",
        "    if pos==0:\n",
        "        dias[i]=1\n",
        "plt.hist(dias, bins=5)\n",
        "plt.show() "
      ],
      "id": "9143da4c",
      "execution_count": null,
      "outputs": [
        {
          "data": {
            "image/png": "[encoded data removed]",
            "text/plain": [
              "<Figure size 432x288 with 1 Axes>"
            ]
          },
          "metadata": {
            "needs_background": "light"
          },
          "output_type": "display_data"
        }
      ]
    },
    {
      "cell_type": "code",
      "metadata": {
        "id": "cbe131d2"
      },
      "source": [
        "mes=[]\n",
        "año=[]\n",
        "for _ in range(2000):\n",
        "    año.append(2021)\n",
        "    mes.append(5)"
      ],
      "id": "cbe131d2",
      "execution_count": null,
      "outputs": []
    },
    {
      "cell_type": "code",
      "metadata": {
        "scrolled": true,
        "id": "d0a5af1e",
        "outputId": "fabc7e54-20b5-4964-c9c8-1c2071e7262f"
      },
      "source": [
        "df2 = pd.DataFrame(\n",
        "    {'año': año,\n",
        "     'mes': mes,\n",
        "     'dia': dias,\n",
        "     'hora': horas,\n",
        "     'min': min_\n",
        "    })\n",
        "df2[\"dia\"]=dias\n",
        "df2['dateInt']=df2['año'].astype(str) + df2['mes'].astype(str).str.zfill(2)+ df2['dia'].astype(str).str.zfill(2)\n",
        "df2['Date_start_horario'] = pd.to_datetime(df2['dateInt'], format='%Y%m%d')\n",
        "df2"
      ],
      "id": "d0a5af1e",
      "execution_count": null,
      "outputs": [
        {
          "data": {
            "text/html": [
              "<div>\n",
              "<style scoped>\n",
              "    .dataframe tbody tr th:only-of-type {\n",
              "        vertical-align: middle;\n",
              "    }\n",
              "\n",
              "    .dataframe tbody tr th {\n",
              "        vertical-align: top;\n",
              "    }\n",
              "\n",
              "    .dataframe thead th {\n",
              "        text-align: right;\n",
              "    }\n",
              "</style>\n",
              "<table border=\"1\" class=\"dataframe\">\n",
              "  <thead>\n",
              "    <tr style=\"text-align: right;\">\n",
              "      <th></th>\n",
              "      <th>año</th>\n",
              "      <th>mes</th>\n",
              "      <th>dia</th>\n",
              "      <th>hora</th>\n",
              "      <th>min</th>\n",
              "      <th>dateInt</th>\n",
              "      <th>Date_start_horario</th>\n",
              "      <th>Date_start_Examenes</th>\n",
              "      <th>days_left</th>\n",
              "      <th>Lengua</th>\n",
              "      <th>Mates</th>\n",
              "      <th>Ingles</th>\n",
              "      <th>Biologia</th>\n",
              "      <th>Quimica</th>\n",
              "      <th>Historia</th>\n",
              "    </tr>\n",
              "  </thead>\n",
              "  <tbody>\n",
              "    <tr>\n",
              "      <th>0</th>\n",
              "      <td>2021</td>\n",
              "      <td>5</td>\n",
              "      <td>20</td>\n",
              "      <td>9</td>\n",
              "      <td>0</td>\n",
              "      <td>20210520</td>\n",
              "      <td>2021-05-20</td>\n",
              "      <td>2021-06-07</td>\n",
              "      <td>21</td>\n",
              "      <td>7.65</td>\n",
              "      <td>4.91</td>\n",
              "      <td>4.08</td>\n",
              "      <td>6.83</td>\n",
              "      <td>6.18</td>\n",
              "      <td>6.68</td>\n",
              "    </tr>\n",
              "    <tr>\n",
              "      <th>1</th>\n",
              "      <td>2021</td>\n",
              "      <td>5</td>\n",
              "      <td>21</td>\n",
              "      <td>10</td>\n",
              "      <td>30</td>\n",
              "      <td>20210521</td>\n",
              "      <td>2021-05-21</td>\n",
              "      <td>2021-06-09</td>\n",
              "      <td>27</td>\n",
              "      <td>4.13</td>\n",
              "      <td>8.17</td>\n",
              "      <td>7.60</td>\n",
              "      <td>5.86</td>\n",
              "      <td>4.36</td>\n",
              "      <td>7.34</td>\n",
              "    </tr>\n",
              "    <tr>\n",
              "      <th>2</th>\n",
              "      <td>2021</td>\n",
              "      <td>5</td>\n",
              "      <td>15</td>\n",
              "      <td>9</td>\n",
              "      <td>45</td>\n",
              "      <td>20210515</td>\n",
              "      <td>2021-05-15</td>\n",
              "      <td>2021-06-11</td>\n",
              "      <td>25</td>\n",
              "      <td>5.68</td>\n",
              "      <td>9.22</td>\n",
              "      <td>6.04</td>\n",
              "      <td>5.28</td>\n",
              "      <td>5.11</td>\n",
              "      <td>6.71</td>\n",
              "    </tr>\n",
              "    <tr>\n",
              "      <th>3</th>\n",
              "      <td>2021</td>\n",
              "      <td>5</td>\n",
              "      <td>19</td>\n",
              "      <td>10</td>\n",
              "      <td>30</td>\n",
              "      <td>20210519</td>\n",
              "      <td>2021-05-19</td>\n",
              "      <td>2021-06-05</td>\n",
              "      <td>24</td>\n",
              "      <td>7.17</td>\n",
              "      <td>6.50</td>\n",
              "      <td>5.33</td>\n",
              "      <td>4.83</td>\n",
              "      <td>5.90</td>\n",
              "      <td>4.92</td>\n",
              "    </tr>\n",
              "    <tr>\n",
              "      <th>4</th>\n",
              "      <td>2021</td>\n",
              "      <td>5</td>\n",
              "      <td>14</td>\n",
              "      <td>9</td>\n",
              "      <td>0</td>\n",
              "      <td>20210514</td>\n",
              "      <td>2021-05-14</td>\n",
              "      <td>2021-06-05</td>\n",
              "      <td>20</td>\n",
              "      <td>7.26</td>\n",
              "      <td>7.28</td>\n",
              "      <td>5.82</td>\n",
              "      <td>6.25</td>\n",
              "      <td>7.21</td>\n",
              "      <td>7.19</td>\n",
              "    </tr>\n",
              "    <tr>\n",
              "      <th>...</th>\n",
              "      <td>...</td>\n",
              "      <td>...</td>\n",
              "      <td>...</td>\n",
              "      <td>...</td>\n",
              "      <td>...</td>\n",
              "      <td>...</td>\n",
              "      <td>...</td>\n",
              "      <td>...</td>\n",
              "      <td>...</td>\n",
              "      <td>...</td>\n",
              "      <td>...</td>\n",
              "      <td>...</td>\n",
              "      <td>...</td>\n",
              "      <td>...</td>\n",
              "      <td>...</td>\n",
              "    </tr>\n",
              "    <tr>\n",
              "      <th>1995</th>\n",
              "      <td>2021</td>\n",
              "      <td>5</td>\n",
              "      <td>17</td>\n",
              "      <td>10</td>\n",
              "      <td>30</td>\n",
              "      <td>20210517</td>\n",
              "      <td>2021-05-17</td>\n",
              "      <td>2021-06-04</td>\n",
              "      <td>18</td>\n",
              "      <td>5.15</td>\n",
              "      <td>6.90</td>\n",
              "      <td>4.34</td>\n",
              "      <td>7.25</td>\n",
              "      <td>6.90</td>\n",
              "      <td>4.95</td>\n",
              "    </tr>\n",
              "    <tr>\n",
              "      <th>1996</th>\n",
              "      <td>2021</td>\n",
              "      <td>5</td>\n",
              "      <td>17</td>\n",
              "      <td>10</td>\n",
              "      <td>30</td>\n",
              "      <td>20210517</td>\n",
              "      <td>2021-05-17</td>\n",
              "      <td>2021-06-01</td>\n",
              "      <td>16</td>\n",
              "      <td>4.35</td>\n",
              "      <td>7.24</td>\n",
              "      <td>4.25</td>\n",
              "      <td>4.06</td>\n",
              "      <td>7.76</td>\n",
              "      <td>5.06</td>\n",
              "    </tr>\n",
              "    <tr>\n",
              "      <th>1997</th>\n",
              "      <td>2021</td>\n",
              "      <td>5</td>\n",
              "      <td>14</td>\n",
              "      <td>10</td>\n",
              "      <td>30</td>\n",
              "      <td>20210514</td>\n",
              "      <td>2021-05-14</td>\n",
              "      <td>2021-06-07</td>\n",
              "      <td>20</td>\n",
              "      <td>8.38</td>\n",
              "      <td>5.78</td>\n",
              "      <td>6.75</td>\n",
              "      <td>5.97</td>\n",
              "      <td>6.39</td>\n",
              "      <td>9.24</td>\n",
              "    </tr>\n",
              "    <tr>\n",
              "      <th>1998</th>\n",
              "      <td>2021</td>\n",
              "      <td>5</td>\n",
              "      <td>15</td>\n",
              "      <td>11</td>\n",
              "      <td>30</td>\n",
              "      <td>20210515</td>\n",
              "      <td>2021-05-15</td>\n",
              "      <td>2021-06-09</td>\n",
              "      <td>23</td>\n",
              "      <td>4.44</td>\n",
              "      <td>4.30</td>\n",
              "      <td>5.89</td>\n",
              "      <td>6.93</td>\n",
              "      <td>6.59</td>\n",
              "      <td>7.78</td>\n",
              "    </tr>\n",
              "    <tr>\n",
              "      <th>1999</th>\n",
              "      <td>2021</td>\n",
              "      <td>5</td>\n",
              "      <td>13</td>\n",
              "      <td>11</td>\n",
              "      <td>0</td>\n",
              "      <td>20210513</td>\n",
              "      <td>2021-05-13</td>\n",
              "      <td>2021-06-10</td>\n",
              "      <td>25</td>\n",
              "      <td>7.29</td>\n",
              "      <td>6.76</td>\n",
              "      <td>5.94</td>\n",
              "      <td>5.39</td>\n",
              "      <td>5.47</td>\n",
              "      <td>4.50</td>\n",
              "    </tr>\n",
              "  </tbody>\n",
              "</table>\n",
              "<p>2000 rows × 15 columns</p>\n",
              "</div>"
            ],
            "text/plain": [
              "       año  mes  dia  hora  min   dateInt Date_start_horario  \\\n",
              "0     2021    5   20     9    0  20210520         2021-05-20   \n",
              "1     2021    5   21    10   30  20210521         2021-05-21   \n",
              "2     2021    5   15     9   45  20210515         2021-05-15   \n",
              "3     2021    5   19    10   30  20210519         2021-05-19   \n",
              "4     2021    5   14     9    0  20210514         2021-05-14   \n",
              "...    ...  ...  ...   ...  ...       ...                ...   \n",
              "1995  2021    5   17    10   30  20210517         2021-05-17   \n",
              "1996  2021    5   17    10   30  20210517         2021-05-17   \n",
              "1997  2021    5   14    10   30  20210514         2021-05-14   \n",
              "1998  2021    5   15    11   30  20210515         2021-05-15   \n",
              "1999  2021    5   13    11    0  20210513         2021-05-13   \n",
              "\n",
              "     Date_start_Examenes  days_left  Lengua  Mates  Ingles  Biologia  Quimica  \\\n",
              "0             2021-06-07         21    7.65   4.91    4.08      6.83     6.18   \n",
              "1             2021-06-09         27    4.13   8.17    7.60      5.86     4.36   \n",
              "2             2021-06-11         25    5.68   9.22    6.04      5.28     5.11   \n",
              "3             2021-06-05         24    7.17   6.50    5.33      4.83     5.90   \n",
              "4             2021-06-05         20    7.26   7.28    5.82      6.25     7.21   \n",
              "...                  ...        ...     ...    ...     ...       ...      ...   \n",
              "1995          2021-06-04         18    5.15   6.90    4.34      7.25     6.90   \n",
              "1996          2021-06-01         16    4.35   7.24    4.25      4.06     7.76   \n",
              "1997          2021-06-07         20    8.38   5.78    6.75      5.97     6.39   \n",
              "1998          2021-06-09         23    4.44   4.30    5.89      6.93     6.59   \n",
              "1999          2021-06-10         25    7.29   6.76    5.94      5.39     5.47   \n",
              "\n",
              "      Historia  \n",
              "0         6.68  \n",
              "1         7.34  \n",
              "2         6.71  \n",
              "3         4.92  \n",
              "4         7.19  \n",
              "...        ...  \n",
              "1995      4.95  \n",
              "1996      5.06  \n",
              "1997      9.24  \n",
              "1998      7.78  \n",
              "1999      4.50  \n",
              "\n",
              "[2000 rows x 15 columns]"
            ]
          },
          "execution_count": 602,
          "metadata": {},
          "output_type": "execute_result"
        }
      ]
    },
    {
      "cell_type": "code",
      "metadata": {
        "scrolled": true,
        "id": "fdbb8697",
        "outputId": "a3ede489-29ad-46e3-8bd6-bedbf5aac3e4"
      },
      "source": [
        "from datetime import datetime, timedelta\n",
        "from datetime import datetime, timedelta\n",
        "df2['Date_start_horario'] +=  pd.to_timedelta(df2.hora, unit='h')\n",
        "df2"
      ],
      "id": "fdbb8697",
      "execution_count": null,
      "outputs": [
        {
          "data": {
            "text/html": [
              "<div>\n",
              "<style scoped>\n",
              "    .dataframe tbody tr th:only-of-type {\n",
              "        vertical-align: middle;\n",
              "    }\n",
              "\n",
              "    .dataframe tbody tr th {\n",
              "        vertical-align: top;\n",
              "    }\n",
              "\n",
              "    .dataframe thead th {\n",
              "        text-align: right;\n",
              "    }\n",
              "</style>\n",
              "<table border=\"1\" class=\"dataframe\">\n",
              "  <thead>\n",
              "    <tr style=\"text-align: right;\">\n",
              "      <th></th>\n",
              "      <th>año</th>\n",
              "      <th>mes</th>\n",
              "      <th>dia</th>\n",
              "      <th>hora</th>\n",
              "      <th>min</th>\n",
              "      <th>dateInt</th>\n",
              "      <th>Date_start_horario</th>\n",
              "      <th>Date_start_Examenes</th>\n",
              "      <th>days_left</th>\n",
              "      <th>Lengua</th>\n",
              "      <th>Mates</th>\n",
              "      <th>Ingles</th>\n",
              "      <th>Biologia</th>\n",
              "      <th>Quimica</th>\n",
              "      <th>Historia</th>\n",
              "    </tr>\n",
              "  </thead>\n",
              "  <tbody>\n",
              "    <tr>\n",
              "      <th>0</th>\n",
              "      <td>2021</td>\n",
              "      <td>5</td>\n",
              "      <td>20</td>\n",
              "      <td>9</td>\n",
              "      <td>0</td>\n",
              "      <td>20210520</td>\n",
              "      <td>2021-05-20 09:00:00</td>\n",
              "      <td>2021-06-07</td>\n",
              "      <td>21</td>\n",
              "      <td>7.65</td>\n",
              "      <td>4.91</td>\n",
              "      <td>4.08</td>\n",
              "      <td>6.83</td>\n",
              "      <td>6.18</td>\n",
              "      <td>6.68</td>\n",
              "    </tr>\n",
              "    <tr>\n",
              "      <th>1</th>\n",
              "      <td>2021</td>\n",
              "      <td>5</td>\n",
              "      <td>21</td>\n",
              "      <td>10</td>\n",
              "      <td>30</td>\n",
              "      <td>20210521</td>\n",
              "      <td>2021-05-21 10:00:00</td>\n",
              "      <td>2021-06-09</td>\n",
              "      <td>27</td>\n",
              "      <td>4.13</td>\n",
              "      <td>8.17</td>\n",
              "      <td>7.60</td>\n",
              "      <td>5.86</td>\n",
              "      <td>4.36</td>\n",
              "      <td>7.34</td>\n",
              "    </tr>\n",
              "    <tr>\n",
              "      <th>2</th>\n",
              "      <td>2021</td>\n",
              "      <td>5</td>\n",
              "      <td>15</td>\n",
              "      <td>9</td>\n",
              "      <td>45</td>\n",
              "      <td>20210515</td>\n",
              "      <td>2021-05-15 09:00:00</td>\n",
              "      <td>2021-06-11</td>\n",
              "      <td>25</td>\n",
              "      <td>5.68</td>\n",
              "      <td>9.22</td>\n",
              "      <td>6.04</td>\n",
              "      <td>5.28</td>\n",
              "      <td>5.11</td>\n",
              "      <td>6.71</td>\n",
              "    </tr>\n",
              "    <tr>\n",
              "      <th>3</th>\n",
              "      <td>2021</td>\n",
              "      <td>5</td>\n",
              "      <td>19</td>\n",
              "      <td>10</td>\n",
              "      <td>30</td>\n",
              "      <td>20210519</td>\n",
              "      <td>2021-05-19 10:00:00</td>\n",
              "      <td>2021-06-05</td>\n",
              "      <td>24</td>\n",
              "      <td>7.17</td>\n",
              "      <td>6.50</td>\n",
              "      <td>5.33</td>\n",
              "      <td>4.83</td>\n",
              "      <td>5.90</td>\n",
              "      <td>4.92</td>\n",
              "    </tr>\n",
              "    <tr>\n",
              "      <th>4</th>\n",
              "      <td>2021</td>\n",
              "      <td>5</td>\n",
              "      <td>14</td>\n",
              "      <td>9</td>\n",
              "      <td>0</td>\n",
              "      <td>20210514</td>\n",
              "      <td>2021-05-14 09:00:00</td>\n",
              "      <td>2021-06-05</td>\n",
              "      <td>20</td>\n",
              "      <td>7.26</td>\n",
              "      <td>7.28</td>\n",
              "      <td>5.82</td>\n",
              "      <td>6.25</td>\n",
              "      <td>7.21</td>\n",
              "      <td>7.19</td>\n",
              "    </tr>\n",
              "    <tr>\n",
              "      <th>...</th>\n",
              "      <td>...</td>\n",
              "      <td>...</td>\n",
              "      <td>...</td>\n",
              "      <td>...</td>\n",
              "      <td>...</td>\n",
              "      <td>...</td>\n",
              "      <td>...</td>\n",
              "      <td>...</td>\n",
              "      <td>...</td>\n",
              "      <td>...</td>\n",
              "      <td>...</td>\n",
              "      <td>...</td>\n",
              "      <td>...</td>\n",
              "      <td>...</td>\n",
              "      <td>...</td>\n",
              "    </tr>\n",
              "    <tr>\n",
              "      <th>1995</th>\n",
              "      <td>2021</td>\n",
              "      <td>5</td>\n",
              "      <td>17</td>\n",
              "      <td>10</td>\n",
              "      <td>30</td>\n",
              "      <td>20210517</td>\n",
              "      <td>2021-05-17 10:00:00</td>\n",
              "      <td>2021-06-04</td>\n",
              "      <td>18</td>\n",
              "      <td>5.15</td>\n",
              "      <td>6.90</td>\n",
              "      <td>4.34</td>\n",
              "      <td>7.25</td>\n",
              "      <td>6.90</td>\n",
              "      <td>4.95</td>\n",
              "    </tr>\n",
              "    <tr>\n",
              "      <th>1996</th>\n",
              "      <td>2021</td>\n",
              "      <td>5</td>\n",
              "      <td>17</td>\n",
              "      <td>10</td>\n",
              "      <td>30</td>\n",
              "      <td>20210517</td>\n",
              "      <td>2021-05-17 10:00:00</td>\n",
              "      <td>2021-06-01</td>\n",
              "      <td>16</td>\n",
              "      <td>4.35</td>\n",
              "      <td>7.24</td>\n",
              "      <td>4.25</td>\n",
              "      <td>4.06</td>\n",
              "      <td>7.76</td>\n",
              "      <td>5.06</td>\n",
              "    </tr>\n",
              "    <tr>\n",
              "      <th>1997</th>\n",
              "      <td>2021</td>\n",
              "      <td>5</td>\n",
              "      <td>14</td>\n",
              "      <td>10</td>\n",
              "      <td>30</td>\n",
              "      <td>20210514</td>\n",
              "      <td>2021-05-14 10:00:00</td>\n",
              "      <td>2021-06-07</td>\n",
              "      <td>20</td>\n",
              "      <td>8.38</td>\n",
              "      <td>5.78</td>\n",
              "      <td>6.75</td>\n",
              "      <td>5.97</td>\n",
              "      <td>6.39</td>\n",
              "      <td>9.24</td>\n",
              "    </tr>\n",
              "    <tr>\n",
              "      <th>1998</th>\n",
              "      <td>2021</td>\n",
              "      <td>5</td>\n",
              "      <td>15</td>\n",
              "      <td>11</td>\n",
              "      <td>30</td>\n",
              "      <td>20210515</td>\n",
              "      <td>2021-05-15 11:00:00</td>\n",
              "      <td>2021-06-09</td>\n",
              "      <td>23</td>\n",
              "      <td>4.44</td>\n",
              "      <td>4.30</td>\n",
              "      <td>5.89</td>\n",
              "      <td>6.93</td>\n",
              "      <td>6.59</td>\n",
              "      <td>7.78</td>\n",
              "    </tr>\n",
              "    <tr>\n",
              "      <th>1999</th>\n",
              "      <td>2021</td>\n",
              "      <td>5</td>\n",
              "      <td>13</td>\n",
              "      <td>11</td>\n",
              "      <td>0</td>\n",
              "      <td>20210513</td>\n",
              "      <td>2021-05-13 11:00:00</td>\n",
              "      <td>2021-06-10</td>\n",
              "      <td>25</td>\n",
              "      <td>7.29</td>\n",
              "      <td>6.76</td>\n",
              "      <td>5.94</td>\n",
              "      <td>5.39</td>\n",
              "      <td>5.47</td>\n",
              "      <td>4.50</td>\n",
              "    </tr>\n",
              "  </tbody>\n",
              "</table>\n",
              "<p>2000 rows × 15 columns</p>\n",
              "</div>"
            ],
            "text/plain": [
              "       año  mes  dia  hora  min   dateInt  Date_start_horario  \\\n",
              "0     2021    5   20     9    0  20210520 2021-05-20 09:00:00   \n",
              "1     2021    5   21    10   30  20210521 2021-05-21 10:00:00   \n",
              "2     2021    5   15     9   45  20210515 2021-05-15 09:00:00   \n",
              "3     2021    5   19    10   30  20210519 2021-05-19 10:00:00   \n",
              "4     2021    5   14     9    0  20210514 2021-05-14 09:00:00   \n",
              "...    ...  ...  ...   ...  ...       ...                 ...   \n",
              "1995  2021    5   17    10   30  20210517 2021-05-17 10:00:00   \n",
              "1996  2021    5   17    10   30  20210517 2021-05-17 10:00:00   \n",
              "1997  2021    5   14    10   30  20210514 2021-05-14 10:00:00   \n",
              "1998  2021    5   15    11   30  20210515 2021-05-15 11:00:00   \n",
              "1999  2021    5   13    11    0  20210513 2021-05-13 11:00:00   \n",
              "\n",
              "     Date_start_Examenes  days_left  Lengua  Mates  Ingles  Biologia  Quimica  \\\n",
              "0             2021-06-07         21    7.65   4.91    4.08      6.83     6.18   \n",
              "1             2021-06-09         27    4.13   8.17    7.60      5.86     4.36   \n",
              "2             2021-06-11         25    5.68   9.22    6.04      5.28     5.11   \n",
              "3             2021-06-05         24    7.17   6.50    5.33      4.83     5.90   \n",
              "4             2021-06-05         20    7.26   7.28    5.82      6.25     7.21   \n",
              "...                  ...        ...     ...    ...     ...       ...      ...   \n",
              "1995          2021-06-04         18    5.15   6.90    4.34      7.25     6.90   \n",
              "1996          2021-06-01         16    4.35   7.24    4.25      4.06     7.76   \n",
              "1997          2021-06-07         20    8.38   5.78    6.75      5.97     6.39   \n",
              "1998          2021-06-09         23    4.44   4.30    5.89      6.93     6.59   \n",
              "1999          2021-06-10         25    7.29   6.76    5.94      5.39     5.47   \n",
              "\n",
              "      Historia  \n",
              "0         6.68  \n",
              "1         7.34  \n",
              "2         6.71  \n",
              "3         4.92  \n",
              "4         7.19  \n",
              "...        ...  \n",
              "1995      4.95  \n",
              "1996      5.06  \n",
              "1997      9.24  \n",
              "1998      7.78  \n",
              "1999      4.50  \n",
              "\n",
              "[2000 rows x 15 columns]"
            ]
          },
          "execution_count": 603,
          "metadata": {},
          "output_type": "execute_result"
        }
      ]
    },
    {
      "cell_type": "code",
      "metadata": {
        "id": "9c900339"
      },
      "source": [
        "df2['Date_start_horario'] += pd.to_timedelta(df2[\"min\"].values.tolist(), unit='m')\n"
      ],
      "id": "9c900339",
      "execution_count": null,
      "outputs": []
    },
    {
      "cell_type": "code",
      "metadata": {
        "id": "3cf0715a"
      },
      "source": [
        ""
      ],
      "id": "3cf0715a",
      "execution_count": null,
      "outputs": []
    },
    {
      "cell_type": "code",
      "metadata": {
        "id": "b2bb857b",
        "outputId": "7fc623ae-32db-4132-c3b6-b9b313019712"
      },
      "source": [
        "df3 = pd.DataFrame(\n",
        "    {'año': año,\n",
        "     'mes': mes,\n",
        "     'dia': dias,\n",
        "     'hora': mes,\n",
        "    })\n",
        "df3[\"mes\"]=df3[\"mes\"]+1\n",
        "df3[\"hora\"]=df3[\"mes\"]-6\n",
        "df3['dateInt']=df2['año'].astype(str) + df3['mes'].astype(str).str.zfill(2)+ df3['dia'].astype(str).str.zfill(2)\n",
        "df3['Date_start_Examenes'] = pd.to_datetime(df3['dateInt'], format='%Y%m%d')\n",
        "df3['Date_start_Examenes'] += pd.to_timedelta(df3[\"hora\"].values.tolist(),unit='h')\n",
        "df3"
      ],
      "id": "b2bb857b",
      "execution_count": null,
      "outputs": [
        {
          "data": {
            "text/html": [
              "<div>\n",
              "<style scoped>\n",
              "    .dataframe tbody tr th:only-of-type {\n",
              "        vertical-align: middle;\n",
              "    }\n",
              "\n",
              "    .dataframe tbody tr th {\n",
              "        vertical-align: top;\n",
              "    }\n",
              "\n",
              "    .dataframe thead th {\n",
              "        text-align: right;\n",
              "    }\n",
              "</style>\n",
              "<table border=\"1\" class=\"dataframe\">\n",
              "  <thead>\n",
              "    <tr style=\"text-align: right;\">\n",
              "      <th></th>\n",
              "      <th>año</th>\n",
              "      <th>mes</th>\n",
              "      <th>dia</th>\n",
              "      <th>hora</th>\n",
              "      <th>dateInt</th>\n",
              "      <th>Date_start_Examenes</th>\n",
              "    </tr>\n",
              "  </thead>\n",
              "  <tbody>\n",
              "    <tr>\n",
              "      <th>0</th>\n",
              "      <td>2021</td>\n",
              "      <td>6</td>\n",
              "      <td>7</td>\n",
              "      <td>0</td>\n",
              "      <td>20210607</td>\n",
              "      <td>2021-06-07</td>\n",
              "    </tr>\n",
              "    <tr>\n",
              "      <th>1</th>\n",
              "      <td>2021</td>\n",
              "      <td>6</td>\n",
              "      <td>9</td>\n",
              "      <td>0</td>\n",
              "      <td>20210609</td>\n",
              "      <td>2021-06-09</td>\n",
              "    </tr>\n",
              "    <tr>\n",
              "      <th>2</th>\n",
              "      <td>2021</td>\n",
              "      <td>6</td>\n",
              "      <td>11</td>\n",
              "      <td>0</td>\n",
              "      <td>20210611</td>\n",
              "      <td>2021-06-11</td>\n",
              "    </tr>\n",
              "    <tr>\n",
              "      <th>3</th>\n",
              "      <td>2021</td>\n",
              "      <td>6</td>\n",
              "      <td>5</td>\n",
              "      <td>0</td>\n",
              "      <td>20210605</td>\n",
              "      <td>2021-06-05</td>\n",
              "    </tr>\n",
              "    <tr>\n",
              "      <th>4</th>\n",
              "      <td>2021</td>\n",
              "      <td>6</td>\n",
              "      <td>5</td>\n",
              "      <td>0</td>\n",
              "      <td>20210605</td>\n",
              "      <td>2021-06-05</td>\n",
              "    </tr>\n",
              "    <tr>\n",
              "      <th>...</th>\n",
              "      <td>...</td>\n",
              "      <td>...</td>\n",
              "      <td>...</td>\n",
              "      <td>...</td>\n",
              "      <td>...</td>\n",
              "      <td>...</td>\n",
              "    </tr>\n",
              "    <tr>\n",
              "      <th>1995</th>\n",
              "      <td>2021</td>\n",
              "      <td>6</td>\n",
              "      <td>4</td>\n",
              "      <td>0</td>\n",
              "      <td>20210604</td>\n",
              "      <td>2021-06-04</td>\n",
              "    </tr>\n",
              "    <tr>\n",
              "      <th>1996</th>\n",
              "      <td>2021</td>\n",
              "      <td>6</td>\n",
              "      <td>1</td>\n",
              "      <td>0</td>\n",
              "      <td>20210601</td>\n",
              "      <td>2021-06-01</td>\n",
              "    </tr>\n",
              "    <tr>\n",
              "      <th>1997</th>\n",
              "      <td>2021</td>\n",
              "      <td>6</td>\n",
              "      <td>7</td>\n",
              "      <td>0</td>\n",
              "      <td>20210607</td>\n",
              "      <td>2021-06-07</td>\n",
              "    </tr>\n",
              "    <tr>\n",
              "      <th>1998</th>\n",
              "      <td>2021</td>\n",
              "      <td>6</td>\n",
              "      <td>9</td>\n",
              "      <td>0</td>\n",
              "      <td>20210609</td>\n",
              "      <td>2021-06-09</td>\n",
              "    </tr>\n",
              "    <tr>\n",
              "      <th>1999</th>\n",
              "      <td>2021</td>\n",
              "      <td>6</td>\n",
              "      <td>10</td>\n",
              "      <td>0</td>\n",
              "      <td>20210610</td>\n",
              "      <td>2021-06-10</td>\n",
              "    </tr>\n",
              "  </tbody>\n",
              "</table>\n",
              "<p>2000 rows × 6 columns</p>\n",
              "</div>"
            ],
            "text/plain": [
              "       año  mes  dia  hora   dateInt Date_start_Examenes\n",
              "0     2021    6    7     0  20210607          2021-06-07\n",
              "1     2021    6    9     0  20210609          2021-06-09\n",
              "2     2021    6   11     0  20210611          2021-06-11\n",
              "3     2021    6    5     0  20210605          2021-06-05\n",
              "4     2021    6    5     0  20210605          2021-06-05\n",
              "...    ...  ...  ...   ...       ...                 ...\n",
              "1995  2021    6    4     0  20210604          2021-06-04\n",
              "1996  2021    6    1     0  20210601          2021-06-01\n",
              "1997  2021    6    7     0  20210607          2021-06-07\n",
              "1998  2021    6    9     0  20210609          2021-06-09\n",
              "1999  2021    6   10     0  20210610          2021-06-10\n",
              "\n",
              "[2000 rows x 6 columns]"
            ]
          },
          "execution_count": 577,
          "metadata": {},
          "output_type": "execute_result"
        }
      ]
    },
    {
      "cell_type": "code",
      "metadata": {
        "id": "e5973035",
        "outputId": "ac41c5ef-afdd-4d99-b09d-1d5f9b7e708d"
      },
      "source": [
        "df2[\"Date_start_Examenes\"]=df3['Date_start_Examenes']\n",
        "df2"
      ],
      "id": "e5973035",
      "execution_count": null,
      "outputs": [
        {
          "data": {
            "text/html": [
              "<div>\n",
              "<style scoped>\n",
              "    .dataframe tbody tr th:only-of-type {\n",
              "        vertical-align: middle;\n",
              "    }\n",
              "\n",
              "    .dataframe tbody tr th {\n",
              "        vertical-align: top;\n",
              "    }\n",
              "\n",
              "    .dataframe thead th {\n",
              "        text-align: right;\n",
              "    }\n",
              "</style>\n",
              "<table border=\"1\" class=\"dataframe\">\n",
              "  <thead>\n",
              "    <tr style=\"text-align: right;\">\n",
              "      <th></th>\n",
              "      <th>año</th>\n",
              "      <th>mes</th>\n",
              "      <th>dia</th>\n",
              "      <th>hora</th>\n",
              "      <th>min</th>\n",
              "      <th>dateInt</th>\n",
              "      <th>Date_start_horario</th>\n",
              "      <th>Date_start_Examenes</th>\n",
              "    </tr>\n",
              "  </thead>\n",
              "  <tbody>\n",
              "    <tr>\n",
              "      <th>0</th>\n",
              "      <td>2021</td>\n",
              "      <td>5</td>\n",
              "      <td>16</td>\n",
              "      <td>9</td>\n",
              "      <td>0</td>\n",
              "      <td>20210516</td>\n",
              "      <td>2021-05-16 09:00:00</td>\n",
              "      <td>2021-06-07</td>\n",
              "    </tr>\n",
              "    <tr>\n",
              "      <th>1</th>\n",
              "      <td>2021</td>\n",
              "      <td>5</td>\n",
              "      <td>10</td>\n",
              "      <td>10</td>\n",
              "      <td>30</td>\n",
              "      <td>20210510</td>\n",
              "      <td>2021-05-10 10:30:00</td>\n",
              "      <td>2021-06-09</td>\n",
              "    </tr>\n",
              "    <tr>\n",
              "      <th>2</th>\n",
              "      <td>2021</td>\n",
              "      <td>5</td>\n",
              "      <td>12</td>\n",
              "      <td>9</td>\n",
              "      <td>45</td>\n",
              "      <td>20210512</td>\n",
              "      <td>2021-05-12 09:45:00</td>\n",
              "      <td>2021-06-11</td>\n",
              "    </tr>\n",
              "    <tr>\n",
              "      <th>3</th>\n",
              "      <td>2021</td>\n",
              "      <td>5</td>\n",
              "      <td>12</td>\n",
              "      <td>10</td>\n",
              "      <td>30</td>\n",
              "      <td>20210512</td>\n",
              "      <td>2021-05-12 10:30:00</td>\n",
              "      <td>2021-06-05</td>\n",
              "    </tr>\n",
              "    <tr>\n",
              "      <th>4</th>\n",
              "      <td>2021</td>\n",
              "      <td>5</td>\n",
              "      <td>14</td>\n",
              "      <td>9</td>\n",
              "      <td>0</td>\n",
              "      <td>20210514</td>\n",
              "      <td>2021-05-14 09:00:00</td>\n",
              "      <td>2021-06-05</td>\n",
              "    </tr>\n",
              "    <tr>\n",
              "      <th>...</th>\n",
              "      <td>...</td>\n",
              "      <td>...</td>\n",
              "      <td>...</td>\n",
              "      <td>...</td>\n",
              "      <td>...</td>\n",
              "      <td>...</td>\n",
              "      <td>...</td>\n",
              "      <td>...</td>\n",
              "    </tr>\n",
              "    <tr>\n",
              "      <th>1995</th>\n",
              "      <td>2021</td>\n",
              "      <td>5</td>\n",
              "      <td>13</td>\n",
              "      <td>10</td>\n",
              "      <td>30</td>\n",
              "      <td>20210513</td>\n",
              "      <td>2021-05-13 10:30:00</td>\n",
              "      <td>2021-06-04</td>\n",
              "    </tr>\n",
              "    <tr>\n",
              "      <th>1996</th>\n",
              "      <td>2021</td>\n",
              "      <td>5</td>\n",
              "      <td>14</td>\n",
              "      <td>10</td>\n",
              "      <td>30</td>\n",
              "      <td>20210514</td>\n",
              "      <td>2021-05-14 10:30:00</td>\n",
              "      <td>2021-06-01</td>\n",
              "    </tr>\n",
              "    <tr>\n",
              "      <th>1997</th>\n",
              "      <td>2021</td>\n",
              "      <td>5</td>\n",
              "      <td>14</td>\n",
              "      <td>10</td>\n",
              "      <td>30</td>\n",
              "      <td>20210514</td>\n",
              "      <td>2021-05-14 10:30:00</td>\n",
              "      <td>2021-06-07</td>\n",
              "    </tr>\n",
              "    <tr>\n",
              "      <th>1998</th>\n",
              "      <td>2021</td>\n",
              "      <td>5</td>\n",
              "      <td>12</td>\n",
              "      <td>11</td>\n",
              "      <td>30</td>\n",
              "      <td>20210512</td>\n",
              "      <td>2021-05-12 11:30:00</td>\n",
              "      <td>2021-06-09</td>\n",
              "    </tr>\n",
              "    <tr>\n",
              "      <th>1999</th>\n",
              "      <td>2021</td>\n",
              "      <td>5</td>\n",
              "      <td>11</td>\n",
              "      <td>11</td>\n",
              "      <td>0</td>\n",
              "      <td>20210511</td>\n",
              "      <td>2021-05-11 11:00:00</td>\n",
              "      <td>2021-06-10</td>\n",
              "    </tr>\n",
              "  </tbody>\n",
              "</table>\n",
              "<p>2000 rows × 8 columns</p>\n",
              "</div>"
            ],
            "text/plain": [
              "       año  mes  dia  hora  min   dateInt  Date_start_horario  \\\n",
              "0     2021    5   16     9    0  20210516 2021-05-16 09:00:00   \n",
              "1     2021    5   10    10   30  20210510 2021-05-10 10:30:00   \n",
              "2     2021    5   12     9   45  20210512 2021-05-12 09:45:00   \n",
              "3     2021    5   12    10   30  20210512 2021-05-12 10:30:00   \n",
              "4     2021    5   14     9    0  20210514 2021-05-14 09:00:00   \n",
              "...    ...  ...  ...   ...  ...       ...                 ...   \n",
              "1995  2021    5   13    10   30  20210513 2021-05-13 10:30:00   \n",
              "1996  2021    5   14    10   30  20210514 2021-05-14 10:30:00   \n",
              "1997  2021    5   14    10   30  20210514 2021-05-14 10:30:00   \n",
              "1998  2021    5   12    11   30  20210512 2021-05-12 11:30:00   \n",
              "1999  2021    5   11    11    0  20210511 2021-05-11 11:00:00   \n",
              "\n",
              "     Date_start_Examenes  \n",
              "0             2021-06-07  \n",
              "1             2021-06-09  \n",
              "2             2021-06-11  \n",
              "3             2021-06-05  \n",
              "4             2021-06-05  \n",
              "...                  ...  \n",
              "1995          2021-06-04  \n",
              "1996          2021-06-01  \n",
              "1997          2021-06-07  \n",
              "1998          2021-06-09  \n",
              "1999          2021-06-10  \n",
              "\n",
              "[2000 rows x 8 columns]"
            ]
          },
          "execution_count": 578,
          "metadata": {},
          "output_type": "execute_result"
        }
      ]
    },
    {
      "cell_type": "code",
      "metadata": {
        "id": "e52de497",
        "outputId": "0c1923e1-e8e2-434d-c9d0-d9e195d53adb"
      },
      "source": [
        "\n",
        "\n",
        "df2 = df2.rename({'Date': 'Date_start_horario'}, axis=1)  # new method\n",
        "\n",
        "df2\n"
      ],
      "id": "e52de497",
      "execution_count": null,
      "outputs": [
        {
          "data": {
            "text/html": [
              "<div>\n",
              "<style scoped>\n",
              "    .dataframe tbody tr th:only-of-type {\n",
              "        vertical-align: middle;\n",
              "    }\n",
              "\n",
              "    .dataframe tbody tr th {\n",
              "        vertical-align: top;\n",
              "    }\n",
              "\n",
              "    .dataframe thead th {\n",
              "        text-align: right;\n",
              "    }\n",
              "</style>\n",
              "<table border=\"1\" class=\"dataframe\">\n",
              "  <thead>\n",
              "    <tr style=\"text-align: right;\">\n",
              "      <th></th>\n",
              "      <th>año</th>\n",
              "      <th>mes</th>\n",
              "      <th>dia</th>\n",
              "      <th>hora</th>\n",
              "      <th>min</th>\n",
              "      <th>dateInt</th>\n",
              "      <th>Date_start_horario</th>\n",
              "      <th>Date_start_Examenes</th>\n",
              "    </tr>\n",
              "  </thead>\n",
              "  <tbody>\n",
              "    <tr>\n",
              "      <th>0</th>\n",
              "      <td>2021</td>\n",
              "      <td>5</td>\n",
              "      <td>16</td>\n",
              "      <td>9</td>\n",
              "      <td>0</td>\n",
              "      <td>20210516</td>\n",
              "      <td>2021-05-16 09:00:00</td>\n",
              "      <td>2021-06-07</td>\n",
              "    </tr>\n",
              "    <tr>\n",
              "      <th>1</th>\n",
              "      <td>2021</td>\n",
              "      <td>5</td>\n",
              "      <td>10</td>\n",
              "      <td>10</td>\n",
              "      <td>30</td>\n",
              "      <td>20210510</td>\n",
              "      <td>2021-05-10 10:30:00</td>\n",
              "      <td>2021-06-09</td>\n",
              "    </tr>\n",
              "    <tr>\n",
              "      <th>2</th>\n",
              "      <td>2021</td>\n",
              "      <td>5</td>\n",
              "      <td>12</td>\n",
              "      <td>9</td>\n",
              "      <td>45</td>\n",
              "      <td>20210512</td>\n",
              "      <td>2021-05-12 09:45:00</td>\n",
              "      <td>2021-06-11</td>\n",
              "    </tr>\n",
              "    <tr>\n",
              "      <th>3</th>\n",
              "      <td>2021</td>\n",
              "      <td>5</td>\n",
              "      <td>12</td>\n",
              "      <td>10</td>\n",
              "      <td>30</td>\n",
              "      <td>20210512</td>\n",
              "      <td>2021-05-12 10:30:00</td>\n",
              "      <td>2021-06-05</td>\n",
              "    </tr>\n",
              "    <tr>\n",
              "      <th>4</th>\n",
              "      <td>2021</td>\n",
              "      <td>5</td>\n",
              "      <td>14</td>\n",
              "      <td>9</td>\n",
              "      <td>0</td>\n",
              "      <td>20210514</td>\n",
              "      <td>2021-05-14 09:00:00</td>\n",
              "      <td>2021-06-05</td>\n",
              "    </tr>\n",
              "    <tr>\n",
              "      <th>...</th>\n",
              "      <td>...</td>\n",
              "      <td>...</td>\n",
              "      <td>...</td>\n",
              "      <td>...</td>\n",
              "      <td>...</td>\n",
              "      <td>...</td>\n",
              "      <td>...</td>\n",
              "      <td>...</td>\n",
              "    </tr>\n",
              "    <tr>\n",
              "      <th>1995</th>\n",
              "      <td>2021</td>\n",
              "      <td>5</td>\n",
              "      <td>13</td>\n",
              "      <td>10</td>\n",
              "      <td>30</td>\n",
              "      <td>20210513</td>\n",
              "      <td>2021-05-13 10:30:00</td>\n",
              "      <td>2021-06-04</td>\n",
              "    </tr>\n",
              "    <tr>\n",
              "      <th>1996</th>\n",
              "      <td>2021</td>\n",
              "      <td>5</td>\n",
              "      <td>14</td>\n",
              "      <td>10</td>\n",
              "      <td>30</td>\n",
              "      <td>20210514</td>\n",
              "      <td>2021-05-14 10:30:00</td>\n",
              "      <td>2021-06-01</td>\n",
              "    </tr>\n",
              "    <tr>\n",
              "      <th>1997</th>\n",
              "      <td>2021</td>\n",
              "      <td>5</td>\n",
              "      <td>14</td>\n",
              "      <td>10</td>\n",
              "      <td>30</td>\n",
              "      <td>20210514</td>\n",
              "      <td>2021-05-14 10:30:00</td>\n",
              "      <td>2021-06-07</td>\n",
              "    </tr>\n",
              "    <tr>\n",
              "      <th>1998</th>\n",
              "      <td>2021</td>\n",
              "      <td>5</td>\n",
              "      <td>12</td>\n",
              "      <td>11</td>\n",
              "      <td>30</td>\n",
              "      <td>20210512</td>\n",
              "      <td>2021-05-12 11:30:00</td>\n",
              "      <td>2021-06-09</td>\n",
              "    </tr>\n",
              "    <tr>\n",
              "      <th>1999</th>\n",
              "      <td>2021</td>\n",
              "      <td>5</td>\n",
              "      <td>11</td>\n",
              "      <td>11</td>\n",
              "      <td>0</td>\n",
              "      <td>20210511</td>\n",
              "      <td>2021-05-11 11:00:00</td>\n",
              "      <td>2021-06-10</td>\n",
              "    </tr>\n",
              "  </tbody>\n",
              "</table>\n",
              "<p>2000 rows × 8 columns</p>\n",
              "</div>"
            ],
            "text/plain": [
              "       año  mes  dia  hora  min   dateInt  Date_start_horario  \\\n",
              "0     2021    5   16     9    0  20210516 2021-05-16 09:00:00   \n",
              "1     2021    5   10    10   30  20210510 2021-05-10 10:30:00   \n",
              "2     2021    5   12     9   45  20210512 2021-05-12 09:45:00   \n",
              "3     2021    5   12    10   30  20210512 2021-05-12 10:30:00   \n",
              "4     2021    5   14     9    0  20210514 2021-05-14 09:00:00   \n",
              "...    ...  ...  ...   ...  ...       ...                 ...   \n",
              "1995  2021    5   13    10   30  20210513 2021-05-13 10:30:00   \n",
              "1996  2021    5   14    10   30  20210514 2021-05-14 10:30:00   \n",
              "1997  2021    5   14    10   30  20210514 2021-05-14 10:30:00   \n",
              "1998  2021    5   12    11   30  20210512 2021-05-12 11:30:00   \n",
              "1999  2021    5   11    11    0  20210511 2021-05-11 11:00:00   \n",
              "\n",
              "     Date_start_Examenes  \n",
              "0             2021-06-07  \n",
              "1             2021-06-09  \n",
              "2             2021-06-11  \n",
              "3             2021-06-05  \n",
              "4             2021-06-05  \n",
              "...                  ...  \n",
              "1995          2021-06-04  \n",
              "1996          2021-06-01  \n",
              "1997          2021-06-07  \n",
              "1998          2021-06-09  \n",
              "1999          2021-06-10  \n",
              "\n",
              "[2000 rows x 8 columns]"
            ]
          },
          "execution_count": 579,
          "metadata": {},
          "output_type": "execute_result"
        }
      ]
    },
    {
      "cell_type": "code",
      "metadata": {
        "id": "4b5256d7"
      },
      "source": [
        ""
      ],
      "id": "4b5256d7",
      "execution_count": null,
      "outputs": []
    },
    {
      "cell_type": "code",
      "metadata": {
        "id": "cc11c919",
        "outputId": "8d7f3a61-af42-4924-9eed-bd2bd2ad95c5"
      },
      "source": [
        "df2['days_left'] = (df2['Date_start_Examenes'] - df2['Date_start_horario']).dt.days\n",
        "df2"
      ],
      "id": "cc11c919",
      "execution_count": null,
      "outputs": [
        {
          "data": {
            "text/html": [
              "<div>\n",
              "<style scoped>\n",
              "    .dataframe tbody tr th:only-of-type {\n",
              "        vertical-align: middle;\n",
              "    }\n",
              "\n",
              "    .dataframe tbody tr th {\n",
              "        vertical-align: top;\n",
              "    }\n",
              "\n",
              "    .dataframe thead th {\n",
              "        text-align: right;\n",
              "    }\n",
              "</style>\n",
              "<table border=\"1\" class=\"dataframe\">\n",
              "  <thead>\n",
              "    <tr style=\"text-align: right;\">\n",
              "      <th></th>\n",
              "      <th>año</th>\n",
              "      <th>mes</th>\n",
              "      <th>dia</th>\n",
              "      <th>hora</th>\n",
              "      <th>min</th>\n",
              "      <th>dateInt</th>\n",
              "      <th>Date_start_horario</th>\n",
              "      <th>Date_start_Examenes</th>\n",
              "      <th>days_left</th>\n",
              "      <th>Lengua</th>\n",
              "      <th>Mates</th>\n",
              "      <th>Ingles</th>\n",
              "      <th>Biologia</th>\n",
              "      <th>Quimica</th>\n",
              "      <th>Historia</th>\n",
              "    </tr>\n",
              "  </thead>\n",
              "  <tbody>\n",
              "    <tr>\n",
              "      <th>0</th>\n",
              "      <td>2021</td>\n",
              "      <td>5</td>\n",
              "      <td>20</td>\n",
              "      <td>9</td>\n",
              "      <td>0</td>\n",
              "      <td>20210520</td>\n",
              "      <td>2021-05-20 09:00:00</td>\n",
              "      <td>2021-06-07</td>\n",
              "      <td>17</td>\n",
              "      <td>7.65</td>\n",
              "      <td>4.91</td>\n",
              "      <td>4.08</td>\n",
              "      <td>6.83</td>\n",
              "      <td>6.18</td>\n",
              "      <td>6.68</td>\n",
              "    </tr>\n",
              "    <tr>\n",
              "      <th>1</th>\n",
              "      <td>2021</td>\n",
              "      <td>5</td>\n",
              "      <td>21</td>\n",
              "      <td>10</td>\n",
              "      <td>30</td>\n",
              "      <td>20210521</td>\n",
              "      <td>2021-05-21 10:30:00</td>\n",
              "      <td>2021-06-09</td>\n",
              "      <td>18</td>\n",
              "      <td>4.13</td>\n",
              "      <td>8.17</td>\n",
              "      <td>7.60</td>\n",
              "      <td>5.86</td>\n",
              "      <td>4.36</td>\n",
              "      <td>7.34</td>\n",
              "    </tr>\n",
              "    <tr>\n",
              "      <th>2</th>\n",
              "      <td>2021</td>\n",
              "      <td>5</td>\n",
              "      <td>15</td>\n",
              "      <td>9</td>\n",
              "      <td>45</td>\n",
              "      <td>20210515</td>\n",
              "      <td>2021-05-15 09:45:00</td>\n",
              "      <td>2021-06-11</td>\n",
              "      <td>26</td>\n",
              "      <td>5.68</td>\n",
              "      <td>9.22</td>\n",
              "      <td>6.04</td>\n",
              "      <td>5.28</td>\n",
              "      <td>5.11</td>\n",
              "      <td>6.71</td>\n",
              "    </tr>\n",
              "    <tr>\n",
              "      <th>3</th>\n",
              "      <td>2021</td>\n",
              "      <td>5</td>\n",
              "      <td>19</td>\n",
              "      <td>10</td>\n",
              "      <td>30</td>\n",
              "      <td>20210519</td>\n",
              "      <td>2021-05-19 10:30:00</td>\n",
              "      <td>2021-06-05</td>\n",
              "      <td>16</td>\n",
              "      <td>7.17</td>\n",
              "      <td>6.50</td>\n",
              "      <td>5.33</td>\n",
              "      <td>4.83</td>\n",
              "      <td>5.90</td>\n",
              "      <td>4.92</td>\n",
              "    </tr>\n",
              "    <tr>\n",
              "      <th>4</th>\n",
              "      <td>2021</td>\n",
              "      <td>5</td>\n",
              "      <td>14</td>\n",
              "      <td>9</td>\n",
              "      <td>0</td>\n",
              "      <td>20210514</td>\n",
              "      <td>2021-05-14 09:00:00</td>\n",
              "      <td>2021-06-05</td>\n",
              "      <td>21</td>\n",
              "      <td>7.26</td>\n",
              "      <td>7.28</td>\n",
              "      <td>5.82</td>\n",
              "      <td>6.25</td>\n",
              "      <td>7.21</td>\n",
              "      <td>7.19</td>\n",
              "    </tr>\n",
              "    <tr>\n",
              "      <th>...</th>\n",
              "      <td>...</td>\n",
              "      <td>...</td>\n",
              "      <td>...</td>\n",
              "      <td>...</td>\n",
              "      <td>...</td>\n",
              "      <td>...</td>\n",
              "      <td>...</td>\n",
              "      <td>...</td>\n",
              "      <td>...</td>\n",
              "      <td>...</td>\n",
              "      <td>...</td>\n",
              "      <td>...</td>\n",
              "      <td>...</td>\n",
              "      <td>...</td>\n",
              "      <td>...</td>\n",
              "    </tr>\n",
              "    <tr>\n",
              "      <th>1995</th>\n",
              "      <td>2021</td>\n",
              "      <td>5</td>\n",
              "      <td>17</td>\n",
              "      <td>10</td>\n",
              "      <td>30</td>\n",
              "      <td>20210517</td>\n",
              "      <td>2021-05-17 10:30:00</td>\n",
              "      <td>2021-06-04</td>\n",
              "      <td>17</td>\n",
              "      <td>5.15</td>\n",
              "      <td>6.90</td>\n",
              "      <td>4.34</td>\n",
              "      <td>7.25</td>\n",
              "      <td>6.90</td>\n",
              "      <td>4.95</td>\n",
              "    </tr>\n",
              "    <tr>\n",
              "      <th>1996</th>\n",
              "      <td>2021</td>\n",
              "      <td>5</td>\n",
              "      <td>17</td>\n",
              "      <td>10</td>\n",
              "      <td>30</td>\n",
              "      <td>20210517</td>\n",
              "      <td>2021-05-17 10:30:00</td>\n",
              "      <td>2021-06-01</td>\n",
              "      <td>14</td>\n",
              "      <td>4.35</td>\n",
              "      <td>7.24</td>\n",
              "      <td>4.25</td>\n",
              "      <td>4.06</td>\n",
              "      <td>7.76</td>\n",
              "      <td>5.06</td>\n",
              "    </tr>\n",
              "    <tr>\n",
              "      <th>1997</th>\n",
              "      <td>2021</td>\n",
              "      <td>5</td>\n",
              "      <td>14</td>\n",
              "      <td>10</td>\n",
              "      <td>30</td>\n",
              "      <td>20210514</td>\n",
              "      <td>2021-05-14 10:30:00</td>\n",
              "      <td>2021-06-07</td>\n",
              "      <td>23</td>\n",
              "      <td>8.38</td>\n",
              "      <td>5.78</td>\n",
              "      <td>6.75</td>\n",
              "      <td>5.97</td>\n",
              "      <td>6.39</td>\n",
              "      <td>9.24</td>\n",
              "    </tr>\n",
              "    <tr>\n",
              "      <th>1998</th>\n",
              "      <td>2021</td>\n",
              "      <td>5</td>\n",
              "      <td>15</td>\n",
              "      <td>11</td>\n",
              "      <td>30</td>\n",
              "      <td>20210515</td>\n",
              "      <td>2021-05-15 11:30:00</td>\n",
              "      <td>2021-06-09</td>\n",
              "      <td>24</td>\n",
              "      <td>4.44</td>\n",
              "      <td>4.30</td>\n",
              "      <td>5.89</td>\n",
              "      <td>6.93</td>\n",
              "      <td>6.59</td>\n",
              "      <td>7.78</td>\n",
              "    </tr>\n",
              "    <tr>\n",
              "      <th>1999</th>\n",
              "      <td>2021</td>\n",
              "      <td>5</td>\n",
              "      <td>13</td>\n",
              "      <td>11</td>\n",
              "      <td>0</td>\n",
              "      <td>20210513</td>\n",
              "      <td>2021-05-13 11:00:00</td>\n",
              "      <td>2021-06-10</td>\n",
              "      <td>27</td>\n",
              "      <td>7.29</td>\n",
              "      <td>6.76</td>\n",
              "      <td>5.94</td>\n",
              "      <td>5.39</td>\n",
              "      <td>5.47</td>\n",
              "      <td>4.50</td>\n",
              "    </tr>\n",
              "  </tbody>\n",
              "</table>\n",
              "<p>2000 rows × 15 columns</p>\n",
              "</div>"
            ],
            "text/plain": [
              "       año  mes  dia  hora  min   dateInt  Date_start_horario  \\\n",
              "0     2021    5   20     9    0  20210520 2021-05-20 09:00:00   \n",
              "1     2021    5   21    10   30  20210521 2021-05-21 10:30:00   \n",
              "2     2021    5   15     9   45  20210515 2021-05-15 09:45:00   \n",
              "3     2021    5   19    10   30  20210519 2021-05-19 10:30:00   \n",
              "4     2021    5   14     9    0  20210514 2021-05-14 09:00:00   \n",
              "...    ...  ...  ...   ...  ...       ...                 ...   \n",
              "1995  2021    5   17    10   30  20210517 2021-05-17 10:30:00   \n",
              "1996  2021    5   17    10   30  20210517 2021-05-17 10:30:00   \n",
              "1997  2021    5   14    10   30  20210514 2021-05-14 10:30:00   \n",
              "1998  2021    5   15    11   30  20210515 2021-05-15 11:30:00   \n",
              "1999  2021    5   13    11    0  20210513 2021-05-13 11:00:00   \n",
              "\n",
              "     Date_start_Examenes  days_left  Lengua  Mates  Ingles  Biologia  Quimica  \\\n",
              "0             2021-06-07         17    7.65   4.91    4.08      6.83     6.18   \n",
              "1             2021-06-09         18    4.13   8.17    7.60      5.86     4.36   \n",
              "2             2021-06-11         26    5.68   9.22    6.04      5.28     5.11   \n",
              "3             2021-06-05         16    7.17   6.50    5.33      4.83     5.90   \n",
              "4             2021-06-05         21    7.26   7.28    5.82      6.25     7.21   \n",
              "...                  ...        ...     ...    ...     ...       ...      ...   \n",
              "1995          2021-06-04         17    5.15   6.90    4.34      7.25     6.90   \n",
              "1996          2021-06-01         14    4.35   7.24    4.25      4.06     7.76   \n",
              "1997          2021-06-07         23    8.38   5.78    6.75      5.97     6.39   \n",
              "1998          2021-06-09         24    4.44   4.30    5.89      6.93     6.59   \n",
              "1999          2021-06-10         27    7.29   6.76    5.94      5.39     5.47   \n",
              "\n",
              "      Historia  \n",
              "0         6.68  \n",
              "1         7.34  \n",
              "2         6.71  \n",
              "3         4.92  \n",
              "4         7.19  \n",
              "...        ...  \n",
              "1995      4.95  \n",
              "1996      5.06  \n",
              "1997      9.24  \n",
              "1998      7.78  \n",
              "1999      4.50  \n",
              "\n",
              "[2000 rows x 15 columns]"
            ]
          },
          "execution_count": 605,
          "metadata": {},
          "output_type": "execute_result"
        }
      ]
    },
    {
      "cell_type": "code",
      "metadata": {
        "id": "cf7d017e"
      },
      "source": [
        "df1.to_csv(\"Building_data_students_v1.csv\",index=False)"
      ],
      "id": "cf7d017e",
      "execution_count": null,
      "outputs": []
    },
    {
      "cell_type": "code",
      "metadata": {
        "id": "197903f1"
      },
      "source": [
        ""
      ],
      "id": "197903f1",
      "execution_count": null,
      "outputs": []
    },
    {
      "cell_type": "code",
      "metadata": {
        "collapsed": true,
        "id": "10fa9998",
        "outputId": "73c30e5f-8acd-417e-cfd7-d609dab50419"
      },
      "source": [
        "df1 = pd.read_csv(\"Building_data_students_v1.csv\")\n",
        "\n",
        "df1"
      ],
      "id": "10fa9998",
      "execution_count": null,
      "outputs": [
        {
          "data": {
            "text/html": [
              "<div>\n",
              "<style scoped>\n",
              "    .dataframe tbody tr th:only-of-type {\n",
              "        vertical-align: middle;\n",
              "    }\n",
              "\n",
              "    .dataframe tbody tr th {\n",
              "        vertical-align: top;\n",
              "    }\n",
              "\n",
              "    .dataframe thead th {\n",
              "        text-align: right;\n",
              "    }\n",
              "</style>\n",
              "<table border=\"1\" class=\"dataframe\">\n",
              "  <thead>\n",
              "    <tr style=\"text-align: right;\">\n",
              "      <th></th>\n",
              "      <th>año</th>\n",
              "      <th>mes</th>\n",
              "      <th>dia</th>\n",
              "      <th>hora</th>\n",
              "      <th>min</th>\n",
              "      <th>dateInt</th>\n",
              "      <th>Date_start_horario</th>\n",
              "      <th>Date_start_Examenes</th>\n",
              "      <th>days_left</th>\n",
              "    </tr>\n",
              "  </thead>\n",
              "  <tbody>\n",
              "    <tr>\n",
              "      <th>0</th>\n",
              "      <td>2021</td>\n",
              "      <td>5</td>\n",
              "      <td>6</td>\n",
              "      <td>11</td>\n",
              "      <td>0</td>\n",
              "      <td>20210506</td>\n",
              "      <td>2021-05-06 11:00:00</td>\n",
              "      <td>2021-06-10</td>\n",
              "      <td>34</td>\n",
              "    </tr>\n",
              "    <tr>\n",
              "      <th>1</th>\n",
              "      <td>2021</td>\n",
              "      <td>5</td>\n",
              "      <td>21</td>\n",
              "      <td>9</td>\n",
              "      <td>0</td>\n",
              "      <td>20210521</td>\n",
              "      <td>2021-05-21 09:00:00</td>\n",
              "      <td>2021-06-06</td>\n",
              "      <td>15</td>\n",
              "    </tr>\n",
              "    <tr>\n",
              "      <th>2</th>\n",
              "      <td>2021</td>\n",
              "      <td>5</td>\n",
              "      <td>17</td>\n",
              "      <td>11</td>\n",
              "      <td>45</td>\n",
              "      <td>20210517</td>\n",
              "      <td>2021-05-17 11:45:00</td>\n",
              "      <td>2021-06-03</td>\n",
              "      <td>16</td>\n",
              "    </tr>\n",
              "    <tr>\n",
              "      <th>3</th>\n",
              "      <td>2021</td>\n",
              "      <td>5</td>\n",
              "      <td>7</td>\n",
              "      <td>10</td>\n",
              "      <td>30</td>\n",
              "      <td>20210507</td>\n",
              "      <td>2021-05-07 10:30:00</td>\n",
              "      <td>2021-06-06</td>\n",
              "      <td>29</td>\n",
              "    </tr>\n",
              "    <tr>\n",
              "      <th>4</th>\n",
              "      <td>2021</td>\n",
              "      <td>5</td>\n",
              "      <td>10</td>\n",
              "      <td>12</td>\n",
              "      <td>0</td>\n",
              "      <td>20210510</td>\n",
              "      <td>2021-05-10 12:00:00</td>\n",
              "      <td>2021-06-09</td>\n",
              "      <td>29</td>\n",
              "    </tr>\n",
              "    <tr>\n",
              "      <th>...</th>\n",
              "      <td>...</td>\n",
              "      <td>...</td>\n",
              "      <td>...</td>\n",
              "      <td>...</td>\n",
              "      <td>...</td>\n",
              "      <td>...</td>\n",
              "      <td>...</td>\n",
              "      <td>...</td>\n",
              "      <td>...</td>\n",
              "    </tr>\n",
              "    <tr>\n",
              "      <th>1995</th>\n",
              "      <td>2021</td>\n",
              "      <td>5</td>\n",
              "      <td>10</td>\n",
              "      <td>8</td>\n",
              "      <td>0</td>\n",
              "      <td>20210510</td>\n",
              "      <td>2021-05-10 08:00:00</td>\n",
              "      <td>2021-06-03</td>\n",
              "      <td>23</td>\n",
              "    </tr>\n",
              "    <tr>\n",
              "      <th>1996</th>\n",
              "      <td>2021</td>\n",
              "      <td>5</td>\n",
              "      <td>6</td>\n",
              "      <td>9</td>\n",
              "      <td>0</td>\n",
              "      <td>20210506</td>\n",
              "      <td>2021-05-06 09:00:00</td>\n",
              "      <td>2021-06-14</td>\n",
              "      <td>38</td>\n",
              "    </tr>\n",
              "    <tr>\n",
              "      <th>1997</th>\n",
              "      <td>2021</td>\n",
              "      <td>5</td>\n",
              "      <td>12</td>\n",
              "      <td>9</td>\n",
              "      <td>0</td>\n",
              "      <td>20210512</td>\n",
              "      <td>2021-05-12 09:00:00</td>\n",
              "      <td>2021-06-06</td>\n",
              "      <td>24</td>\n",
              "    </tr>\n",
              "    <tr>\n",
              "      <th>1998</th>\n",
              "      <td>2021</td>\n",
              "      <td>5</td>\n",
              "      <td>12</td>\n",
              "      <td>8</td>\n",
              "      <td>45</td>\n",
              "      <td>20210512</td>\n",
              "      <td>2021-05-12 08:45:00</td>\n",
              "      <td>2021-06-12</td>\n",
              "      <td>30</td>\n",
              "    </tr>\n",
              "    <tr>\n",
              "      <th>1999</th>\n",
              "      <td>2021</td>\n",
              "      <td>5</td>\n",
              "      <td>13</td>\n",
              "      <td>11</td>\n",
              "      <td>0</td>\n",
              "      <td>20210513</td>\n",
              "      <td>2021-05-13 11:00:00</td>\n",
              "      <td>2021-06-08</td>\n",
              "      <td>25</td>\n",
              "    </tr>\n",
              "  </tbody>\n",
              "</table>\n",
              "<p>2000 rows × 9 columns</p>\n",
              "</div>"
            ],
            "text/plain": [
              "       año  mes  dia  hora  min   dateInt   Date_start_horario  \\\n",
              "0     2021    5    6    11    0  20210506  2021-05-06 11:00:00   \n",
              "1     2021    5   21     9    0  20210521  2021-05-21 09:00:00   \n",
              "2     2021    5   17    11   45  20210517  2021-05-17 11:45:00   \n",
              "3     2021    5    7    10   30  20210507  2021-05-07 10:30:00   \n",
              "4     2021    5   10    12    0  20210510  2021-05-10 12:00:00   \n",
              "...    ...  ...  ...   ...  ...       ...                  ...   \n",
              "1995  2021    5   10     8    0  20210510  2021-05-10 08:00:00   \n",
              "1996  2021    5    6     9    0  20210506  2021-05-06 09:00:00   \n",
              "1997  2021    5   12     9    0  20210512  2021-05-12 09:00:00   \n",
              "1998  2021    5   12     8   45  20210512  2021-05-12 08:45:00   \n",
              "1999  2021    5   13    11    0  20210513  2021-05-13 11:00:00   \n",
              "\n",
              "     Date_start_Examenes  days_left  \n",
              "0             2021-06-10         34  \n",
              "1             2021-06-06         15  \n",
              "2             2021-06-03         16  \n",
              "3             2021-06-06         29  \n",
              "4             2021-06-09         29  \n",
              "...                  ...        ...  \n",
              "1995          2021-06-03         23  \n",
              "1996          2021-06-14         38  \n",
              "1997          2021-06-06         24  \n",
              "1998          2021-06-12         30  \n",
              "1999          2021-06-08         25  \n",
              "\n",
              "[2000 rows x 9 columns]"
            ]
          },
          "execution_count": 13,
          "metadata": {},
          "output_type": "execute_result"
        }
      ]
    },
    {
      "cell_type": "markdown",
      "metadata": {
        "id": "398f0e77"
      },
      "source": [
        "## Construyendo Notas Bach ciencias"
      ],
      "id": "398f0e77"
    },
    {
      "cell_type": "markdown",
      "metadata": {
        "id": "eeaefd67"
      },
      "source": [
        "### construyendo lengua bach ciencias"
      ],
      "id": "eeaefd67"
    },
    {
      "cell_type": "code",
      "metadata": {
        "id": "1f77f798",
        "outputId": "06645aa0-8157-4ce3-a14a-e8389289e9e7"
      },
      "source": [
        "import random\n",
        "sobres=[9.25,9,9.15,9.50,9.75,10,9.60,9.10,9.07,9.05]\n",
        "suspensos=[4.70,4.75,4.65,4.50,4.80,4.59,4.55,4.35,5]\n",
        "import matplotlib.pyplot as plt\n",
        "%matplotlib inline\n",
        "\n",
        "lengua=[]\n",
        "for _ in range(2000):\n",
        "    nota=abs(round((random.gauss(6.45,1.67)),2))\n",
        "    if nota > 10.00:   \n",
        "        lengua.append(random.choices(sobres,weights=[1,1,1,1,1,1,1,1,1,1],k=1)[0])\n",
        "    elif nota < 3.75:   \n",
        "        lengua.append(random.choices(suspensos,weights=[1,1,1,1,1,1,1,1,1],k=1)[0])\n",
        "    else:\n",
        "        lengua.append(nota)\n",
        "\n",
        "print(min(lengua))\n",
        "max(lengua)"
      ],
      "id": "1f77f798",
      "execution_count": null,
      "outputs": [
        {
          "name": "stdout",
          "output_type": "stream",
          "text": [
            "3.75\n"
          ]
        },
        {
          "data": {
            "text/plain": [
              "10"
            ]
          },
          "execution_count": 513,
          "metadata": {},
          "output_type": "execute_result"
        }
      ]
    },
    {
      "cell_type": "code",
      "metadata": {
        "id": "9640b899",
        "outputId": "e6479bf6-03f5-410d-ae7b-7c0510c6c6ac"
      },
      "source": [
        "def Average(lst):\n",
        "    return sum(lst) / len(lst)\n",
        "Average(lengua)\n"
      ],
      "id": "9640b899",
      "execution_count": null,
      "outputs": [
        {
          "data": {
            "text/plain": [
              "6.542519999999999"
            ]
          },
          "execution_count": 514,
          "metadata": {},
          "output_type": "execute_result"
        }
      ]
    },
    {
      "cell_type": "code",
      "metadata": {
        "id": "25631b81",
        "outputId": "a19e6e19-2440-435c-9cf0-af5bc8a62943"
      },
      "source": [
        "plt.hist(lengua, bins=5)\n",
        "plt.show() "
      ],
      "id": "25631b81",
      "execution_count": null,
      "outputs": [
        {
          "data": {
            "image/png": "[encoded data removed]",
            "text/plain": [
              "<Figure size 432x288 with 1 Axes>"
            ]
          },
          "metadata": {
            "needs_background": "light"
          },
          "output_type": "display_data"
        }
      ]
    },
    {
      "cell_type": "code",
      "metadata": {
        "id": "733a9147",
        "outputId": "18ebde57-dd72-46b7-d15b-f0d66af1e2a9"
      },
      "source": [
        "suspensos=[]\n",
        "suspensos2=[]\n",
        "sobresalientes=[]\n",
        "for i,pos in enumerate(lengua):\n",
        "    if pos <5:\n",
        "        if pos >= 4:\n",
        "            suspensos.append(pos)\n",
        "        else:\n",
        "            suspensos2.append(pos)\n",
        "    elif pos >8:\n",
        "        sobresalientes.append(pos)\n",
        "    \n",
        "        \n",
        "print(len(suspensos2))\n",
        "print(len(sobresalientes))\n",
        "print(len(suspensos2)/20+(len(suspensos)/20),\"% de alumnos con notas menores a 5\")\n",
        "print(len(suspensos2)/20,\"% de alumnos con notas menores a 4\")\n",
        "print(len(sobresalientes)/20,\"% de alumnos con notas mayores a 8\")\n",
        "\n"
      ],
      "id": "733a9147",
      "execution_count": null,
      "outputs": [
        {
          "name": "stdout",
          "output_type": "stream",
          "text": [
            "30\n",
            "364\n",
            "17.9 % de alumnos con notas menores a 5\n",
            "1.5 % de alumnos con notas menores a 4\n",
            "18.2 % de alumnos con notas mayores a 8\n"
          ]
        }
      ]
    },
    {
      "cell_type": "code",
      "metadata": {
        "id": "5a368ecd"
      },
      "source": [
        ""
      ],
      "id": "5a368ecd",
      "execution_count": null,
      "outputs": []
    },
    {
      "cell_type": "markdown",
      "metadata": {
        "id": "1b82982e"
      },
      "source": [
        "### construyendo mates bach ciencias"
      ],
      "id": "1b82982e"
    },
    {
      "cell_type": "code",
      "metadata": {
        "id": "678a2628",
        "outputId": "1e0ea07e-a48f-4607-86ca-ff99f23e205d"
      },
      "source": [
        "import random\n",
        "sobres=[9.25,9,9.15,9.50,9.75,10,9.60,9.10,9.07,9.05]\n",
        "suspensos=[4.30,4.75,4.65,4.50,4.80,4.59,4.55,4.35,5]\n",
        "import matplotlib.pyplot as plt\n",
        "%matplotlib inline\n",
        "\n",
        "mates=[]\n",
        "for _ in range(2000):\n",
        "    nota=abs(round((random.gauss(6.44,1.71)),2))\n",
        "    if nota > 10.00:   \n",
        "        mates.append(random.choices(sobres,weights=[1,1,1,1,1,1,1,1,1,1],k=1)[0])\n",
        "    elif nota < 3.75:   \n",
        "        mates.append(random.choices(suspensos,weights=[1,1,1,1,1,1,1,1,1],k=1)[0])\n",
        "    else:\n",
        "        mates.append(nota)\n",
        "\n",
        "print(min(mates))\n",
        "max(mates)"
      ],
      "id": "678a2628",
      "execution_count": null,
      "outputs": [
        {
          "name": "stdout",
          "output_type": "stream",
          "text": [
            "3.75\n"
          ]
        },
        {
          "data": {
            "text/plain": [
              "10.0"
            ]
          },
          "execution_count": 561,
          "metadata": {},
          "output_type": "execute_result"
        }
      ]
    },
    {
      "cell_type": "code",
      "metadata": {
        "id": "1d429690",
        "outputId": "77af1f31-2e4b-4245-929f-184833959077"
      },
      "source": [
        "def Average(lst):\n",
        "    return sum(lst) / len(lst)\n",
        "Average(mates)\n"
      ],
      "id": "1d429690",
      "execution_count": null,
      "outputs": [
        {
          "data": {
            "text/plain": [
              "6.464725000000005"
            ]
          },
          "execution_count": 562,
          "metadata": {},
          "output_type": "execute_result"
        }
      ]
    },
    {
      "cell_type": "code",
      "metadata": {
        "id": "cd333e1b",
        "outputId": "20ea9565-862e-4b84-fc24-6460cb4807c6"
      },
      "source": [
        "plt.hist(mates, bins=5)\n",
        "plt.show() "
      ],
      "id": "cd333e1b",
      "execution_count": null,
      "outputs": [
        {
          "data": {
            "image/png": "[encoded data removed]",
            "text/plain": [
              "<Figure size 432x288 with 1 Axes>"
            ]
          },
          "metadata": {
            "needs_background": "light"
          },
          "output_type": "display_data"
        }
      ]
    },
    {
      "cell_type": "code",
      "metadata": {
        "id": "3789a919",
        "outputId": "6daa66ea-8a1b-46c9-d9a5-00ad3684f20d"
      },
      "source": [
        "suspensos=[]\n",
        "suspensos2=[]\n",
        "sobresalientes=[]\n",
        "for i,pos in enumerate(mates):\n",
        "    if pos <5:\n",
        "        if pos >= 4:\n",
        "            suspensos.append(pos)\n",
        "        else:\n",
        "            suspensos2.append(pos)\n",
        "    elif pos >8:\n",
        "        sobresalientes.append(pos)\n",
        "    \n",
        "        \n",
        "print(len(suspensos2))\n",
        "print(len(sobresalientes))\n",
        "print(len(suspensos2)/20+(len(suspensos)/20),\"% de alumnos con notas menores a 5\")\n",
        "print(len(suspensos2)/20,\"% de alumnos con notas menores a 4\")\n",
        "print(len(sobresalientes)/20,\"% de alumnos con notas mayores a 8\")\n",
        "\n"
      ],
      "id": "3789a919",
      "execution_count": null,
      "outputs": [
        {
          "name": "stdout",
          "output_type": "stream",
          "text": [
            "36\n",
            "331\n",
            "19.8 % de alumnos con notas menores a 5\n",
            "1.8 % de alumnos con notas menores a 4\n",
            "16.55 % de alumnos con notas mayores a 8\n"
          ]
        }
      ]
    },
    {
      "cell_type": "markdown",
      "metadata": {
        "id": "ea4045b1"
      },
      "source": [
        "### construyendo ingles bach ciencias"
      ],
      "id": "ea4045b1"
    },
    {
      "cell_type": "code",
      "metadata": {
        "id": "39eae073",
        "outputId": "a087fa58-d982-4a1d-a5ea-b661889008a3"
      },
      "source": [
        "import random\n",
        "sobres=[9.25,9,9.15,9.50,9.75,10,9.60,9.10,9.07,9.05]\n",
        "suspensos=[4.30,4.75,4.65,4.50,4.80,4.59,4.55,4.35,5]\n",
        "import matplotlib.pyplot as plt\n",
        "%matplotlib inline\n",
        "\n",
        "ingles=[]\n",
        "for _ in range(2000):\n",
        "    nota=abs(round((random.gauss(6.90,1.60)),2))\n",
        "    if nota > 10.00:   \n",
        "        ingles.append(random.choices(sobres,weights=[1,1,1,1,1,1,1,1,1,1],k=1)[0])\n",
        "    elif nota < 3.75:   \n",
        "        ingles.append(random.choices(suspensos,weights=[1,1,1,1,1,1,1,1,1],k=1)[0])\n",
        "    else:\n",
        "        ingles.append(nota)\n",
        "\n",
        "print(min(ingles))\n",
        "max(ingles)"
      ],
      "id": "39eae073",
      "execution_count": null,
      "outputs": [
        {
          "name": "stdout",
          "output_type": "stream",
          "text": [
            "3.75\n"
          ]
        },
        {
          "data": {
            "text/plain": [
              "10"
            ]
          },
          "execution_count": 537,
          "metadata": {},
          "output_type": "execute_result"
        }
      ]
    },
    {
      "cell_type": "code",
      "metadata": {
        "id": "1c35b00c",
        "outputId": "e99c49f7-9b12-41fd-e2bf-dacebdb82859"
      },
      "source": [
        "def Average(lst):\n",
        "    return sum(lst) / len(lst)\n",
        "Average(ingles)\n"
      ],
      "id": "1c35b00c",
      "execution_count": null,
      "outputs": [
        {
          "data": {
            "text/plain": [
              "6.9277749999999925"
            ]
          },
          "execution_count": 538,
          "metadata": {},
          "output_type": "execute_result"
        }
      ]
    },
    {
      "cell_type": "code",
      "metadata": {
        "id": "d0e3670a",
        "outputId": "96ea1e8f-e780-4c44-e3c5-89485ed6ec10"
      },
      "source": [
        "plt.hist(ingles, bins=5)\n",
        "plt.show() "
      ],
      "id": "d0e3670a",
      "execution_count": null,
      "outputs": [
        {
          "data": {
            "image/png": "[encoded data removed]",
            "text/plain": [
              "<Figure size 432x288 with 1 Axes>"
            ]
          },
          "metadata": {
            "needs_background": "light"
          },
          "output_type": "display_data"
        }
      ]
    },
    {
      "cell_type": "code",
      "metadata": {
        "id": "1054fffd",
        "outputId": "14b1b24e-7df2-4913-e5a1-155e97e6805d"
      },
      "source": [
        "suspensos=[]\n",
        "suspensos2=[]\n",
        "sobresalientes=[]\n",
        "for i,pos in enumerate(ingles):\n",
        "    if pos <5:\n",
        "        if pos >= 4:\n",
        "            suspensos.append(pos)\n",
        "        else:\n",
        "            suspensos2.append(pos)\n",
        "    elif pos >8:\n",
        "        sobresalientes.append(pos)\n",
        "    \n",
        "        \n",
        "print(len(suspensos2))\n",
        "print(len(sobresalientes))\n",
        "print(len(suspensos2)/20+(len(suspensos)/20),\"% de alumnos con notas menores a 5\")\n",
        "print(len(suspensos2)/20,\"% de alumnos con notas menores a 4\")\n",
        "print(len(sobresalientes)/20,\"% de alumnos con notas mayores a 8\")\n",
        "\n"
      ],
      "id": "1054fffd",
      "execution_count": null,
      "outputs": [
        {
          "name": "stdout",
          "output_type": "stream",
          "text": [
            "22\n",
            "512\n",
            "11.85 % de alumnos con notas menores a 5\n",
            "1.1 % de alumnos con notas menores a 4\n",
            "25.6 % de alumnos con notas mayores a 8\n"
          ]
        }
      ]
    },
    {
      "cell_type": "code",
      "metadata": {
        "id": "63d56595"
      },
      "source": [
        "dfh1=pd.read_csv(\"Building_data_students_v2.csv\")"
      ],
      "id": "63d56595",
      "execution_count": null,
      "outputs": []
    },
    {
      "cell_type": "markdown",
      "metadata": {
        "id": "1065c577"
      },
      "source": [
        "### construyendo Física bach ciencias"
      ],
      "id": "1065c577"
    },
    {
      "cell_type": "code",
      "metadata": {
        "id": "kpVSFMcXNdBy",
        "outputId": "396602ee-a2b7-4ac1-ea6a-479e46644530"
      },
      "source": [
        "import random\n",
        "sobres=[9.25,9,9.15,9.50,9.75,10,9.60,9.10,9.07,9.05]\n",
        "suspensos=[4.30,4.75,4.65,4.50,4.80,4.59,4.55,4.35,5]\n",
        "import matplotlib.pyplot as plt\n",
        "%matplotlib inline\n",
        "\n",
        "fisica=[]\n",
        "for _ in range(2000):\n",
        "    nota=abs(round((random.gauss(6.19,1.65)),2))\n",
        "    if nota > 10.00:   \n",
        "        fisica.append(random.choices(sobres,weights=[1,1,1,1,1,1,1,1,1,1],k=1)[0])\n",
        "    elif nota < 3.75:   \n",
        "        fisica.append(random.choices(suspensos,weights=[1,1,1,1,1,1,1,1,1],k=1)[0])\n",
        "    else:\n",
        "        fisica.append(nota)\n",
        "\n",
        "print(min(fisica))\n",
        "max(fisica)"
      ],
      "id": "kpVSFMcXNdBy",
      "execution_count": null,
      "outputs": [
        {
          "name": "stdout",
          "output_type": "stream",
          "text": [
            "3.75\n"
          ]
        },
        {
          "data": {
            "text/plain": [
              "10"
            ]
          },
          "execution_count": 227,
          "metadata": {},
          "output_type": "execute_result"
        }
      ]
    },
    {
      "cell_type": "code",
      "metadata": {
        "id": "Bc26PQKlNdBy",
        "outputId": "01f06956-056b-4987-8540-792f170fcfc6"
      },
      "source": [
        "def Average(lst):\n",
        "    return sum(lst) / len(lst)\n",
        "Average(fisica)\n"
      ],
      "id": "Bc26PQKlNdBy",
      "execution_count": null,
      "outputs": [
        {
          "data": {
            "text/plain": [
              "6.336530000000008"
            ]
          },
          "execution_count": 228,
          "metadata": {},
          "output_type": "execute_result"
        }
      ]
    },
    {
      "cell_type": "code",
      "metadata": {
        "id": "psyNO_oqNdBz",
        "outputId": "bf5e4627-9d72-4e70-d6a3-850e9f028693"
      },
      "source": [
        "plt.hist(fisica, bins=5)\n",
        "plt.show() "
      ],
      "id": "psyNO_oqNdBz",
      "execution_count": null,
      "outputs": [
        {
          "data": {
            "image/png": "[encoded data removed]",
            "text/plain": [
              "<Figure size 432x288 with 1 Axes>"
            ]
          },
          "metadata": {
            "needs_background": "light"
          },
          "output_type": "display_data"
        }
      ]
    },
    {
      "cell_type": "code",
      "metadata": {
        "id": "aFPIWoM2NdB0",
        "outputId": "88f7d07b-7b2d-4ffa-923f-26954a0ec0a7"
      },
      "source": [
        "suspensos=[]\n",
        "suspensos2=[]\n",
        "sobresalientes=[]\n",
        "for i,pos in enumerate(fisica):\n",
        "    if pos <5:\n",
        "        if pos >= 4:\n",
        "            suspensos.append(pos)\n",
        "        else:\n",
        "            suspensos2.append(pos)\n",
        "    elif pos >=8:\n",
        "        sobresalientes.append(pos)\n",
        "    \n",
        "        \n",
        "print(len(suspensos2))\n",
        "print(len(sobresalientes))\n",
        "print(len(suspensos2)/20+(len(suspensos)/20),\"% de alumnos con notas menores a 5\")\n",
        "print(len(suspensos2)/20,\"% de alumnos con notas menores a 4\")\n",
        "print(len(sobresalientes)/20,\"% de alumnos con notas mayores a 8\")\n",
        "\n"
      ],
      "id": "aFPIWoM2NdB0",
      "execution_count": null,
      "outputs": [
        {
          "name": "stdout",
          "output_type": "stream",
          "text": [
            "47\n",
            "294\n",
            "21.55 % de alumnos con notas menores a 5\n",
            "2.35 % de alumnos con notas menores a 4\n",
            "14.7 % de alumnos con notas mayores a 8\n"
          ]
        }
      ]
    },
    {
      "cell_type": "code",
      "metadata": {
        "id": "b7a93b29"
      },
      "source": [
        ""
      ],
      "id": "b7a93b29",
      "execution_count": null,
      "outputs": []
    },
    {
      "cell_type": "markdown",
      "metadata": {
        "id": "Mhvta87RNdB1"
      },
      "source": [
        "### construyendo DibujoTecnico bach ciencias"
      ],
      "id": "Mhvta87RNdB1"
    },
    {
      "cell_type": "code",
      "metadata": {
        "id": "1_YwclohNdB2",
        "outputId": "53afa0b8-7205-439b-85fa-3081838606ff"
      },
      "source": [
        "import random\n",
        "sobres=[9.25,9,9.15,9.50,9.75,10,9.60,9.10,9.07,9.05]\n",
        "suspensos=[4.30,4.75,4.65,4.50,4.80,4.59,4.55,5.35,5.05]\n",
        "import matplotlib.pyplot as plt\n",
        "%matplotlib inline\n",
        "\n",
        "dibujo=[]\n",
        "for _ in range(2000):\n",
        "    nota=abs(round((random.gauss(6.49,1.85)),2))\n",
        "    if nota > 10.00:   \n",
        "        dibujo.append(random.choices(sobres,weights=[1,1,1,1,1,1,1,1,1,1],k=1)[0])\n",
        "    elif nota < 3.75:   \n",
        "        dibujo.append(random.choices(suspensos,weights=[1,1,1,1,1,1,1,1,1],k=1)[0])\n",
        "    else:\n",
        "        dibujo.append(nota)\n",
        "\n",
        "print(min(dibujo))\n",
        "max(dibujo)"
      ],
      "id": "1_YwclohNdB2",
      "execution_count": null,
      "outputs": [
        {
          "name": "stdout",
          "output_type": "stream",
          "text": [
            "3.76\n"
          ]
        },
        {
          "data": {
            "text/plain": [
              "10"
            ]
          },
          "execution_count": 243,
          "metadata": {},
          "output_type": "execute_result"
        }
      ]
    },
    {
      "cell_type": "code",
      "metadata": {
        "id": "X9vW7vWdNdB2",
        "outputId": "dc7d0200-39f8-4be9-9042-6c1f8afd5514"
      },
      "source": [
        "def Average(lst):\n",
        "    return sum(lst) / len(lst)\n",
        "Average(dibujo)\n"
      ],
      "id": "X9vW7vWdNdB2",
      "execution_count": null,
      "outputs": [
        {
          "data": {
            "text/plain": [
              "6.621659999999999"
            ]
          },
          "execution_count": 244,
          "metadata": {},
          "output_type": "execute_result"
        }
      ]
    },
    {
      "cell_type": "code",
      "metadata": {
        "id": "GogBKyAwNdB3",
        "outputId": "93acd77f-1502-4c76-9a78-953ab68a5219"
      },
      "source": [
        "plt.hist(dibujo, bins=5)\n",
        "plt.show() "
      ],
      "id": "GogBKyAwNdB3",
      "execution_count": null,
      "outputs": [
        {
          "data": {
            "image/png": "[encoded data removed]",
            "text/plain": [
              "<Figure size 432x288 with 1 Axes>"
            ]
          },
          "metadata": {
            "needs_background": "light"
          },
          "output_type": "display_data"
        }
      ]
    },
    {
      "cell_type": "code",
      "metadata": {
        "id": "f9F0xXSsNdB4",
        "outputId": "06ccfd34-4fb3-4916-99c5-91af77131d79"
      },
      "source": [
        "suspensos=[]\n",
        "suspensos2=[]\n",
        "sobresalientes=[]\n",
        "for i,pos in enumerate(dibujo):\n",
        "    if pos <5:\n",
        "        if pos >= 4:\n",
        "            suspensos.append(pos)\n",
        "        else:\n",
        "            suspensos2.append(pos)\n",
        "    elif pos >8:\n",
        "        sobresalientes.append(pos)\n",
        "    \n",
        "        \n",
        "print(len(suspensos2))\n",
        "print(len(sobresalientes))\n",
        "print(len(suspensos2)/20+(len(suspensos)/20),\"% de alumnos con notas menores a 5\")\n",
        "print(len(suspensos2)/20,\"% de alumnos con notas menores a 4\")\n",
        "print(len(sobresalientes)/20,\"% de alumnos con notas mayores a 8\")\n",
        "\n"
      ],
      "id": "f9F0xXSsNdB4",
      "execution_count": null,
      "outputs": [
        {
          "name": "stdout",
          "output_type": "stream",
          "text": [
            "31\n",
            "448\n",
            "18.2 % de alumnos con notas menores a 5\n",
            "1.55 % de alumnos con notas menores a 4\n",
            "22.4 % de alumnos con notas mayores a 8\n"
          ]
        }
      ]
    },
    {
      "cell_type": "markdown",
      "metadata": {
        "id": "RZUHph58NdB5"
      },
      "source": [
        "### construyendo Biologia bach ciencias"
      ],
      "id": "RZUHph58NdB5"
    },
    {
      "cell_type": "code",
      "metadata": {
        "id": "X3Dv3A3gNdB5",
        "outputId": "a27a9d8c-1b0e-4afc-b480-0e75e819312c"
      },
      "source": [
        "import random\n",
        "sobres=[9.25,9,9.15,9.50,9.75,10,9.60,9.10,9.07,9.05]\n",
        "suspensos=[5.30,4.75,4.65,4.50,4.80,4.59,4.55,5.35,5]\n",
        "import matplotlib.pyplot as plt\n",
        "%matplotlib inline\n",
        "\n",
        "bio=[]\n",
        "for _ in range(2000):\n",
        "    nota=abs(round((random.gauss(6.65,1.65)),2))\n",
        "    if nota > 10.00:   \n",
        "        bio.append(random.choices(sobres,weights=[1,1,1,1,1,1,1,1,1,1],k=1)[0])\n",
        "    elif nota < 3.75:   \n",
        "        bio.append(random.choices(suspensos,weights=[1,1,1,1,1,1,1,1,1],k=1)[0])\n",
        "    else:\n",
        "        bio.append(nota)\n",
        "\n",
        "print(min(bio))\n",
        "max(bio)"
      ],
      "id": "X3Dv3A3gNdB5",
      "execution_count": null,
      "outputs": [
        {
          "name": "stdout",
          "output_type": "stream",
          "text": [
            "3.76\n"
          ]
        },
        {
          "data": {
            "text/plain": [
              "10"
            ]
          },
          "execution_count": 541,
          "metadata": {},
          "output_type": "execute_result"
        }
      ]
    },
    {
      "cell_type": "code",
      "metadata": {
        "id": "TVPsngXWNdB6",
        "outputId": "6bb6db5a-41fc-4c76-c85c-55fe5f2c69c7"
      },
      "source": [
        "def Average(lst):\n",
        "    return sum(lst) / len(lst)\n",
        "Average(bio)\n"
      ],
      "id": "TVPsngXWNdB6",
      "execution_count": null,
      "outputs": [
        {
          "data": {
            "text/plain": [
              "6.66974499999999"
            ]
          },
          "execution_count": 542,
          "metadata": {},
          "output_type": "execute_result"
        }
      ]
    },
    {
      "cell_type": "code",
      "metadata": {
        "id": "wIQlzUWeNdB7",
        "outputId": "538d94dc-9299-4bf1-dc44-05ead45a1bd7"
      },
      "source": [
        "plt.hist(bio, bins=5)\n",
        "plt.show() "
      ],
      "id": "wIQlzUWeNdB7",
      "execution_count": null,
      "outputs": [
        {
          "data": {
            "image/png": "[encoded data removed]",
            "text/plain": [
              "<Figure size 432x288 with 1 Axes>"
            ]
          },
          "metadata": {
            "needs_background": "light"
          },
          "output_type": "display_data"
        }
      ]
    },
    {
      "cell_type": "code",
      "metadata": {
        "id": "3mIYMpO0NdB7",
        "outputId": "04b7fbcf-410c-4128-eba7-433b21bd100c"
      },
      "source": [
        "suspensos=[]\n",
        "suspensos2=[]\n",
        "sobresalientes=[]\n",
        "for i,pos in enumerate(bio):\n",
        "    if pos <5:\n",
        "        if pos >= 4:\n",
        "            suspensos.append(pos)\n",
        "        else:\n",
        "            suspensos2.append(pos)\n",
        "    elif pos >8:\n",
        "        sobresalientes.append(pos)\n",
        "    \n",
        "        \n",
        "print(len(suspensos2))\n",
        "print(len(sobresalientes))\n",
        "print(len(suspensos2)/20+(len(suspensos)/20),\"% de alumnos con notas menores a 5\")\n",
        "print(len(suspensos2)/20,\"% de alumnos con notas menores a 4\")\n",
        "print(len(sobresalientes)/20,\"% de alumnos con notas mayores a 8\")\n",
        "\n"
      ],
      "id": "3mIYMpO0NdB7",
      "execution_count": null,
      "outputs": [
        {
          "name": "stdout",
          "output_type": "stream",
          "text": [
            "28\n",
            "394\n",
            "14.8 % de alumnos con notas menores a 5\n",
            "1.4 % de alumnos con notas menores a 4\n",
            "19.7 % de alumnos con notas mayores a 8\n"
          ]
        }
      ]
    },
    {
      "cell_type": "code",
      "metadata": {
        "id": "d705243a"
      },
      "source": [
        ""
      ],
      "id": "d705243a",
      "execution_count": null,
      "outputs": []
    },
    {
      "cell_type": "markdown",
      "metadata": {
        "id": "-oM_lowNNdB9"
      },
      "source": [
        "### construyendo quimica bach ciencias"
      ],
      "id": "-oM_lowNNdB9"
    },
    {
      "cell_type": "code",
      "metadata": {
        "id": "yqlNIxLwNdB9",
        "outputId": "728b28db-8b04-499f-d090-072cb7f0cbf2"
      },
      "source": [
        "import random\n",
        "sobres=[9.25,9,9.15,9.50,9.75,10,9.60,9.10,9.07,9.05]\n",
        "suspensos=[5.30,4.75,4.65,4.55,4.80,4.59,4.85,5.35,5]\n",
        "import matplotlib.pyplot as plt\n",
        "%matplotlib inline\n",
        "\n",
        "quimica=[]\n",
        "for _ in range(2000):\n",
        "    nota=abs(round((random.gauss(6.59,1.68)),2))\n",
        "    if nota > 10.00:   \n",
        "        quimica.append(random.choices(sobres,weights=[1,1,1,1,1,1,1,1,1,1],k=1)[0])\n",
        "    elif nota < 3.75:   \n",
        "        quimica.append(random.choices(suspensos,weights=[1,1,1,1,1,1,1,1,1],k=1)[0])\n",
        "    else:\n",
        "        quimica.append(nota)\n",
        "\n",
        "print(min(quimica))\n",
        "max(quimica)"
      ],
      "id": "yqlNIxLwNdB9",
      "execution_count": null,
      "outputs": [
        {
          "name": "stdout",
          "output_type": "stream",
          "text": [
            "3.76\n"
          ]
        },
        {
          "data": {
            "text/plain": [
              "10"
            ]
          },
          "execution_count": 556,
          "metadata": {},
          "output_type": "execute_result"
        }
      ]
    },
    {
      "cell_type": "code",
      "metadata": {
        "id": "R2GMWBY0NdB-",
        "outputId": "995187fd-6100-4aab-b242-5776364f42ce"
      },
      "source": [
        "def Average(lst):\n",
        "    return sum(lst) / len(lst)\n",
        "Average(quimica)\n"
      ],
      "id": "R2GMWBY0NdB-",
      "execution_count": null,
      "outputs": [
        {
          "data": {
            "text/plain": [
              "6.62011500000001"
            ]
          },
          "execution_count": 557,
          "metadata": {},
          "output_type": "execute_result"
        }
      ]
    },
    {
      "cell_type": "code",
      "metadata": {
        "id": "O8ulD8qONdB_",
        "outputId": "b94c934b-e226-46ac-e448-80e55bee154a"
      },
      "source": [
        "plt.hist(quimica, bins=5)\n",
        "plt.show() "
      ],
      "id": "O8ulD8qONdB_",
      "execution_count": null,
      "outputs": [
        {
          "data": {
            "image/png": "[encoded data removed]",
            "text/plain": [
              "<Figure size 432x288 with 1 Axes>"
            ]
          },
          "metadata": {
            "needs_background": "light"
          },
          "output_type": "display_data"
        }
      ]
    },
    {
      "cell_type": "code",
      "metadata": {
        "id": "3eWNR7B3NdCA",
        "outputId": "9c898f45-4b8d-482a-945e-326e38b0126a"
      },
      "source": [
        "suspensos=[]\n",
        "suspensos2=[]\n",
        "sobresalientes=[]\n",
        "for i,pos in enumerate(quimica):\n",
        "    if pos <5:\n",
        "        if pos >= 4:\n",
        "            suspensos.append(pos)\n",
        "        else:\n",
        "            suspensos2.append(pos)\n",
        "    elif pos >8:\n",
        "        sobresalientes.append(pos)\n",
        "    \n",
        "        \n",
        "print(len(suspensos2))\n",
        "print(len(sobresalientes))\n",
        "print(len(suspensos2)/20+(len(suspensos)/20),\"% de alumnos con notas menores a 5\")\n",
        "print(len(suspensos2)/20,\"% de alumnos con notas menores a 4\")\n",
        "print(len(sobresalientes)/20,\"% de alumnos con notas mayores a 8\")\n",
        "\n"
      ],
      "id": "3eWNR7B3NdCA",
      "execution_count": null,
      "outputs": [
        {
          "name": "stdout",
          "output_type": "stream",
          "text": [
            "29\n",
            "374\n",
            "16.0 % de alumnos con notas menores a 5\n",
            "1.45 % de alumnos con notas menores a 4\n",
            "18.7 % de alumnos con notas mayores a 8\n"
          ]
        }
      ]
    },
    {
      "cell_type": "code",
      "metadata": {
        "id": "73ab0aa2"
      },
      "source": [
        ""
      ],
      "id": "73ab0aa2",
      "execution_count": null,
      "outputs": []
    },
    {
      "cell_type": "markdown",
      "metadata": {
        "id": "D6eVTFMQNdCC"
      },
      "source": [
        "### construyendo Historia bach ciencias"
      ],
      "id": "D6eVTFMQNdCC"
    },
    {
      "cell_type": "code",
      "metadata": {
        "id": "qtk123TyNdCC",
        "outputId": "f149c04e-7fce-4644-9e8a-2ab25fed047e"
      },
      "source": [
        "import random\n",
        "sobres=[9.25,9,9.15,9.50,9.75,10,9.60,9.10,9.07,9.05]\n",
        "suspensos=[5.10,4.75,4.65,4.50,4.80,4.59,4.55,5.35,5]\n",
        "import matplotlib.pyplot as plt\n",
        "%matplotlib inline\n",
        "\n",
        "historia=[]\n",
        "for _ in range(2000):\n",
        "    nota=abs(round((random.gauss(6.51,1.66)),2))\n",
        "    if nota > 10.00:   \n",
        "        historia.append(random.choices(sobres,weights=[1,1,1,1,1,1,1,1,1,1],k=1)[0])\n",
        "    elif nota < 3.75:   \n",
        "        historia.append(random.choices(suspensos,weights=[1,1,1,1,1,1,1,1,1],k=1)[0])\n",
        "    else:\n",
        "        historia.append(nota)\n",
        "\n",
        "print(min(historia))\n",
        "max(historia)"
      ],
      "id": "qtk123TyNdCC",
      "execution_count": null,
      "outputs": [
        {
          "name": "stdout",
          "output_type": "stream",
          "text": [
            "3.75\n"
          ]
        },
        {
          "data": {
            "text/plain": [
              "10"
            ]
          },
          "execution_count": 560,
          "metadata": {},
          "output_type": "execute_result"
        }
      ]
    },
    {
      "cell_type": "code",
      "metadata": {
        "id": "HqB0KZ9kNdCD",
        "outputId": "79907c5f-34c0-4125-c7dc-696ef22e4ce3"
      },
      "source": [
        "def Average(lst):\n",
        "    return sum(lst) / len(lst)\n",
        "Average(historia)\n"
      ],
      "id": "HqB0KZ9kNdCD",
      "execution_count": null,
      "outputs": [
        {
          "data": {
            "text/plain": [
              "6.525795000000002"
            ]
          },
          "execution_count": 282,
          "metadata": {},
          "output_type": "execute_result"
        }
      ]
    },
    {
      "cell_type": "code",
      "metadata": {
        "id": "JD9L_N2kNdCE",
        "outputId": "62e641a8-9acc-456c-c452-330339836e0c"
      },
      "source": [
        "plt.hist(historia, bins=5)\n",
        "plt.show() "
      ],
      "id": "JD9L_N2kNdCE",
      "execution_count": null,
      "outputs": [
        {
          "data": {
            "image/png": "[encoded data removed]",
            "text/plain": [
              "<Figure size 432x288 with 1 Axes>"
            ]
          },
          "metadata": {
            "needs_background": "light"
          },
          "output_type": "display_data"
        }
      ]
    },
    {
      "cell_type": "code",
      "metadata": {
        "id": "jEJEVPJuNdCE",
        "outputId": "b6da10b4-e998-4201-b201-8dd72f5fbd1f"
      },
      "source": [
        "suspensos=[]\n",
        "suspensos2=[]\n",
        "sobresalientes=[]\n",
        "for i,pos in enumerate(historia):\n",
        "    if pos <5:\n",
        "        if pos >= 4:\n",
        "            suspensos.append(pos)\n",
        "        else:\n",
        "            suspensos2.append(pos)\n",
        "    elif pos >8:\n",
        "        sobresalientes.append(pos)\n",
        "    \n",
        "        \n",
        "print(len(suspensos2))\n",
        "print(len(sobresalientes))\n",
        "print(len(suspensos2)/20+(len(suspensos)/20),\"% de alumnos con notas menores a 5\")\n",
        "print(len(suspensos2)/20,\"% de alumnos con notas menores a 4\")\n",
        "print(len(sobresalientes)/20,\"% de alumnos con notas mayores a 8\")\n",
        "\n"
      ],
      "id": "jEJEVPJuNdCE",
      "execution_count": null,
      "outputs": [
        {
          "name": "stdout",
          "output_type": "stream",
          "text": [
            "28\n",
            "342\n",
            "17.2 % de alumnos con notas menores a 5\n",
            "1.4 % de alumnos con notas menores a 4\n",
            "17.1 % de alumnos con notas mayores a 8\n"
          ]
        }
      ]
    },
    {
      "cell_type": "code",
      "metadata": {
        "id": "7b697a24"
      },
      "source": [
        ""
      ],
      "id": "7b697a24",
      "execution_count": null,
      "outputs": []
    },
    {
      "cell_type": "code",
      "metadata": {
        "scrolled": true,
        "id": "23cf52ee",
        "outputId": "7d09f373-4a3e-469e-c12f-7945489281b9"
      },
      "source": [
        "\n",
        "df2[\"Lengua\"]=lengua\n",
        "df2[\"Mates\"]=mates\n",
        "df2[\"Ingles\"]=ingles\n",
        "df2[\"Biologia\"]=bio\n",
        "df2[\"Quimica\"]=quimica\n",
        "df2[\"Historia\"]=historia\n",
        "df2"
      ],
      "id": "23cf52ee",
      "execution_count": null,
      "outputs": [
        {
          "data": {
            "text/html": [
              "<div>\n",
              "<style scoped>\n",
              "    .dataframe tbody tr th:only-of-type {\n",
              "        vertical-align: middle;\n",
              "    }\n",
              "\n",
              "    .dataframe tbody tr th {\n",
              "        vertical-align: top;\n",
              "    }\n",
              "\n",
              "    .dataframe thead th {\n",
              "        text-align: right;\n",
              "    }\n",
              "</style>\n",
              "<table border=\"1\" class=\"dataframe\">\n",
              "  <thead>\n",
              "    <tr style=\"text-align: right;\">\n",
              "      <th></th>\n",
              "      <th>año</th>\n",
              "      <th>mes</th>\n",
              "      <th>dia</th>\n",
              "      <th>hora</th>\n",
              "      <th>min</th>\n",
              "      <th>dateInt</th>\n",
              "      <th>Date_start_horario</th>\n",
              "      <th>Date_start_Examenes</th>\n",
              "      <th>days_left</th>\n",
              "      <th>Lengua</th>\n",
              "      <th>Mates</th>\n",
              "      <th>Ingles</th>\n",
              "      <th>Biologia</th>\n",
              "      <th>Quimica</th>\n",
              "      <th>Historia</th>\n",
              "    </tr>\n",
              "  </thead>\n",
              "  <tbody>\n",
              "    <tr>\n",
              "      <th>0</th>\n",
              "      <td>2021</td>\n",
              "      <td>5</td>\n",
              "      <td>20</td>\n",
              "      <td>9</td>\n",
              "      <td>0</td>\n",
              "      <td>20210520</td>\n",
              "      <td>2021-05-20 09:00:00</td>\n",
              "      <td>2021-06-07</td>\n",
              "      <td>17</td>\n",
              "      <td>7.65</td>\n",
              "      <td>4.91</td>\n",
              "      <td>4.08</td>\n",
              "      <td>6.83</td>\n",
              "      <td>6.18</td>\n",
              "      <td>6.68</td>\n",
              "    </tr>\n",
              "    <tr>\n",
              "      <th>1</th>\n",
              "      <td>2021</td>\n",
              "      <td>5</td>\n",
              "      <td>21</td>\n",
              "      <td>10</td>\n",
              "      <td>30</td>\n",
              "      <td>20210521</td>\n",
              "      <td>2021-05-21 10:30:00</td>\n",
              "      <td>2021-06-09</td>\n",
              "      <td>18</td>\n",
              "      <td>4.13</td>\n",
              "      <td>8.17</td>\n",
              "      <td>7.60</td>\n",
              "      <td>5.86</td>\n",
              "      <td>4.36</td>\n",
              "      <td>7.34</td>\n",
              "    </tr>\n",
              "    <tr>\n",
              "      <th>2</th>\n",
              "      <td>2021</td>\n",
              "      <td>5</td>\n",
              "      <td>15</td>\n",
              "      <td>9</td>\n",
              "      <td>45</td>\n",
              "      <td>20210515</td>\n",
              "      <td>2021-05-15 09:45:00</td>\n",
              "      <td>2021-06-11</td>\n",
              "      <td>26</td>\n",
              "      <td>5.68</td>\n",
              "      <td>9.22</td>\n",
              "      <td>6.04</td>\n",
              "      <td>5.28</td>\n",
              "      <td>5.11</td>\n",
              "      <td>6.71</td>\n",
              "    </tr>\n",
              "    <tr>\n",
              "      <th>3</th>\n",
              "      <td>2021</td>\n",
              "      <td>5</td>\n",
              "      <td>19</td>\n",
              "      <td>10</td>\n",
              "      <td>30</td>\n",
              "      <td>20210519</td>\n",
              "      <td>2021-05-19 10:30:00</td>\n",
              "      <td>2021-06-05</td>\n",
              "      <td>16</td>\n",
              "      <td>7.17</td>\n",
              "      <td>6.50</td>\n",
              "      <td>5.33</td>\n",
              "      <td>4.83</td>\n",
              "      <td>5.90</td>\n",
              "      <td>4.92</td>\n",
              "    </tr>\n",
              "    <tr>\n",
              "      <th>4</th>\n",
              "      <td>2021</td>\n",
              "      <td>5</td>\n",
              "      <td>14</td>\n",
              "      <td>9</td>\n",
              "      <td>0</td>\n",
              "      <td>20210514</td>\n",
              "      <td>2021-05-14 09:00:00</td>\n",
              "      <td>2021-06-05</td>\n",
              "      <td>21</td>\n",
              "      <td>7.26</td>\n",
              "      <td>7.28</td>\n",
              "      <td>5.82</td>\n",
              "      <td>6.25</td>\n",
              "      <td>7.21</td>\n",
              "      <td>7.19</td>\n",
              "    </tr>\n",
              "    <tr>\n",
              "      <th>...</th>\n",
              "      <td>...</td>\n",
              "      <td>...</td>\n",
              "      <td>...</td>\n",
              "      <td>...</td>\n",
              "      <td>...</td>\n",
              "      <td>...</td>\n",
              "      <td>...</td>\n",
              "      <td>...</td>\n",
              "      <td>...</td>\n",
              "      <td>...</td>\n",
              "      <td>...</td>\n",
              "      <td>...</td>\n",
              "      <td>...</td>\n",
              "      <td>...</td>\n",
              "      <td>...</td>\n",
              "    </tr>\n",
              "    <tr>\n",
              "      <th>1995</th>\n",
              "      <td>2021</td>\n",
              "      <td>5</td>\n",
              "      <td>17</td>\n",
              "      <td>10</td>\n",
              "      <td>30</td>\n",
              "      <td>20210517</td>\n",
              "      <td>2021-05-17 10:30:00</td>\n",
              "      <td>2021-06-04</td>\n",
              "      <td>17</td>\n",
              "      <td>5.15</td>\n",
              "      <td>6.90</td>\n",
              "      <td>4.34</td>\n",
              "      <td>7.25</td>\n",
              "      <td>6.90</td>\n",
              "      <td>4.95</td>\n",
              "    </tr>\n",
              "    <tr>\n",
              "      <th>1996</th>\n",
              "      <td>2021</td>\n",
              "      <td>5</td>\n",
              "      <td>17</td>\n",
              "      <td>10</td>\n",
              "      <td>30</td>\n",
              "      <td>20210517</td>\n",
              "      <td>2021-05-17 10:30:00</td>\n",
              "      <td>2021-06-01</td>\n",
              "      <td>14</td>\n",
              "      <td>4.35</td>\n",
              "      <td>7.24</td>\n",
              "      <td>4.25</td>\n",
              "      <td>4.06</td>\n",
              "      <td>7.76</td>\n",
              "      <td>5.06</td>\n",
              "    </tr>\n",
              "    <tr>\n",
              "      <th>1997</th>\n",
              "      <td>2021</td>\n",
              "      <td>5</td>\n",
              "      <td>14</td>\n",
              "      <td>10</td>\n",
              "      <td>30</td>\n",
              "      <td>20210514</td>\n",
              "      <td>2021-05-14 10:30:00</td>\n",
              "      <td>2021-06-07</td>\n",
              "      <td>23</td>\n",
              "      <td>8.38</td>\n",
              "      <td>5.78</td>\n",
              "      <td>6.75</td>\n",
              "      <td>5.97</td>\n",
              "      <td>6.39</td>\n",
              "      <td>9.24</td>\n",
              "    </tr>\n",
              "    <tr>\n",
              "      <th>1998</th>\n",
              "      <td>2021</td>\n",
              "      <td>5</td>\n",
              "      <td>15</td>\n",
              "      <td>11</td>\n",
              "      <td>30</td>\n",
              "      <td>20210515</td>\n",
              "      <td>2021-05-15 11:30:00</td>\n",
              "      <td>2021-06-09</td>\n",
              "      <td>24</td>\n",
              "      <td>4.44</td>\n",
              "      <td>4.30</td>\n",
              "      <td>5.89</td>\n",
              "      <td>6.93</td>\n",
              "      <td>6.59</td>\n",
              "      <td>7.78</td>\n",
              "    </tr>\n",
              "    <tr>\n",
              "      <th>1999</th>\n",
              "      <td>2021</td>\n",
              "      <td>5</td>\n",
              "      <td>13</td>\n",
              "      <td>11</td>\n",
              "      <td>0</td>\n",
              "      <td>20210513</td>\n",
              "      <td>2021-05-13 11:00:00</td>\n",
              "      <td>2021-06-10</td>\n",
              "      <td>27</td>\n",
              "      <td>7.29</td>\n",
              "      <td>6.76</td>\n",
              "      <td>5.94</td>\n",
              "      <td>5.39</td>\n",
              "      <td>5.47</td>\n",
              "      <td>4.50</td>\n",
              "    </tr>\n",
              "  </tbody>\n",
              "</table>\n",
              "<p>2000 rows × 15 columns</p>\n",
              "</div>"
            ],
            "text/plain": [
              "       año  mes  dia  hora  min   dateInt  Date_start_horario  \\\n",
              "0     2021    5   20     9    0  20210520 2021-05-20 09:00:00   \n",
              "1     2021    5   21    10   30  20210521 2021-05-21 10:30:00   \n",
              "2     2021    5   15     9   45  20210515 2021-05-15 09:45:00   \n",
              "3     2021    5   19    10   30  20210519 2021-05-19 10:30:00   \n",
              "4     2021    5   14     9    0  20210514 2021-05-14 09:00:00   \n",
              "...    ...  ...  ...   ...  ...       ...                 ...   \n",
              "1995  2021    5   17    10   30  20210517 2021-05-17 10:30:00   \n",
              "1996  2021    5   17    10   30  20210517 2021-05-17 10:30:00   \n",
              "1997  2021    5   14    10   30  20210514 2021-05-14 10:30:00   \n",
              "1998  2021    5   15    11   30  20210515 2021-05-15 11:30:00   \n",
              "1999  2021    5   13    11    0  20210513 2021-05-13 11:00:00   \n",
              "\n",
              "     Date_start_Examenes  days_left  Lengua  Mates  Ingles  Biologia  Quimica  \\\n",
              "0             2021-06-07         17    7.65   4.91    4.08      6.83     6.18   \n",
              "1             2021-06-09         18    4.13   8.17    7.60      5.86     4.36   \n",
              "2             2021-06-11         26    5.68   9.22    6.04      5.28     5.11   \n",
              "3             2021-06-05         16    7.17   6.50    5.33      4.83     5.90   \n",
              "4             2021-06-05         21    7.26   7.28    5.82      6.25     7.21   \n",
              "...                  ...        ...     ...    ...     ...       ...      ...   \n",
              "1995          2021-06-04         17    5.15   6.90    4.34      7.25     6.90   \n",
              "1996          2021-06-01         14    4.35   7.24    4.25      4.06     7.76   \n",
              "1997          2021-06-07         23    8.38   5.78    6.75      5.97     6.39   \n",
              "1998          2021-06-09         24    4.44   4.30    5.89      6.93     6.59   \n",
              "1999          2021-06-10         27    7.29   6.76    5.94      5.39     5.47   \n",
              "\n",
              "      Historia  \n",
              "0         6.68  \n",
              "1         7.34  \n",
              "2         6.71  \n",
              "3         4.92  \n",
              "4         7.19  \n",
              "...        ...  \n",
              "1995      4.95  \n",
              "1996      5.06  \n",
              "1997      9.24  \n",
              "1998      7.78  \n",
              "1999      4.50  \n",
              "\n",
              "[2000 rows x 15 columns]"
            ]
          },
          "execution_count": 606,
          "metadata": {},
          "output_type": "execute_result"
        }
      ]
    },
    {
      "cell_type": "code",
      "metadata": {
        "id": "7c2c8746",
        "outputId": "ce05bf5b-7167-4267-bdcd-c175dc1c7aa4"
      },
      "source": [
        "df2[\"days_left\"].min()"
      ],
      "id": "7c2c8746",
      "execution_count": null,
      "outputs": [
        {
          "data": {
            "text/plain": [
              "10"
            ]
          },
          "execution_count": 607,
          "metadata": {},
          "output_type": "execute_result"
        }
      ]
    },
    {
      "cell_type": "code",
      "metadata": {
        "id": "3b9bca0e"
      },
      "source": [
        "medias=[]\n",
        "for i,pos in enumerate(df2.values.tolist()):\n",
        "    media=round((pos[14]+pos[13]+pos[12]+pos[11]+pos[10]+pos[9])/6,2)\n",
        "    medias.append(media)\n",
        "df2[\"media_troncales\"]=medias\n"
      ],
      "id": "3b9bca0e",
      "execution_count": null,
      "outputs": []
    },
    {
      "cell_type": "code",
      "metadata": {
        "scrolled": true,
        "id": "ca08574b",
        "outputId": "bc3c174f-2cca-4ff7-c71d-2d13dc99f3cb"
      },
      "source": [
        "df2.sort_values(by=[\"media_troncales\"],ascending=False)"
      ],
      "id": "ca08574b",
      "execution_count": null,
      "outputs": [
        {
          "data": {
            "text/html": [
              "<div>\n",
              "<style scoped>\n",
              "    .dataframe tbody tr th:only-of-type {\n",
              "        vertical-align: middle;\n",
              "    }\n",
              "\n",
              "    .dataframe tbody tr th {\n",
              "        vertical-align: top;\n",
              "    }\n",
              "\n",
              "    .dataframe thead th {\n",
              "        text-align: right;\n",
              "    }\n",
              "</style>\n",
              "<table border=\"1\" class=\"dataframe\">\n",
              "  <thead>\n",
              "    <tr style=\"text-align: right;\">\n",
              "      <th></th>\n",
              "      <th>año</th>\n",
              "      <th>mes</th>\n",
              "      <th>dia</th>\n",
              "      <th>hora</th>\n",
              "      <th>min</th>\n",
              "      <th>dateInt</th>\n",
              "      <th>Date_start_horario</th>\n",
              "      <th>Date_start_Examenes</th>\n",
              "      <th>days_left</th>\n",
              "      <th>Lengua</th>\n",
              "      <th>Mates</th>\n",
              "      <th>Ingles</th>\n",
              "      <th>Biologia</th>\n",
              "      <th>Quimica</th>\n",
              "      <th>Historia</th>\n",
              "      <th>media_troncales</th>\n",
              "    </tr>\n",
              "  </thead>\n",
              "  <tbody>\n",
              "    <tr>\n",
              "      <th>1404</th>\n",
              "      <td>2021</td>\n",
              "      <td>5</td>\n",
              "      <td>19</td>\n",
              "      <td>8</td>\n",
              "      <td>30</td>\n",
              "      <td>20210519</td>\n",
              "      <td>2021-05-19 08:30:00</td>\n",
              "      <td>2021-06-07</td>\n",
              "      <td>18</td>\n",
              "      <td>8.60</td>\n",
              "      <td>9.82</td>\n",
              "      <td>9.68</td>\n",
              "      <td>6.46</td>\n",
              "      <td>8.56</td>\n",
              "      <td>9.22</td>\n",
              "      <td>8.72</td>\n",
              "    </tr>\n",
              "    <tr>\n",
              "      <th>107</th>\n",
              "      <td>2021</td>\n",
              "      <td>5</td>\n",
              "      <td>16</td>\n",
              "      <td>8</td>\n",
              "      <td>30</td>\n",
              "      <td>20210516</td>\n",
              "      <td>2021-05-16 08:30:00</td>\n",
              "      <td>2021-06-07</td>\n",
              "      <td>21</td>\n",
              "      <td>7.95</td>\n",
              "      <td>6.19</td>\n",
              "      <td>9.65</td>\n",
              "      <td>9.07</td>\n",
              "      <td>8.94</td>\n",
              "      <td>8.59</td>\n",
              "      <td>8.40</td>\n",
              "    </tr>\n",
              "    <tr>\n",
              "      <th>391</th>\n",
              "      <td>2021</td>\n",
              "      <td>5</td>\n",
              "      <td>18</td>\n",
              "      <td>10</td>\n",
              "      <td>0</td>\n",
              "      <td>20210518</td>\n",
              "      <td>2021-05-18 10:00:00</td>\n",
              "      <td>2021-06-03</td>\n",
              "      <td>15</td>\n",
              "      <td>7.37</td>\n",
              "      <td>7.60</td>\n",
              "      <td>9.54</td>\n",
              "      <td>10.00</td>\n",
              "      <td>9.31</td>\n",
              "      <td>6.43</td>\n",
              "      <td>8.38</td>\n",
              "    </tr>\n",
              "    <tr>\n",
              "      <th>1962</th>\n",
              "      <td>2021</td>\n",
              "      <td>5</td>\n",
              "      <td>15</td>\n",
              "      <td>11</td>\n",
              "      <td>30</td>\n",
              "      <td>20210515</td>\n",
              "      <td>2021-05-15 11:30:00</td>\n",
              "      <td>2021-06-08</td>\n",
              "      <td>23</td>\n",
              "      <td>6.41</td>\n",
              "      <td>10.00</td>\n",
              "      <td>9.12</td>\n",
              "      <td>7.11</td>\n",
              "      <td>8.26</td>\n",
              "      <td>9.37</td>\n",
              "      <td>8.38</td>\n",
              "    </tr>\n",
              "    <tr>\n",
              "      <th>986</th>\n",
              "      <td>2021</td>\n",
              "      <td>5</td>\n",
              "      <td>15</td>\n",
              "      <td>11</td>\n",
              "      <td>0</td>\n",
              "      <td>20210515</td>\n",
              "      <td>2021-05-15 11:00:00</td>\n",
              "      <td>2021-06-08</td>\n",
              "      <td>23</td>\n",
              "      <td>9.75</td>\n",
              "      <td>8.24</td>\n",
              "      <td>7.97</td>\n",
              "      <td>9.07</td>\n",
              "      <td>7.75</td>\n",
              "      <td>7.26</td>\n",
              "      <td>8.34</td>\n",
              "    </tr>\n",
              "    <tr>\n",
              "      <th>...</th>\n",
              "      <td>...</td>\n",
              "      <td>...</td>\n",
              "      <td>...</td>\n",
              "      <td>...</td>\n",
              "      <td>...</td>\n",
              "      <td>...</td>\n",
              "      <td>...</td>\n",
              "      <td>...</td>\n",
              "      <td>...</td>\n",
              "      <td>...</td>\n",
              "      <td>...</td>\n",
              "      <td>...</td>\n",
              "      <td>...</td>\n",
              "      <td>...</td>\n",
              "      <td>...</td>\n",
              "      <td>...</td>\n",
              "    </tr>\n",
              "    <tr>\n",
              "      <th>447</th>\n",
              "      <td>2021</td>\n",
              "      <td>5</td>\n",
              "      <td>19</td>\n",
              "      <td>8</td>\n",
              "      <td>0</td>\n",
              "      <td>20210519</td>\n",
              "      <td>2021-05-19 08:00:00</td>\n",
              "      <td>2021-06-05</td>\n",
              "      <td>16</td>\n",
              "      <td>4.95</td>\n",
              "      <td>5.05</td>\n",
              "      <td>6.03</td>\n",
              "      <td>5.03</td>\n",
              "      <td>4.21</td>\n",
              "      <td>5.88</td>\n",
              "      <td>5.19</td>\n",
              "    </tr>\n",
              "    <tr>\n",
              "      <th>945</th>\n",
              "      <td>2021</td>\n",
              "      <td>5</td>\n",
              "      <td>18</td>\n",
              "      <td>11</td>\n",
              "      <td>30</td>\n",
              "      <td>20210518</td>\n",
              "      <td>2021-05-18 11:30:00</td>\n",
              "      <td>2021-06-08</td>\n",
              "      <td>20</td>\n",
              "      <td>4.86</td>\n",
              "      <td>4.30</td>\n",
              "      <td>4.94</td>\n",
              "      <td>5.17</td>\n",
              "      <td>6.68</td>\n",
              "      <td>5.07</td>\n",
              "      <td>5.17</td>\n",
              "    </tr>\n",
              "    <tr>\n",
              "      <th>1246</th>\n",
              "      <td>2021</td>\n",
              "      <td>5</td>\n",
              "      <td>14</td>\n",
              "      <td>12</td>\n",
              "      <td>30</td>\n",
              "      <td>20210514</td>\n",
              "      <td>2021-05-14 12:30:00</td>\n",
              "      <td>2021-06-07</td>\n",
              "      <td>23</td>\n",
              "      <td>5.15</td>\n",
              "      <td>4.70</td>\n",
              "      <td>5.26</td>\n",
              "      <td>4.22</td>\n",
              "      <td>4.85</td>\n",
              "      <td>6.85</td>\n",
              "      <td>5.17</td>\n",
              "    </tr>\n",
              "    <tr>\n",
              "      <th>578</th>\n",
              "      <td>2021</td>\n",
              "      <td>5</td>\n",
              "      <td>17</td>\n",
              "      <td>13</td>\n",
              "      <td>0</td>\n",
              "      <td>20210517</td>\n",
              "      <td>2021-05-17 13:00:00</td>\n",
              "      <td>2021-06-12</td>\n",
              "      <td>25</td>\n",
              "      <td>4.43</td>\n",
              "      <td>4.75</td>\n",
              "      <td>5.06</td>\n",
              "      <td>6.24</td>\n",
              "      <td>5.41</td>\n",
              "      <td>4.77</td>\n",
              "      <td>5.11</td>\n",
              "    </tr>\n",
              "    <tr>\n",
              "      <th>1481</th>\n",
              "      <td>2021</td>\n",
              "      <td>5</td>\n",
              "      <td>16</td>\n",
              "      <td>11</td>\n",
              "      <td>30</td>\n",
              "      <td>20210516</td>\n",
              "      <td>2021-05-16 11:30:00</td>\n",
              "      <td>2021-06-04</td>\n",
              "      <td>18</td>\n",
              "      <td>5.09</td>\n",
              "      <td>6.00</td>\n",
              "      <td>5.18</td>\n",
              "      <td>4.06</td>\n",
              "      <td>4.86</td>\n",
              "      <td>4.80</td>\n",
              "      <td>5.00</td>\n",
              "    </tr>\n",
              "  </tbody>\n",
              "</table>\n",
              "<p>2000 rows × 16 columns</p>\n",
              "</div>"
            ],
            "text/plain": [
              "       año  mes  dia  hora  min   dateInt  Date_start_horario  \\\n",
              "1404  2021    5   19     8   30  20210519 2021-05-19 08:30:00   \n",
              "107   2021    5   16     8   30  20210516 2021-05-16 08:30:00   \n",
              "391   2021    5   18    10    0  20210518 2021-05-18 10:00:00   \n",
              "1962  2021    5   15    11   30  20210515 2021-05-15 11:30:00   \n",
              "986   2021    5   15    11    0  20210515 2021-05-15 11:00:00   \n",
              "...    ...  ...  ...   ...  ...       ...                 ...   \n",
              "447   2021    5   19     8    0  20210519 2021-05-19 08:00:00   \n",
              "945   2021    5   18    11   30  20210518 2021-05-18 11:30:00   \n",
              "1246  2021    5   14    12   30  20210514 2021-05-14 12:30:00   \n",
              "578   2021    5   17    13    0  20210517 2021-05-17 13:00:00   \n",
              "1481  2021    5   16    11   30  20210516 2021-05-16 11:30:00   \n",
              "\n",
              "     Date_start_Examenes  days_left  Lengua  Mates  Ingles  Biologia  Quimica  \\\n",
              "1404          2021-06-07         18    8.60   9.82    9.68      6.46     8.56   \n",
              "107           2021-06-07         21    7.95   6.19    9.65      9.07     8.94   \n",
              "391           2021-06-03         15    7.37   7.60    9.54     10.00     9.31   \n",
              "1962          2021-06-08         23    6.41  10.00    9.12      7.11     8.26   \n",
              "986           2021-06-08         23    9.75   8.24    7.97      9.07     7.75   \n",
              "...                  ...        ...     ...    ...     ...       ...      ...   \n",
              "447           2021-06-05         16    4.95   5.05    6.03      5.03     4.21   \n",
              "945           2021-06-08         20    4.86   4.30    4.94      5.17     6.68   \n",
              "1246          2021-06-07         23    5.15   4.70    5.26      4.22     4.85   \n",
              "578           2021-06-12         25    4.43   4.75    5.06      6.24     5.41   \n",
              "1481          2021-06-04         18    5.09   6.00    5.18      4.06     4.86   \n",
              "\n",
              "      Historia  media_troncales  \n",
              "1404      9.22             8.72  \n",
              "107       8.59             8.40  \n",
              "391       6.43             8.38  \n",
              "1962      9.37             8.38  \n",
              "986       7.26             8.34  \n",
              "...        ...              ...  \n",
              "447       5.88             5.19  \n",
              "945       5.07             5.17  \n",
              "1246      6.85             5.17  \n",
              "578       4.77             5.11  \n",
              "1481      4.80             5.00  \n",
              "\n",
              "[2000 rows x 16 columns]"
            ]
          },
          "execution_count": 647,
          "metadata": {},
          "output_type": "execute_result"
        }
      ]
    },
    {
      "cell_type": "code",
      "metadata": {
        "scrolled": true,
        "id": "28186fa5",
        "outputId": "f1630038-298d-4800-c9d3-5ea85dbd190b"
      },
      "source": [
        "for i,pos2 in enumerate(df1[[\"Lengua\",\"Mates\",\"Ingles\",\"Fisica\",\"Dibujo\",\"Historia\"]]):#resumen bach tecno\n",
        "    suspensos=[]\n",
        "    suspensos2=[]\n",
        "    sobresalientes=[]\n",
        "    for i,pos in enumerate(df1[pos2].values.tolist()):\n",
        "        if pos <5:\n",
        "            if pos >= 4:\n",
        "                suspensos.append(pos)\n",
        "            else:\n",
        "                suspensos2.append(pos)\n",
        "        elif pos >8:\n",
        "            sobresalientes.append(pos)\n",
        "\n",
        "    print(round(Average(df1[pos2].values.tolist()),2),\"media de \"+pos2)\n",
        "    print(len(suspensos2),\"alumnos con menos de un 4\")\n",
        "    print(len(suspensos2)/20+(len(suspensos)/20),\"% de alumnos con notas menores a 5\")\n",
        "    print(len(suspensos2)/20,\"% de alumnos con notas menores a 4\")\n",
        "    print(len(sobresalientes)/20,\"% de alumnos con notas mayores a 8\")\n",
        "    print()"
      ],
      "id": "28186fa5",
      "execution_count": null,
      "outputs": [
        {
          "name": "stdout",
          "output_type": "stream",
          "text": [
            "6.5 media de Lengua\n",
            "27 alumnos con menos de un 4\n",
            "17.55 % de alumnos con notas menores a 5\n",
            "1.35 % de alumnos con notas menores a 4\n",
            "17.45 % de alumnos con notas mayores a 8\n",
            "\n",
            "6.57 media de Mates\n",
            "31 alumnos con menos de un 4\n",
            "17.25 % de alumnos con notas menores a 5\n",
            "1.55 % de alumnos con notas menores a 4\n",
            "19.5 % de alumnos con notas mayores a 8\n",
            "\n",
            "6.94 media de Ingles\n",
            "9 alumnos con menos de un 4\n",
            "9.049999999999999 % de alumnos con notas menores a 5\n",
            "0.45 % de alumnos con notas menores a 4\n",
            "23.6 % de alumnos con notas mayores a 8\n",
            "\n",
            "6.36 media de Fisica\n",
            "32 alumnos con menos de un 4\n",
            "18.650000000000002 % de alumnos con notas menores a 5\n",
            "1.6 % de alumnos con notas menores a 4\n",
            "14.5 % de alumnos con notas mayores a 8\n",
            "\n",
            "6.64 media de Dibujo\n",
            "22 alumnos con menos de un 4\n",
            "15.35 % de alumnos con notas menores a 5\n",
            "1.1 % de alumnos con notas menores a 4\n",
            "22.4 % de alumnos con notas mayores a 8\n",
            "\n",
            "6.54 media de Historia\n",
            "22 alumnos con menos de un 4\n",
            "15.15 % de alumnos con notas menores a 5\n",
            "1.1 % de alumnos con notas menores a 4\n",
            "17.1 % de alumnos con notas mayores a 8\n",
            "\n"
          ]
        }
      ]
    },
    {
      "cell_type": "code",
      "metadata": {
        "scrolled": true,
        "id": "7f1f1734",
        "outputId": "b7830d8e-2e73-4fe5-de45-cfd36c8ba686"
      },
      "source": [
        "for i,pos2 in enumerate(df2[[\"Lengua\",\"Mates\",\"Ingles\",\"Biologia\",\"Quimica\",\"Historia\"]]):#resumen bach sanit\n",
        "    suspensos=[]\n",
        "    suspensos2=[]\n",
        "    sobresalientes=[]\n",
        "    for i,pos in enumerate(df2[pos2].values.tolist()):\n",
        "        if pos <5:\n",
        "            if pos >= 4:\n",
        "                suspensos.append(pos)\n",
        "            else:\n",
        "                suspensos2.append(pos)\n",
        "        elif pos >8:\n",
        "            sobresalientes.append(pos)\n",
        "\n",
        "    print(round(Average(df2[pos2].values.tolist()),2),\"media de \"+pos2)\n",
        "    print(len(suspensos2),\"alumnos con menos de un 4\")\n",
        "    print(len(suspensos2)/20+(len(suspensos)/20),\"% de alumnos con notas menores a 5\")\n",
        "    print(len(suspensos2)/20,\"% de alumnos con notas menores a 4\")\n",
        "    print(len(sobresalientes)/20,\"% de alumnos con notas mayores a 8\")\n",
        "    print()"
      ],
      "id": "7f1f1734",
      "execution_count": null,
      "outputs": [
        {
          "name": "stdout",
          "output_type": "stream",
          "text": [
            "6.56 media de Lengua\n",
            "21 alumnos con menos de un 4\n",
            "16.15 % de alumnos con notas menores a 5\n",
            "1.05 % de alumnos con notas menores a 4\n",
            "18.2 % de alumnos con notas mayores a 8\n",
            "\n",
            "6.49 media de Mates\n",
            "28 alumnos con menos de un 4\n",
            "17.599999999999998 % de alumnos con notas menores a 5\n",
            "1.4 % de alumnos con notas menores a 4\n",
            "16.55 % de alumnos con notas mayores a 8\n",
            "\n",
            "6.94 media de Ingles\n",
            "17 alumnos con menos de un 4\n",
            "10.25 % de alumnos con notas menores a 5\n",
            "0.85 % de alumnos con notas menores a 4\n",
            "25.6 % de alumnos con notas mayores a 8\n",
            "\n",
            "6.69 media de Biologia\n",
            "23 alumnos con menos de un 4\n",
            "12.55 % de alumnos con notas menores a 5\n",
            "1.15 % de alumnos con notas menores a 4\n",
            "19.7 % de alumnos con notas mayores a 8\n",
            "\n",
            "6.64 media de Quimica\n",
            "21 alumnos con menos de un 4\n",
            "13.600000000000001 % de alumnos con notas menores a 5\n",
            "1.05 % de alumnos con notas menores a 4\n",
            "18.7 % de alumnos con notas mayores a 8\n",
            "\n",
            "6.6 media de Historia\n",
            "24 alumnos con menos de un 4\n",
            "15.299999999999999 % de alumnos con notas menores a 5\n",
            "1.2 % de alumnos con notas menores a 4\n",
            "18.5 % de alumnos con notas mayores a 8\n",
            "\n"
          ]
        }
      ]
    },
    {
      "cell_type": "code",
      "metadata": {
        "id": "e45b6754"
      },
      "source": [
        ""
      ],
      "id": "e45b6754",
      "execution_count": null,
      "outputs": []
    },
    {
      "cell_type": "code",
      "metadata": {
        "id": "a01fa4f6"
      },
      "source": [
        "#### hacer esto despues de regular suspensos"
      ],
      "id": "a01fa4f6",
      "execution_count": null,
      "outputs": []
    },
    {
      "cell_type": "code",
      "metadata": {
        "id": "8f51bb1f",
        "outputId": "c0df9ed1-b94d-42c7-f6d3-b7a0578cfe3d"
      },
      "source": [
        "df_BACH_CIENCIAS=pd.concat([df1,df2])\n",
        "df_BACH_CIENCIAS.sort_values(by=[\"media_troncales\"],ascending=False)"
      ],
      "id": "8f51bb1f",
      "execution_count": null,
      "outputs": [
        {
          "data": {
            "text/html": [
              "<div>\n",
              "<style scoped>\n",
              "    .dataframe tbody tr th:only-of-type {\n",
              "        vertical-align: middle;\n",
              "    }\n",
              "\n",
              "    .dataframe tbody tr th {\n",
              "        vertical-align: top;\n",
              "    }\n",
              "\n",
              "    .dataframe thead th {\n",
              "        text-align: right;\n",
              "    }\n",
              "</style>\n",
              "<table border=\"1\" class=\"dataframe\">\n",
              "  <thead>\n",
              "    <tr style=\"text-align: right;\">\n",
              "      <th></th>\n",
              "      <th>año</th>\n",
              "      <th>mes</th>\n",
              "      <th>dia</th>\n",
              "      <th>hora</th>\n",
              "      <th>min</th>\n",
              "      <th>dateInt</th>\n",
              "      <th>Date_start_horario</th>\n",
              "      <th>Date_start_Examenes</th>\n",
              "      <th>days_left</th>\n",
              "      <th>Lengua</th>\n",
              "      <th>Mates</th>\n",
              "      <th>Ingles</th>\n",
              "      <th>Dibujo</th>\n",
              "      <th>Fisica</th>\n",
              "      <th>Historia</th>\n",
              "      <th>media_troncales</th>\n",
              "      <th>Biologia</th>\n",
              "      <th>Quimica</th>\n",
              "    </tr>\n",
              "  </thead>\n",
              "  <tbody>\n",
              "    <tr>\n",
              "      <th>1404</th>\n",
              "      <td>2021</td>\n",
              "      <td>5</td>\n",
              "      <td>19</td>\n",
              "      <td>8</td>\n",
              "      <td>30</td>\n",
              "      <td>20210519</td>\n",
              "      <td>2021-05-19 08:30:00</td>\n",
              "      <td>2021-06-07 00:00:00</td>\n",
              "      <td>18</td>\n",
              "      <td>8.60</td>\n",
              "      <td>9.82</td>\n",
              "      <td>9.68</td>\n",
              "      <td>NaN</td>\n",
              "      <td>NaN</td>\n",
              "      <td>9.22</td>\n",
              "      <td>8.72</td>\n",
              "      <td>6.46</td>\n",
              "      <td>8.56</td>\n",
              "    </tr>\n",
              "    <tr>\n",
              "      <th>470</th>\n",
              "      <td>2021</td>\n",
              "      <td>5</td>\n",
              "      <td>9</td>\n",
              "      <td>10</td>\n",
              "      <td>0</td>\n",
              "      <td>20210509</td>\n",
              "      <td>2021-05-09 10:00:00</td>\n",
              "      <td>2021-06-02</td>\n",
              "      <td>23</td>\n",
              "      <td>9.20</td>\n",
              "      <td>9.80</td>\n",
              "      <td>8.37</td>\n",
              "      <td>9.49</td>\n",
              "      <td>6.50</td>\n",
              "      <td>7.35</td>\n",
              "      <td>8.45</td>\n",
              "      <td>NaN</td>\n",
              "      <td>NaN</td>\n",
              "    </tr>\n",
              "    <tr>\n",
              "      <th>619</th>\n",
              "      <td>2021</td>\n",
              "      <td>5</td>\n",
              "      <td>16</td>\n",
              "      <td>12</td>\n",
              "      <td>0</td>\n",
              "      <td>20210516</td>\n",
              "      <td>2021-05-16 12:00:00</td>\n",
              "      <td>2021-06-08</td>\n",
              "      <td>22</td>\n",
              "      <td>5.76</td>\n",
              "      <td>7.67</td>\n",
              "      <td>9.49</td>\n",
              "      <td>9.89</td>\n",
              "      <td>9.10</td>\n",
              "      <td>8.75</td>\n",
              "      <td>8.44</td>\n",
              "      <td>NaN</td>\n",
              "      <td>NaN</td>\n",
              "    </tr>\n",
              "    <tr>\n",
              "      <th>293</th>\n",
              "      <td>2021</td>\n",
              "      <td>5</td>\n",
              "      <td>11</td>\n",
              "      <td>13</td>\n",
              "      <td>0</td>\n",
              "      <td>20210511</td>\n",
              "      <td>2021-05-11 13:00:00</td>\n",
              "      <td>2021-06-05</td>\n",
              "      <td>24</td>\n",
              "      <td>9.51</td>\n",
              "      <td>9.10</td>\n",
              "      <td>8.90</td>\n",
              "      <td>9.36</td>\n",
              "      <td>5.65</td>\n",
              "      <td>7.97</td>\n",
              "      <td>8.42</td>\n",
              "      <td>NaN</td>\n",
              "      <td>NaN</td>\n",
              "    </tr>\n",
              "    <tr>\n",
              "      <th>185</th>\n",
              "      <td>2021</td>\n",
              "      <td>5</td>\n",
              "      <td>17</td>\n",
              "      <td>12</td>\n",
              "      <td>30</td>\n",
              "      <td>20210517</td>\n",
              "      <td>2021-05-17 12:30:00</td>\n",
              "      <td>2021-06-02</td>\n",
              "      <td>15</td>\n",
              "      <td>9.21</td>\n",
              "      <td>9.55</td>\n",
              "      <td>8.19</td>\n",
              "      <td>8.62</td>\n",
              "      <td>6.62</td>\n",
              "      <td>8.20</td>\n",
              "      <td>8.40</td>\n",
              "      <td>NaN</td>\n",
              "      <td>NaN</td>\n",
              "    </tr>\n",
              "    <tr>\n",
              "      <th>...</th>\n",
              "      <td>...</td>\n",
              "      <td>...</td>\n",
              "      <td>...</td>\n",
              "      <td>...</td>\n",
              "      <td>...</td>\n",
              "      <td>...</td>\n",
              "      <td>...</td>\n",
              "      <td>...</td>\n",
              "      <td>...</td>\n",
              "      <td>...</td>\n",
              "      <td>...</td>\n",
              "      <td>...</td>\n",
              "      <td>...</td>\n",
              "      <td>...</td>\n",
              "      <td>...</td>\n",
              "      <td>...</td>\n",
              "      <td>...</td>\n",
              "      <td>...</td>\n",
              "    </tr>\n",
              "    <tr>\n",
              "      <th>883</th>\n",
              "      <td>2021</td>\n",
              "      <td>5</td>\n",
              "      <td>8</td>\n",
              "      <td>9</td>\n",
              "      <td>0</td>\n",
              "      <td>20210508</td>\n",
              "      <td>2021-05-08 09:00:00</td>\n",
              "      <td>2021-06-09</td>\n",
              "      <td>31</td>\n",
              "      <td>5.06</td>\n",
              "      <td>4.50</td>\n",
              "      <td>5.59</td>\n",
              "      <td>5.00</td>\n",
              "      <td>5.00</td>\n",
              "      <td>5.80</td>\n",
              "      <td>5.16</td>\n",
              "      <td>NaN</td>\n",
              "      <td>NaN</td>\n",
              "    </tr>\n",
              "    <tr>\n",
              "      <th>1295</th>\n",
              "      <td>2021</td>\n",
              "      <td>5</td>\n",
              "      <td>22</td>\n",
              "      <td>9</td>\n",
              "      <td>0</td>\n",
              "      <td>20210522</td>\n",
              "      <td>2021-05-22 09:00:00</td>\n",
              "      <td>2021-06-11</td>\n",
              "      <td>19</td>\n",
              "      <td>5.20</td>\n",
              "      <td>4.90</td>\n",
              "      <td>4.70</td>\n",
              "      <td>6.40</td>\n",
              "      <td>5.11</td>\n",
              "      <td>4.59</td>\n",
              "      <td>5.15</td>\n",
              "      <td>NaN</td>\n",
              "      <td>NaN</td>\n",
              "    </tr>\n",
              "    <tr>\n",
              "      <th>578</th>\n",
              "      <td>2021</td>\n",
              "      <td>5</td>\n",
              "      <td>17</td>\n",
              "      <td>13</td>\n",
              "      <td>0</td>\n",
              "      <td>20210517</td>\n",
              "      <td>2021-05-17 13:00:00</td>\n",
              "      <td>2021-06-12 00:00:00</td>\n",
              "      <td>25</td>\n",
              "      <td>4.43</td>\n",
              "      <td>4.75</td>\n",
              "      <td>5.06</td>\n",
              "      <td>NaN</td>\n",
              "      <td>NaN</td>\n",
              "      <td>4.77</td>\n",
              "      <td>5.11</td>\n",
              "      <td>6.24</td>\n",
              "      <td>5.41</td>\n",
              "    </tr>\n",
              "    <tr>\n",
              "      <th>384</th>\n",
              "      <td>2021</td>\n",
              "      <td>5</td>\n",
              "      <td>6</td>\n",
              "      <td>12</td>\n",
              "      <td>0</td>\n",
              "      <td>20210506</td>\n",
              "      <td>2021-05-06 12:00:00</td>\n",
              "      <td>2021-06-08</td>\n",
              "      <td>32</td>\n",
              "      <td>5.98</td>\n",
              "      <td>3.88</td>\n",
              "      <td>4.90</td>\n",
              "      <td>4.90</td>\n",
              "      <td>5.43</td>\n",
              "      <td>5.52</td>\n",
              "      <td>5.10</td>\n",
              "      <td>NaN</td>\n",
              "      <td>NaN</td>\n",
              "    </tr>\n",
              "    <tr>\n",
              "      <th>1481</th>\n",
              "      <td>2021</td>\n",
              "      <td>5</td>\n",
              "      <td>16</td>\n",
              "      <td>11</td>\n",
              "      <td>30</td>\n",
              "      <td>20210516</td>\n",
              "      <td>2021-05-16 11:30:00</td>\n",
              "      <td>2021-06-04 00:00:00</td>\n",
              "      <td>18</td>\n",
              "      <td>5.09</td>\n",
              "      <td>6.00</td>\n",
              "      <td>5.18</td>\n",
              "      <td>NaN</td>\n",
              "      <td>NaN</td>\n",
              "      <td>4.80</td>\n",
              "      <td>5.00</td>\n",
              "      <td>4.06</td>\n",
              "      <td>4.86</td>\n",
              "    </tr>\n",
              "  </tbody>\n",
              "</table>\n",
              "<p>4000 rows × 18 columns</p>\n",
              "</div>"
            ],
            "text/plain": [
              "       año  mes  dia  hora  min   dateInt   Date_start_horario  \\\n",
              "1404  2021    5   19     8   30  20210519  2021-05-19 08:30:00   \n",
              "470   2021    5    9    10    0  20210509  2021-05-09 10:00:00   \n",
              "619   2021    5   16    12    0  20210516  2021-05-16 12:00:00   \n",
              "293   2021    5   11    13    0  20210511  2021-05-11 13:00:00   \n",
              "185   2021    5   17    12   30  20210517  2021-05-17 12:30:00   \n",
              "...    ...  ...  ...   ...  ...       ...                  ...   \n",
              "883   2021    5    8     9    0  20210508  2021-05-08 09:00:00   \n",
              "1295  2021    5   22     9    0  20210522  2021-05-22 09:00:00   \n",
              "578   2021    5   17    13    0  20210517  2021-05-17 13:00:00   \n",
              "384   2021    5    6    12    0  20210506  2021-05-06 12:00:00   \n",
              "1481  2021    5   16    11   30  20210516  2021-05-16 11:30:00   \n",
              "\n",
              "      Date_start_Examenes  days_left  Lengua  Mates  Ingles  Dibujo  Fisica  \\\n",
              "1404  2021-06-07 00:00:00         18    8.60   9.82    9.68     NaN     NaN   \n",
              "470            2021-06-02         23    9.20   9.80    8.37    9.49    6.50   \n",
              "619            2021-06-08         22    5.76   7.67    9.49    9.89    9.10   \n",
              "293            2021-06-05         24    9.51   9.10    8.90    9.36    5.65   \n",
              "185            2021-06-02         15    9.21   9.55    8.19    8.62    6.62   \n",
              "...                   ...        ...     ...    ...     ...     ...     ...   \n",
              "883            2021-06-09         31    5.06   4.50    5.59    5.00    5.00   \n",
              "1295           2021-06-11         19    5.20   4.90    4.70    6.40    5.11   \n",
              "578   2021-06-12 00:00:00         25    4.43   4.75    5.06     NaN     NaN   \n",
              "384            2021-06-08         32    5.98   3.88    4.90    4.90    5.43   \n",
              "1481  2021-06-04 00:00:00         18    5.09   6.00    5.18     NaN     NaN   \n",
              "\n",
              "      Historia  media_troncales  Biologia  Quimica  \n",
              "1404      9.22             8.72      6.46     8.56  \n",
              "470       7.35             8.45       NaN      NaN  \n",
              "619       8.75             8.44       NaN      NaN  \n",
              "293       7.97             8.42       NaN      NaN  \n",
              "185       8.20             8.40       NaN      NaN  \n",
              "...        ...              ...       ...      ...  \n",
              "883       5.80             5.16       NaN      NaN  \n",
              "1295      4.59             5.15       NaN      NaN  \n",
              "578       4.77             5.11      6.24     5.41  \n",
              "384       5.52             5.10       NaN      NaN  \n",
              "1481      4.80             5.00      4.06     4.86  \n",
              "\n",
              "[4000 rows x 18 columns]"
            ]
          },
          "execution_count": 657,
          "metadata": {},
          "output_type": "execute_result"
        }
      ]
    },
    {
      "cell_type": "code",
      "metadata": {
        "id": "899849e0"
      },
      "source": [
        ""
      ],
      "id": "899849e0",
      "execution_count": null,
      "outputs": []
    },
    {
      "cell_type": "code",
      "metadata": {
        "id": "0ec5799e"
      },
      "source": [
        ""
      ],
      "id": "0ec5799e",
      "execution_count": null,
      "outputs": []
    },
    {
      "cell_type": "markdown",
      "metadata": {
        "id": "afe0455d"
      },
      "source": [
        "### regulando suspensos:"
      ],
      "id": "afe0455d"
    },
    {
      "cell_type": "code",
      "metadata": {
        "id": "8497df50",
        "outputId": "3fe29816-1aa2-46b4-87d2-6e50ff039418"
      },
      "source": [
        "random.randint(0, 2)"
      ],
      "id": "8497df50",
      "execution_count": null,
      "outputs": [
        {
          "data": {
            "text/plain": [
              "0"
            ]
          },
          "execution_count": 364,
          "metadata": {},
          "output_type": "execute_result"
        }
      ]
    },
    {
      "cell_type": "code",
      "metadata": {
        "id": "4cb0004f",
        "outputId": "bd041332-ce51-4951-fcd9-ad60e13392cb"
      },
      "source": [
        "suspensos=[5.10,4.75,4.15,4.50,4.80,4.59,4.55,5.35,5]\n",
        "\n",
        "def checksus(lista):\n",
        "    asignaturasHOYO=[]\n",
        "    ises=[]\n",
        "    for i in range(len(lista)):\n",
        "        if lista[i]<4.71:#antes 4.7\n",
        "            asignaturasHOYO.append(1)\n",
        "            ises.append(i)\n",
        "    return sum(asignaturasHOYO),ises\n",
        "(checksus(suspensos)[1])\n"
      ],
      "id": "4cb0004f",
      "execution_count": null,
      "outputs": [
        {
          "data": {
            "text/plain": [
              "[2, 3, 5, 6]"
            ]
          },
          "execution_count": 684,
          "metadata": {},
          "output_type": "execute_result"
        }
      ]
    },
    {
      "cell_type": "code",
      "metadata": {
        "id": "c04faf78",
        "outputId": "50cec339-f598-467d-d7e8-47446759b806"
      },
      "source": [
        "random.sample([2,3,6,8], 1)"
      ],
      "id": "c04faf78",
      "execution_count": null,
      "outputs": [
        {
          "data": {
            "text/plain": [
              "[8]"
            ]
          },
          "execution_count": 681,
          "metadata": {},
          "output_type": "execute_result"
        }
      ]
    },
    {
      "cell_type": "code",
      "metadata": {
        "scrolled": true,
        "id": "78f3a6ad",
        "outputId": "17793bf0-8aad-440c-9db9-8cc697bb349c"
      },
      "source": [
        "menosde5=[]\n",
        "for i,pos in enumerate(df2[[\"Lengua\",\"Mates\",\"Ingles\",\"Biologia\",\"Quimica\",\"Historia\"]].values.tolist()):\n",
        "    new_pos=pos\n",
        "    if checksus(pos)[0]>=2:\n",
        "        print(pos)\n",
        "        menosde5.append(pos)\n",
        "#alumnos con 2 o mas que tienen menos de 5\n",
        "        \n",
        "        \n",
        "\n"
      ],
      "id": "78f3a6ad",
      "execution_count": null,
      "outputs": [
        {
          "name": "stdout",
          "output_type": "stream",
          "text": [
            "[4.22, 6.88, 4.7, 5.9, 8.15, 4.95]\n",
            "[5.15, 4.7, 5.26, 4.22, 4.85, 6.85]\n",
            "[7.07, 4.98, 3.94, 5.35, 5.76, 4.7]\n",
            "[5.53, 6.55, 7.15, 4.19, 4.7, 4.76]\n",
            "[9.53, 4.3, 7.16, 4.7, 4.75, 6.33]\n",
            "[6.41, 7.73, 5.41, 9.2, 4.7, 4.55]\n",
            "[4.7, 4.75, 7.57, 5.5, 4.65, 5.9]\n",
            "[4.7, 6.72, 6.0, 7.34, 4.55, 5.0]\n",
            "[4.7, 4.68, 7.05, 6.54, 7.11, 6.76]\n",
            "[5.69, 5.29, 5.71, 6.09, 4.7, 4.42]\n"
          ]
        }
      ]
    },
    {
      "cell_type": "code",
      "metadata": {
        "id": "843e748e",
        "outputId": "22e7eea6-1f9d-46d3-9781-66b3e31f23ed"
      },
      "source": [
        "print(len(menosde5)/20,\"% de los alumnos tienen 2 o mas asignaturas con menos de un 4.72\")"
      ],
      "id": "843e748e",
      "execution_count": null,
      "outputs": [
        {
          "name": "stdout",
          "output_type": "stream",
          "text": [
            "0.5 % de los alumnos tienen 2 o mas asignaturas con menos de un 4.72\n"
          ]
        }
      ]
    },
    {
      "cell_type": "code",
      "metadata": {
        "id": "8fecdf99",
        "outputId": "e0e6dd65-f149-4910-f516-89cc665aaef1"
      },
      "source": [
        "print(len(menosde5)/20,\"% de los alumnos tienen 1 o mas asignaturas con menos de un 5\")"
      ],
      "id": "8fecdf99",
      "execution_count": null,
      "outputs": [
        {
          "name": "stdout",
          "output_type": "stream",
          "text": [
            "64.5 % de los alumnos tienen 2 o mas asignaturas con menos de un 4.72\n"
          ]
        }
      ]
    },
    {
      "cell_type": "markdown",
      "metadata": {
        "id": "fbe789e7"
      },
      "source": [
        "### arreglo no permitir mas de 2 notas seguidas menores a 4.7"
      ],
      "id": "fbe789e7"
    },
    {
      "cell_type": "code",
      "metadata": {
        "id": "503f6259"
      },
      "source": [
        "#suspensos=[5.05,4.95,5.10,5.00,4.90] estos para ==4 o menos\n",
        "suspensos=[5.05,4.95,4.65,4.70]\n",
        "new_values=[]\n",
        "for i,pos in enumerate(df2[[\"Lengua\",\"Mates\",\"Ingles\",\"Biologia\",\"Quimica\",\"Historia\"]].values.tolist()):\n",
        "    newpos=pos\n",
        "    if checksus(pos)[0]==5:\n",
        "        numbers=random.sample(checksus(pos)[1], 4)\n",
        "        for i3 in numbers:\n",
        "            newpos[i3]=random.choices(suspensos,weights=[1,1,1,1],k=1)[0]\n",
        "        new_values.append(newpos)\n",
        "    else:\n",
        "        new_values.append(pos)\n",
        "    \n",
        "df2[[\"Lengua\",\"Mates\",\"Ingles\",\"Biologia\",\"Quimica\",\"Historia\"]]=new_values\n",
        "\n"
      ],
      "id": "503f6259",
      "execution_count": null,
      "outputs": []
    },
    {
      "cell_type": "code",
      "metadata": {
        "id": "3609739b"
      },
      "source": [
        ""
      ],
      "id": "3609739b",
      "execution_count": null,
      "outputs": []
    },
    {
      "cell_type": "code",
      "metadata": {
        "id": "d043ad73"
      },
      "source": [
        "i1"
      ],
      "id": "d043ad73",
      "execution_count": null,
      "outputs": []
    },
    {
      "cell_type": "code",
      "metadata": {
        "id": "a776a949"
      },
      "source": [
        "df_BACH_CIENCIAS.to_csv(\"df_BACH_CIENCIAS.csv\",index=False)"
      ],
      "id": "a776a949",
      "execution_count": null,
      "outputs": []
    },
    {
      "cell_type": "code",
      "metadata": {
        "id": "e4424541",
        "outputId": "2b2427a5-c440-472c-9378-0f4cb5e9f706"
      },
      "source": [
        "df1[\"media_troncales\"].mean()"
      ],
      "id": "e4424541",
      "execution_count": null,
      "outputs": [
        {
          "data": {
            "text/plain": [
              "6.591584999999991"
            ]
          },
          "execution_count": 445,
          "metadata": {},
          "output_type": "execute_result"
        }
      ]
    },
    {
      "cell_type": "code",
      "metadata": {
        "id": "b2b6d2e2"
      },
      "source": [
        ""
      ],
      "id": "b2b6d2e2",
      "execution_count": null,
      "outputs": []
    }
  ]
}