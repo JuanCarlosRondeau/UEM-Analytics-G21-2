{
 "cells": [
  {
   "cell_type": "code",
   "execution_count": 1,
   "id": "e3c2cb00",
   "metadata": {},
   "outputs": [],
   "source": [
    "import matplotlib.pyplot as plt\n",
    "from kneed import KneeLocator\n",
    "from sklearn.datasets import make_blobs\n",
    "from sklearn.cluster import KMeans\n",
    "from sklearn.metrics import silhouette_score\n",
    "from sklearn.preprocessing import StandardScaler\n",
    "import tarfile\n",
    "import urllib\n",
    "import random\n",
    "import numpy as np\n",
    "import matplotlib.pyplot as plt\n",
    "import pandas as pd\n",
    "import seaborn as sns\n",
    "\n",
    "from sklearn.cluster import KMeans\n",
    "from sklearn.decomposition import PCA\n",
    "from sklearn.metrics import silhouette_score, adjusted_rand_score\n",
    "from sklearn.pipeline import Pipeline\n",
    "from sklearn.preprocessing import LabelEncoder, MinMaxScaler"
   ]
  },
  {
   "cell_type": "code",
   "execution_count": 2,
   "id": "1e2c661b",
   "metadata": {},
   "outputs": [],
   "source": [
    "# example of fitting a model on the scaled dataset\n",
    "from sklearn.datasets import make_blobs\n",
    "from sklearn.model_selection import train_test_split\n",
    "from sklearn.preprocessing import MinMaxScaler\n",
    "from sklearn.linear_model import LogisticRegression\n",
    "from pickle import dump\n",
    "from sklearn.datasets import make_blobs\n",
    "from sklearn.model_selection import train_test_split\n",
    "from sklearn.metrics import accuracy_score\n",
    "from pickle import load\n"
   ]
  },
  {
   "cell_type": "code",
   "execution_count": 59,
   "id": "99e3d60a",
   "metadata": {},
   "outputs": [
    {
     "data": {
      "text/html": [
       "<div>\n",
       "<style scoped>\n",
       "    .dataframe tbody tr th:only-of-type {\n",
       "        vertical-align: middle;\n",
       "    }\n",
       "\n",
       "    .dataframe tbody tr th {\n",
       "        vertical-align: top;\n",
       "    }\n",
       "\n",
       "    .dataframe thead th {\n",
       "        text-align: right;\n",
       "    }\n",
       "</style>\n",
       "<table border=\"1\" class=\"dataframe\">\n",
       "  <thead>\n",
       "    <tr style=\"text-align: right;\">\n",
       "      <th></th>\n",
       "      <th>days_left</th>\n",
       "      <th>Lengua</th>\n",
       "      <th>Mates</th>\n",
       "      <th>Ingles</th>\n",
       "      <th>Dibujo</th>\n",
       "      <th>Fisica</th>\n",
       "      <th>Historia</th>\n",
       "      <th>media_troncales</th>\n",
       "      <th>Biologia</th>\n",
       "      <th>Quimica</th>\n",
       "      <th>Mates_sociales</th>\n",
       "      <th>Economia</th>\n",
       "      <th>Geografia</th>\n",
       "      <th>tipo_bachillerato-Sanitario</th>\n",
       "      <th>tipo_bachillerato-Sociales</th>\n",
       "      <th>tipo_bachillerato-Tecnologico</th>\n",
       "    </tr>\n",
       "  </thead>\n",
       "  <tbody>\n",
       "    <tr>\n",
       "      <th>0</th>\n",
       "      <td>34</td>\n",
       "      <td>7.75</td>\n",
       "      <td>6.24</td>\n",
       "      <td>10.0</td>\n",
       "      <td>4.9</td>\n",
       "      <td>7.74</td>\n",
       "      <td>5.09</td>\n",
       "      <td>6.95</td>\n",
       "      <td>NaN</td>\n",
       "      <td>NaN</td>\n",
       "      <td>NaN</td>\n",
       "      <td>NaN</td>\n",
       "      <td>NaN</td>\n",
       "      <td>0</td>\n",
       "      <td>0</td>\n",
       "      <td>1</td>\n",
       "    </tr>\n",
       "  </tbody>\n",
       "</table>\n",
       "</div>"
      ],
      "text/plain": [
       "   days_left  Lengua  Mates  Ingles  Dibujo  Fisica  Historia  \\\n",
       "0         34    7.75   6.24    10.0     4.9    7.74      5.09   \n",
       "\n",
       "   media_troncales  Biologia  Quimica  Mates_sociales  Economia  Geografia  \\\n",
       "0             6.95       NaN      NaN             NaN       NaN        NaN   \n",
       "\n",
       "   tipo_bachillerato-Sanitario  tipo_bachillerato-Sociales  \\\n",
       "0                            0                           0   \n",
       "\n",
       "   tipo_bachillerato-Tecnologico  \n",
       "0                              1  "
      ]
     },
     "execution_count": 59,
     "metadata": {},
     "output_type": "execute_result"
    }
   ],
   "source": [
    "df1=pd.read_csv(\"df_BACH__manerauno.csv\")\n",
    "col=df1.columns.tolist()[8:]\n",
    "df1=df1[col]\n",
    "df1.head(1)"
   ]
  },
  {
   "cell_type": "code",
   "execution_count": 15,
   "id": "a59d728a",
   "metadata": {},
   "outputs": [
    {
     "data": {
      "text/plain": [
       "['Lengua', 'Mates', 'Ingles', 'Dibujo', 'Fisica', 'Historia']"
      ]
     },
     "execution_count": 15,
     "metadata": {},
     "output_type": "execute_result"
    }
   ],
   "source": [
    "df.columns.tolist()[1:7]"
   ]
  },
  {
   "cell_type": "code",
   "execution_count": 43,
   "id": "6158dabd",
   "metadata": {},
   "outputs": [
    {
     "data": {
      "text/html": [
       "<div>\n",
       "<style scoped>\n",
       "    .dataframe tbody tr th:only-of-type {\n",
       "        vertical-align: middle;\n",
       "    }\n",
       "\n",
       "    .dataframe tbody tr th {\n",
       "        vertical-align: top;\n",
       "    }\n",
       "\n",
       "    .dataframe thead th {\n",
       "        text-align: right;\n",
       "    }\n",
       "</style>\n",
       "<table border=\"1\" class=\"dataframe\">\n",
       "  <thead>\n",
       "    <tr style=\"text-align: right;\">\n",
       "      <th></th>\n",
       "      <th>days_left</th>\n",
       "      <th>Lengua</th>\n",
       "      <th>Mates</th>\n",
       "      <th>Ingles</th>\n",
       "      <th>Dibujo</th>\n",
       "      <th>Fisica</th>\n",
       "      <th>Historia</th>\n",
       "      <th>media_troncales</th>\n",
       "      <th>Biologia</th>\n",
       "      <th>Quimica</th>\n",
       "      <th>Mates_sociales</th>\n",
       "      <th>Economia</th>\n",
       "      <th>Geografia</th>\n",
       "      <th>tipo_bachillerato-Sanitario</th>\n",
       "      <th>tipo_bachillerato-Sociales</th>\n",
       "      <th>tipo_bachillerato-Tecnologico</th>\n",
       "    </tr>\n",
       "  </thead>\n",
       "  <tbody>\n",
       "    <tr>\n",
       "      <th>0</th>\n",
       "      <td>23</td>\n",
       "      <td>7.4</td>\n",
       "      <td>8.1</td>\n",
       "      <td>5.56</td>\n",
       "      <td>5.78</td>\n",
       "      <td>5.35</td>\n",
       "      <td>7.65</td>\n",
       "      <td>6.64</td>\n",
       "      <td>NaN</td>\n",
       "      <td>NaN</td>\n",
       "      <td>NaN</td>\n",
       "      <td>NaN</td>\n",
       "      <td>NaN</td>\n",
       "      <td>0</td>\n",
       "      <td>0</td>\n",
       "      <td>1</td>\n",
       "    </tr>\n",
       "  </tbody>\n",
       "</table>\n",
       "</div>"
      ],
      "text/plain": [
       "   days_left  Lengua  Mates  Ingles  Dibujo  Fisica  Historia  \\\n",
       "0         23     7.4    8.1    5.56    5.78    5.35      7.65   \n",
       "\n",
       "   media_troncales  Biologia  Quimica  Mates_sociales  Economia  Geografia  \\\n",
       "0             6.64       NaN      NaN             NaN       NaN        NaN   \n",
       "\n",
       "   tipo_bachillerato-Sanitario  tipo_bachillerato-Sociales  \\\n",
       "0                            0                           0   \n",
       "\n",
       "   tipo_bachillerato-Tecnologico  \n",
       "0                              1  "
      ]
     },
     "execution_count": 43,
     "metadata": {},
     "output_type": "execute_result"
    }
   ],
   "source": [
    "df = pd.DataFrame([[23,7.4,8.1,5.56,5.78,5.35,7.65,np.nan,np.nan,np.nan,np.nan,np.nan,np.nan,0,0,1]])\n",
    "df.columns=df1.columns\n",
    "df['media_troncales'] = df[df.columns.tolist()[1:7]].mean(axis=1)\n",
    "df"
   ]
  },
  {
   "cell_type": "code",
   "execution_count": 60,
   "id": "9482e2bf",
   "metadata": {},
   "outputs": [
    {
     "data": {
      "text/html": [
       "<div>\n",
       "<style scoped>\n",
       "    .dataframe tbody tr th:only-of-type {\n",
       "        vertical-align: middle;\n",
       "    }\n",
       "\n",
       "    .dataframe tbody tr th {\n",
       "        vertical-align: top;\n",
       "    }\n",
       "\n",
       "    .dataframe thead th {\n",
       "        text-align: right;\n",
       "    }\n",
       "</style>\n",
       "<table border=\"1\" class=\"dataframe\">\n",
       "  <thead>\n",
       "    <tr style=\"text-align: right;\">\n",
       "      <th></th>\n",
       "      <th>days_left</th>\n",
       "      <th>Lengua</th>\n",
       "      <th>Mates</th>\n",
       "      <th>Ingles</th>\n",
       "      <th>Dibujo</th>\n",
       "      <th>Fisica</th>\n",
       "      <th>Historia</th>\n",
       "      <th>media_troncales</th>\n",
       "      <th>Biologia</th>\n",
       "      <th>Quimica</th>\n",
       "      <th>Mates_sociales</th>\n",
       "      <th>Economia</th>\n",
       "      <th>Geografia</th>\n",
       "      <th>tipo_bachillerato-Sanitario</th>\n",
       "      <th>tipo_bachillerato-Sociales</th>\n",
       "      <th>tipo_bachillerato-Tecnologico</th>\n",
       "    </tr>\n",
       "  </thead>\n",
       "  <tbody>\n",
       "    <tr>\n",
       "      <th>0</th>\n",
       "      <td>23</td>\n",
       "      <td>7.40</td>\n",
       "      <td>8.10</td>\n",
       "      <td>5.56</td>\n",
       "      <td>5.78</td>\n",
       "      <td>5.35</td>\n",
       "      <td>7.65</td>\n",
       "      <td>6.64</td>\n",
       "      <td>NaN</td>\n",
       "      <td>NaN</td>\n",
       "      <td>NaN</td>\n",
       "      <td>NaN</td>\n",
       "      <td>NaN</td>\n",
       "      <td>0</td>\n",
       "      <td>0</td>\n",
       "      <td>1</td>\n",
       "    </tr>\n",
       "    <tr>\n",
       "      <th>0</th>\n",
       "      <td>34</td>\n",
       "      <td>7.75</td>\n",
       "      <td>6.24</td>\n",
       "      <td>10.00</td>\n",
       "      <td>4.90</td>\n",
       "      <td>7.74</td>\n",
       "      <td>5.09</td>\n",
       "      <td>6.95</td>\n",
       "      <td>NaN</td>\n",
       "      <td>NaN</td>\n",
       "      <td>NaN</td>\n",
       "      <td>NaN</td>\n",
       "      <td>NaN</td>\n",
       "      <td>0</td>\n",
       "      <td>0</td>\n",
       "      <td>1</td>\n",
       "    </tr>\n",
       "  </tbody>\n",
       "</table>\n",
       "</div>"
      ],
      "text/plain": [
       "   days_left  Lengua  Mates  Ingles  Dibujo  Fisica  Historia  \\\n",
       "0         23    7.40   8.10    5.56    5.78    5.35      7.65   \n",
       "0         34    7.75   6.24   10.00    4.90    7.74      5.09   \n",
       "\n",
       "   media_troncales  Biologia  Quimica  Mates_sociales  Economia  Geografia  \\\n",
       "0             6.64       NaN      NaN             NaN       NaN        NaN   \n",
       "0             6.95       NaN      NaN             NaN       NaN        NaN   \n",
       "\n",
       "   tipo_bachillerato-Sanitario  tipo_bachillerato-Sociales  \\\n",
       "0                            0                           0   \n",
       "0                            0                           0   \n",
       "\n",
       "   tipo_bachillerato-Tecnologico  \n",
       "0                              1  \n",
       "0                              1  "
      ]
     },
     "execution_count": 60,
     "metadata": {},
     "output_type": "execute_result"
    }
   ],
   "source": [
    "df1=pd.concat([df,df1.head(1)])\n",
    "df1"
   ]
  },
  {
   "cell_type": "code",
   "execution_count": 61,
   "id": "03ccfbc7",
   "metadata": {},
   "outputs": [],
   "source": [
    "df1.to_csv(\"prediccion_manera1_modelo3_kmeans22_pca1.csv\",index=False)"
   ]
  },
  {
   "cell_type": "code",
   "execution_count": 62,
   "id": "e7102c94",
   "metadata": {},
   "outputs": [
    {
     "data": {
      "text/plain": [
       "array([[ 7.4 ,  8.1 ,  5.56,  5.78,  5.35,  7.65,  6.64,  0.  ,  0.  ,\n",
       "         0.  ,  0.  ,  0.  ,  0.  ,  0.  ,  1.  ],\n",
       "       [ 7.75,  6.24, 10.  ,  4.9 ,  7.74,  5.09,  6.95,  0.  ,  0.  ,\n",
       "         0.  ,  0.  ,  0.  ,  0.  ,  0.  ,  1.  ]])"
      ]
     },
     "execution_count": 62,
     "metadata": {},
     "output_type": "execute_result"
    }
   ],
   "source": [
    "\n",
    "datafile='prediccion_manera1_modelo3_kmeans22_pca1.csv'\n",
    "data = np.genfromtxt( #csv to array\n",
    "    datafile,\n",
    "    delimiter=\",\",\n",
    "    usecols=range(1, 16),#tomar el array a partir de la columna 8, a partir de days_left\n",
    "    skip_header=1\n",
    ")\n",
    "data=np.nan_to_num(data)\n",
    "#data=data.reshape(1, -1)#si solo hay un dato\n",
    "data"
   ]
  },
  {
   "cell_type": "code",
   "execution_count": 36,
   "id": "642f12dc",
   "metadata": {},
   "outputs": [
    {
     "data": {
      "text/plain": [
       "array([12])"
      ]
     },
     "execution_count": 36,
     "metadata": {},
     "output_type": "execute_result"
    }
   ],
   "source": [
    "pipe.predict(data)"
   ]
  },
  {
   "cell_type": "code",
   "execution_count": 63,
   "id": "61073c95",
   "metadata": {},
   "outputs": [
    {
     "data": {
      "text/html": [
       "<div>\n",
       "<style scoped>\n",
       "    .dataframe tbody tr th:only-of-type {\n",
       "        vertical-align: middle;\n",
       "    }\n",
       "\n",
       "    .dataframe tbody tr th {\n",
       "        vertical-align: top;\n",
       "    }\n",
       "\n",
       "    .dataframe thead th {\n",
       "        text-align: right;\n",
       "    }\n",
       "</style>\n",
       "<table border=\"1\" class=\"dataframe\">\n",
       "  <thead>\n",
       "    <tr style=\"text-align: right;\">\n",
       "      <th></th>\n",
       "      <th>0</th>\n",
       "      <th>predicted_cluster</th>\n",
       "    </tr>\n",
       "  </thead>\n",
       "  <tbody>\n",
       "    <tr>\n",
       "      <th>0</th>\n",
       "      <td>-0.642417</td>\n",
       "      <td>4</td>\n",
       "    </tr>\n",
       "    <tr>\n",
       "      <th>1</th>\n",
       "      <td>-0.605663</td>\n",
       "      <td>20</td>\n",
       "    </tr>\n",
       "  </tbody>\n",
       "</table>\n",
       "</div>"
      ],
      "text/plain": [
       "          0  predicted_cluster\n",
       "0 -0.642417                  4\n",
       "1 -0.605663                 20"
      ]
     },
     "execution_count": 63,
     "metadata": {},
     "output_type": "execute_result"
    }
   ],
   "source": [
    "pipe = load(open('manera1_modelo3_kmeans22_pca1.pkl', 'rb'))\n",
    "pcadf = pd.DataFrame(\n",
    "    pipe[\"preprocessor\"].transform(data),\n",
    "    #columns=[\"component_1\", \"component_2\", \"component_3\",\"component_4\", \"component_5\",\"component_6\"],\n",
    ")\n",
    "\n",
    "pcadf[\"predicted_cluster\"] = pipe.predict(data)\n",
    "pcadf.head()"
   ]
  },
  {
   "cell_type": "code",
   "execution_count": null,
   "id": "dfbd1f98",
   "metadata": {},
   "outputs": [],
   "source": []
  }
 ],
 "metadata": {
  "kernelspec": {
   "display_name": "Python 3",
   "language": "python",
   "name": "python3"
  },
  "language_info": {
   "codemirror_mode": {
    "name": "ipython",
    "version": 3
   },
   "file_extension": ".py",
   "mimetype": "text/x-python",
   "name": "python",
   "nbconvert_exporter": "python",
   "pygments_lexer": "ipython3",
   "version": "3.8.8"
  }
 },
 "nbformat": 4,
 "nbformat_minor": 5
}
